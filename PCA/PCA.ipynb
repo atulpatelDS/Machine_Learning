{
 "cells": [
  {
   "cell_type": "markdown",
   "metadata": {},
   "source": [
    "###  Principal Component Analysis ( PCA) \n",
    "is generally used as an unsupervised algorithm for reducing the data dimensions to address Curse of Dimensionality, detecting outliers, removing noise, speech recognition and other such areas.\n",
    "\n",
    "The underlying algorithm in PCA is generally a linear algebra technique called Singular Value Decomposition (SVD). PCAs take the original data and create orthogonal components (uncorrelated components) that capture the information contained in the original data however with significantly less number of components.\n",
    "\n",
    "Either the components themselves or  key loading of the components can be plugged in any further modeling work, rather than the original data to minimize information redundancy and noise.\n",
    "\n",
    "There are three main ways to select the right number of components-\n",
    "\n",
    "1. Number of components should explain at least 80% of the original data variance or information [Preferred One]\n",
    "2. Eigen value of each PCA component should be more than or equal to 1. This means that they should express at least one variable worth of information\n",
    "3. Elbow or Scree method- look for the elbow in the percentage of variance explained by each components and select the components where an elbow or kink is visible.\n",
    "\n",
    "Please refer below to understad PCA with SPECTF dataset from UCI machine.\n"
   ]
  },
  {
   "cell_type": "markdown",
   "metadata": {},
   "source": [
    "### Classify patients based on Cardiac health\n",
    "\n",
    "**Dataset information**\n",
    "[**SPECTF**](https://archive.ics.uci.edu/ml/machine-learning-databases/spect/) dataset from UCI machine learning repository\n",
    "\n",
    "   The dataset describes diagnosing of cardiac Single Proton Emission Computed Tomography (SPECT) images.\n",
    "   Each of the patients is classified into two categories: normal and abnormal.\n",
    "   The database of 267 SPECT image sets (patients) was processed to extract features that summarize the original SPECT images.\n",
    "   As a result, 44 continuous feature pattern was created for each patient."
   ]
  },
  {
   "cell_type": "markdown",
   "metadata": {},
   "source": [
    "**Number of Instances**: 267, **Number of Attributes**: 45 (44 continuous + 1 binary class)\n",
    "\n",
    "All attributes are different regions of interest while in rest and stress.\n",
    "1. OVERALL_DIAGNOSIS: 0,1 (class attribute, binary)\n",
    "2. F1R: continuous (count in ROI (region of interest) 1 in rest)\n",
    "3. F1S: continuous (count in ROI 1 in\n",
    "4. F2R: continuous (count in ROI 2 in\n",
    "5. F2S: continuous (count in ROI 2 in stress)\n",
    "6. F3R: continuous (count in ROI 3 in\n",
    "7. F3S: continuous (count in ROI 3 in\n",
    "8. F4R: continuous (count in ROI 4 in\n",
    "9. F4S: continuous (count in ROI 4 in stress)\n",
    "10. F5R: continuous (count in ROI 5 in rest)\n",
    "11. F5S: continuous (count in ROI 5 in\n",
    "12. F6R: continuous (count in ROI 6 in)\n",
    "13. F6S: continuous (count in ROI 6 in\n",
    "14. F7R: continuous (count in ROI 7 in rest)\n",
    "15. F7S: continuous (count in ROI 7 in stress)\n",
    "16. F8R: continuous (count in ROI 8 in rest)\n",
    "17. F8S: continuous (count in ROI 8 in stress)\n",
    "18. F9R: continuous (count in ROI 9 in rest)\n",
    "19. F9S: continuous (count in ROI 9 in\n",
    "20. F10R: continuous (count in ROI 10 in\n",
    "21. F10S: continuous (count in ROI 10 in stress)\n",
    "22. F11R: continuous (count in ROI 11 in rest)\n",
    "23. F11S: continuous (count in ROI 11 in stress\n",
    "24. F12R: continuous (count in ROI 12 in\n",
    "25. F12S: continuous (count in ROI 12 in stress)\n",
    "26. F13R: continuous (count in ROI 13 in rest)\n",
    "27. F13S: continuous (count in ROI 13 in stress)\n",
    "28. F14R: continuous (count in ROI 14 in rest)\n",
    "29. F14S: continuous (count in ROI 14 in stress)\n",
    "30. F15R: continuous (count in ROI 15 in rest\n",
    "31. F15S: continuous (count in ROI 15 in\n",
    "32. F16R: continuous (count in ROI 16 in rest)\n",
    "33. F16S: continuous (count in ROI 16 in stress)\n",
    "34. F17R: continuous (count in ROI 17 in rest)\n",
    "35. F17S: continuous (count in ROI 17 in stress)\n",
    "36. F18R: continuous (count in ROI 18 in\n",
    "37. F18S: continuous (count in ROI 18 in stress)\n",
    "38. F19R: continuous (count in ROI 19 in rest)\n",
    "39. F19S: continuous (count in ROI 19 in stress)\n",
    "40. F20R: continuous (count in ROI 20 in rest)\n",
    "41. F20S: continuous (count in ROI 20 in stress)\n",
    "42. F21R: continuous (count in ROI 21 in rest)\n",
    "43. F21S: continuous (count in ROI 21 in stress)\n",
    "44. F22R: continuous (count in ROI 22 in rest)\n",
    "45. F22S: continuous (count in ROI 22 in stress)"
   ]
  },
  {
   "cell_type": "markdown",
   "metadata": {},
   "source": [
    "1. all continuous attributes have integer values from the 0 to 100\n",
    "2. dataset is divided into:\n",
    "   **training data** (\"SPECTF.train\" 80 instances)\n",
    "   **testing data**  (\"SPECTF.test\" 187 instances)\n",
    "\n",
    "3. We are using test dataset to just verift the PCA and lets see how we can reduce the attribute in the dataset which can explain more than 80% data variance"
   ]
  },
  {
   "cell_type": "code",
   "execution_count": 1,
   "metadata": {},
   "outputs": [],
   "source": [
    "import numpy as np\n",
    "import pandas as pd\n",
    "import matplotlib.pyplot as plt\n",
    "plt.style.use('fivethirtyeight')\n",
    "import seaborn as sns\n",
    "import time\n",
    "import random\n",
    "%matplotlib inline"
   ]
  },
  {
   "cell_type": "code",
   "execution_count": 2,
   "metadata": {},
   "outputs": [],
   "source": [
    "url = \"https://archive.ics.uci.edu/ml/machine-learning-databases/spect/SPECTF.test\""
   ]
  },
  {
   "cell_type": "code",
   "execution_count": 3,
   "metadata": {},
   "outputs": [],
   "source": [
    "### Dataset does not have column name mentioned so we need to manually add the column name while importing the data\n",
    "col_name = ['target', 'F1R', 'F1S', 'F2R', 'F2S', 'F3R', 'F3S', 'F4R', 'F4S', 'F5R','F5S','F6R','F6S','F7R','F7S','F8R','F8S','F9R','F9S','F10R',\n",
    "    'F10S',  'F11R','F11S','F12R','F12S','F13R','F13S','F14R','F14S','F15R','F15S','F16R','F16S','F17R','F17S','F18R','F18S','F19R','F19S',   'F20R',\n",
    "    'F20S','F21R','F21S','F22R','F22S']"
   ]
  },
  {
   "cell_type": "code",
   "execution_count": 4,
   "metadata": {},
   "outputs": [
    {
     "data": {
      "text/plain": [
       "45"
      ]
     },
     "execution_count": 4,
     "metadata": {},
     "output_type": "execute_result"
    }
   ],
   "source": [
    "len(col_name)"
   ]
  },
  {
   "cell_type": "code",
   "execution_count": 5,
   "metadata": {},
   "outputs": [],
   "source": [
    "df_spectf = pd.read_table(url,sep=\",\",names= col_name)"
   ]
  },
  {
   "cell_type": "code",
   "execution_count": 6,
   "metadata": {},
   "outputs": [
    {
     "data": {
      "text/html": [
       "<div>\n",
       "<style scoped>\n",
       "    .dataframe tbody tr th:only-of-type {\n",
       "        vertical-align: middle;\n",
       "    }\n",
       "\n",
       "    .dataframe tbody tr th {\n",
       "        vertical-align: top;\n",
       "    }\n",
       "\n",
       "    .dataframe thead th {\n",
       "        text-align: right;\n",
       "    }\n",
       "</style>\n",
       "<table border=\"1\" class=\"dataframe\">\n",
       "  <thead>\n",
       "    <tr style=\"text-align: right;\">\n",
       "      <th></th>\n",
       "      <th>target</th>\n",
       "      <th>F1R</th>\n",
       "      <th>F1S</th>\n",
       "      <th>F2R</th>\n",
       "      <th>F2S</th>\n",
       "      <th>F3R</th>\n",
       "      <th>F3S</th>\n",
       "      <th>F4R</th>\n",
       "      <th>F4S</th>\n",
       "      <th>F5R</th>\n",
       "      <th>...</th>\n",
       "      <th>F18R</th>\n",
       "      <th>F18S</th>\n",
       "      <th>F19R</th>\n",
       "      <th>F19S</th>\n",
       "      <th>F20R</th>\n",
       "      <th>F20S</th>\n",
       "      <th>F21R</th>\n",
       "      <th>F21S</th>\n",
       "      <th>F22R</th>\n",
       "      <th>F22S</th>\n",
       "    </tr>\n",
       "  </thead>\n",
       "  <tbody>\n",
       "    <tr>\n",
       "      <th>0</th>\n",
       "      <td>1</td>\n",
       "      <td>67</td>\n",
       "      <td>68</td>\n",
       "      <td>73</td>\n",
       "      <td>78</td>\n",
       "      <td>65</td>\n",
       "      <td>63</td>\n",
       "      <td>67</td>\n",
       "      <td>60</td>\n",
       "      <td>63</td>\n",
       "      <td>...</td>\n",
       "      <td>61</td>\n",
       "      <td>56</td>\n",
       "      <td>76</td>\n",
       "      <td>75</td>\n",
       "      <td>74</td>\n",
       "      <td>77</td>\n",
       "      <td>76</td>\n",
       "      <td>74</td>\n",
       "      <td>59</td>\n",
       "      <td>68</td>\n",
       "    </tr>\n",
       "    <tr>\n",
       "      <th>1</th>\n",
       "      <td>1</td>\n",
       "      <td>75</td>\n",
       "      <td>74</td>\n",
       "      <td>71</td>\n",
       "      <td>71</td>\n",
       "      <td>62</td>\n",
       "      <td>58</td>\n",
       "      <td>70</td>\n",
       "      <td>64</td>\n",
       "      <td>71</td>\n",
       "      <td>...</td>\n",
       "      <td>66</td>\n",
       "      <td>62</td>\n",
       "      <td>68</td>\n",
       "      <td>69</td>\n",
       "      <td>69</td>\n",
       "      <td>66</td>\n",
       "      <td>64</td>\n",
       "      <td>58</td>\n",
       "      <td>57</td>\n",
       "      <td>52</td>\n",
       "    </tr>\n",
       "    <tr>\n",
       "      <th>2</th>\n",
       "      <td>1</td>\n",
       "      <td>83</td>\n",
       "      <td>64</td>\n",
       "      <td>66</td>\n",
       "      <td>67</td>\n",
       "      <td>67</td>\n",
       "      <td>74</td>\n",
       "      <td>74</td>\n",
       "      <td>72</td>\n",
       "      <td>64</td>\n",
       "      <td>...</td>\n",
       "      <td>67</td>\n",
       "      <td>64</td>\n",
       "      <td>69</td>\n",
       "      <td>63</td>\n",
       "      <td>68</td>\n",
       "      <td>54</td>\n",
       "      <td>65</td>\n",
       "      <td>64</td>\n",
       "      <td>43</td>\n",
       "      <td>42</td>\n",
       "    </tr>\n",
       "    <tr>\n",
       "      <th>3</th>\n",
       "      <td>1</td>\n",
       "      <td>72</td>\n",
       "      <td>66</td>\n",
       "      <td>65</td>\n",
       "      <td>65</td>\n",
       "      <td>64</td>\n",
       "      <td>61</td>\n",
       "      <td>71</td>\n",
       "      <td>78</td>\n",
       "      <td>73</td>\n",
       "      <td>...</td>\n",
       "      <td>69</td>\n",
       "      <td>68</td>\n",
       "      <td>68</td>\n",
       "      <td>63</td>\n",
       "      <td>71</td>\n",
       "      <td>72</td>\n",
       "      <td>65</td>\n",
       "      <td>63</td>\n",
       "      <td>58</td>\n",
       "      <td>60</td>\n",
       "    </tr>\n",
       "    <tr>\n",
       "      <th>4</th>\n",
       "      <td>1</td>\n",
       "      <td>62</td>\n",
       "      <td>60</td>\n",
       "      <td>69</td>\n",
       "      <td>61</td>\n",
       "      <td>63</td>\n",
       "      <td>63</td>\n",
       "      <td>70</td>\n",
       "      <td>68</td>\n",
       "      <td>70</td>\n",
       "      <td>...</td>\n",
       "      <td>66</td>\n",
       "      <td>66</td>\n",
       "      <td>58</td>\n",
       "      <td>56</td>\n",
       "      <td>72</td>\n",
       "      <td>73</td>\n",
       "      <td>71</td>\n",
       "      <td>64</td>\n",
       "      <td>49</td>\n",
       "      <td>42</td>\n",
       "    </tr>\n",
       "  </tbody>\n",
       "</table>\n",
       "<p>5 rows × 45 columns</p>\n",
       "</div>"
      ],
      "text/plain": [
       "   target  F1R  F1S  F2R  F2S  F3R  F3S  F4R  F4S  F5R  ...  F18R  F18S  F19R  \\\n",
       "0       1   67   68   73   78   65   63   67   60   63  ...    61    56    76   \n",
       "1       1   75   74   71   71   62   58   70   64   71  ...    66    62    68   \n",
       "2       1   83   64   66   67   67   74   74   72   64  ...    67    64    69   \n",
       "3       1   72   66   65   65   64   61   71   78   73  ...    69    68    68   \n",
       "4       1   62   60   69   61   63   63   70   68   70  ...    66    66    58   \n",
       "\n",
       "   F19S  F20R  F20S  F21R  F21S  F22R  F22S  \n",
       "0    75    74    77    76    74    59    68  \n",
       "1    69    69    66    64    58    57    52  \n",
       "2    63    68    54    65    64    43    42  \n",
       "3    63    71    72    65    63    58    60  \n",
       "4    56    72    73    71    64    49    42  \n",
       "\n",
       "[5 rows x 45 columns]"
      ]
     },
     "execution_count": 6,
     "metadata": {},
     "output_type": "execute_result"
    }
   ],
   "source": [
    "df_spectf.head()"
   ]
  },
  {
   "cell_type": "code",
   "execution_count": 7,
   "metadata": {},
   "outputs": [
    {
     "name": "stdout",
     "output_type": "stream",
     "text": [
      "<class 'pandas.core.frame.DataFrame'>\n",
      "RangeIndex: 187 entries, 0 to 186\n",
      "Data columns (total 45 columns):\n",
      " #   Column  Non-Null Count  Dtype\n",
      "---  ------  --------------  -----\n",
      " 0   target  187 non-null    int64\n",
      " 1   F1R     187 non-null    int64\n",
      " 2   F1S     187 non-null    int64\n",
      " 3   F2R     187 non-null    int64\n",
      " 4   F2S     187 non-null    int64\n",
      " 5   F3R     187 non-null    int64\n",
      " 6   F3S     187 non-null    int64\n",
      " 7   F4R     187 non-null    int64\n",
      " 8   F4S     187 non-null    int64\n",
      " 9   F5R     187 non-null    int64\n",
      " 10  F5S     187 non-null    int64\n",
      " 11  F6R     187 non-null    int64\n",
      " 12  F6S     187 non-null    int64\n",
      " 13  F7R     187 non-null    int64\n",
      " 14  F7S     187 non-null    int64\n",
      " 15  F8R     187 non-null    int64\n",
      " 16  F8S     187 non-null    int64\n",
      " 17  F9R     187 non-null    int64\n",
      " 18  F9S     187 non-null    int64\n",
      " 19  F10R    187 non-null    int64\n",
      " 20  F10S    187 non-null    int64\n",
      " 21  F11R    187 non-null    int64\n",
      " 22  F11S    187 non-null    int64\n",
      " 23  F12R    187 non-null    int64\n",
      " 24  F12S    187 non-null    int64\n",
      " 25  F13R    187 non-null    int64\n",
      " 26  F13S    187 non-null    int64\n",
      " 27  F14R    187 non-null    int64\n",
      " 28  F14S    187 non-null    int64\n",
      " 29  F15R    187 non-null    int64\n",
      " 30  F15S    187 non-null    int64\n",
      " 31  F16R    187 non-null    int64\n",
      " 32  F16S    187 non-null    int64\n",
      " 33  F17R    187 non-null    int64\n",
      " 34  F17S    187 non-null    int64\n",
      " 35  F18R    187 non-null    int64\n",
      " 36  F18S    187 non-null    int64\n",
      " 37  F19R    187 non-null    int64\n",
      " 38  F19S    187 non-null    int64\n",
      " 39  F20R    187 non-null    int64\n",
      " 40  F20S    187 non-null    int64\n",
      " 41  F21R    187 non-null    int64\n",
      " 42  F21S    187 non-null    int64\n",
      " 43  F22R    187 non-null    int64\n",
      " 44  F22S    187 non-null    int64\n",
      "dtypes: int64(45)\n",
      "memory usage: 65.9 KB\n"
     ]
    }
   ],
   "source": [
    "df_spectf.info()"
   ]
  },
  {
   "cell_type": "code",
   "execution_count": 8,
   "metadata": {},
   "outputs": [
    {
     "data": {
      "text/plain": [
       "(187, 45)"
      ]
     },
     "execution_count": 8,
     "metadata": {},
     "output_type": "execute_result"
    }
   ],
   "source": [
    "df_spectf.shape"
   ]
  },
  {
   "cell_type": "code",
   "execution_count": 9,
   "metadata": {},
   "outputs": [
    {
     "data": {
      "text/plain": [
       "pandas.core.frame.DataFrame"
      ]
     },
     "execution_count": 9,
     "metadata": {},
     "output_type": "execute_result"
    }
   ],
   "source": [
    "type(df_spectf)"
   ]
  },
  {
   "cell_type": "markdown",
   "metadata": {},
   "source": [
    "Dataset has 187 records and 45 variables including target variable"
   ]
  },
  {
   "cell_type": "code",
   "execution_count": 10,
   "metadata": {},
   "outputs": [
    {
     "data": {
      "text/html": [
       "<div>\n",
       "<style scoped>\n",
       "    .dataframe tbody tr th:only-of-type {\n",
       "        vertical-align: middle;\n",
       "    }\n",
       "\n",
       "    .dataframe tbody tr th {\n",
       "        vertical-align: top;\n",
       "    }\n",
       "\n",
       "    .dataframe thead th {\n",
       "        text-align: right;\n",
       "    }\n",
       "</style>\n",
       "<table border=\"1\" class=\"dataframe\">\n",
       "  <thead>\n",
       "    <tr style=\"text-align: right;\">\n",
       "      <th></th>\n",
       "      <th>target</th>\n",
       "      <th>F1R</th>\n",
       "      <th>F1S</th>\n",
       "      <th>F2R</th>\n",
       "      <th>F2S</th>\n",
       "      <th>F3R</th>\n",
       "      <th>F3S</th>\n",
       "      <th>F4R</th>\n",
       "      <th>F4S</th>\n",
       "      <th>F5R</th>\n",
       "      <th>...</th>\n",
       "      <th>F18R</th>\n",
       "      <th>F18S</th>\n",
       "      <th>F19R</th>\n",
       "      <th>F19S</th>\n",
       "      <th>F20R</th>\n",
       "      <th>F20S</th>\n",
       "      <th>F21R</th>\n",
       "      <th>F21S</th>\n",
       "      <th>F22R</th>\n",
       "      <th>F22S</th>\n",
       "    </tr>\n",
       "  </thead>\n",
       "  <tbody>\n",
       "    <tr>\n",
       "      <th>target</th>\n",
       "      <td>1.000000</td>\n",
       "      <td>-0.033205</td>\n",
       "      <td>-0.072310</td>\n",
       "      <td>-0.047347</td>\n",
       "      <td>-0.100783</td>\n",
       "      <td>-0.162407</td>\n",
       "      <td>-0.218370</td>\n",
       "      <td>-0.084463</td>\n",
       "      <td>-0.117129</td>\n",
       "      <td>-0.109763</td>\n",
       "      <td>...</td>\n",
       "      <td>-0.103840</td>\n",
       "      <td>-0.122409</td>\n",
       "      <td>-0.060936</td>\n",
       "      <td>-0.069405</td>\n",
       "      <td>-0.158235</td>\n",
       "      <td>-0.180498</td>\n",
       "      <td>-0.201578</td>\n",
       "      <td>-0.233921</td>\n",
       "      <td>-0.224858</td>\n",
       "      <td>-0.213390</td>\n",
       "    </tr>\n",
       "    <tr>\n",
       "      <th>F1R</th>\n",
       "      <td>-0.033205</td>\n",
       "      <td>1.000000</td>\n",
       "      <td>0.601643</td>\n",
       "      <td>0.380365</td>\n",
       "      <td>0.376806</td>\n",
       "      <td>0.184712</td>\n",
       "      <td>0.208528</td>\n",
       "      <td>0.599774</td>\n",
       "      <td>0.424983</td>\n",
       "      <td>0.549938</td>\n",
       "      <td>...</td>\n",
       "      <td>0.422417</td>\n",
       "      <td>0.330402</td>\n",
       "      <td>0.317041</td>\n",
       "      <td>0.255071</td>\n",
       "      <td>0.451074</td>\n",
       "      <td>0.327409</td>\n",
       "      <td>0.089097</td>\n",
       "      <td>0.097360</td>\n",
       "      <td>0.021205</td>\n",
       "      <td>0.050646</td>\n",
       "    </tr>\n",
       "    <tr>\n",
       "      <th>F1S</th>\n",
       "      <td>-0.072310</td>\n",
       "      <td>0.601643</td>\n",
       "      <td>1.000000</td>\n",
       "      <td>0.271874</td>\n",
       "      <td>0.455517</td>\n",
       "      <td>0.055241</td>\n",
       "      <td>0.317336</td>\n",
       "      <td>0.415818</td>\n",
       "      <td>0.519327</td>\n",
       "      <td>0.455041</td>\n",
       "      <td>...</td>\n",
       "      <td>0.377079</td>\n",
       "      <td>0.418680</td>\n",
       "      <td>0.299668</td>\n",
       "      <td>0.517828</td>\n",
       "      <td>0.396013</td>\n",
       "      <td>0.488027</td>\n",
       "      <td>0.088510</td>\n",
       "      <td>0.073545</td>\n",
       "      <td>0.016101</td>\n",
       "      <td>0.083307</td>\n",
       "    </tr>\n",
       "    <tr>\n",
       "      <th>F2R</th>\n",
       "      <td>-0.047347</td>\n",
       "      <td>0.380365</td>\n",
       "      <td>0.271874</td>\n",
       "      <td>1.000000</td>\n",
       "      <td>0.601705</td>\n",
       "      <td>0.166304</td>\n",
       "      <td>0.149028</td>\n",
       "      <td>0.300404</td>\n",
       "      <td>0.141069</td>\n",
       "      <td>0.246003</td>\n",
       "      <td>...</td>\n",
       "      <td>0.188291</td>\n",
       "      <td>0.139054</td>\n",
       "      <td>0.287469</td>\n",
       "      <td>0.195695</td>\n",
       "      <td>0.288137</td>\n",
       "      <td>0.223436</td>\n",
       "      <td>0.147974</td>\n",
       "      <td>0.116902</td>\n",
       "      <td>0.057365</td>\n",
       "      <td>0.084343</td>\n",
       "    </tr>\n",
       "    <tr>\n",
       "      <th>F2S</th>\n",
       "      <td>-0.100783</td>\n",
       "      <td>0.376806</td>\n",
       "      <td>0.455517</td>\n",
       "      <td>0.601705</td>\n",
       "      <td>1.000000</td>\n",
       "      <td>0.094517</td>\n",
       "      <td>0.226083</td>\n",
       "      <td>0.239487</td>\n",
       "      <td>0.233756</td>\n",
       "      <td>0.310953</td>\n",
       "      <td>...</td>\n",
       "      <td>0.178453</td>\n",
       "      <td>0.202181</td>\n",
       "      <td>0.155147</td>\n",
       "      <td>0.309793</td>\n",
       "      <td>0.263244</td>\n",
       "      <td>0.379087</td>\n",
       "      <td>0.137220</td>\n",
       "      <td>0.169305</td>\n",
       "      <td>0.103953</td>\n",
       "      <td>0.129407</td>\n",
       "    </tr>\n",
       "    <tr>\n",
       "      <th>F3R</th>\n",
       "      <td>-0.162407</td>\n",
       "      <td>0.184712</td>\n",
       "      <td>0.055241</td>\n",
       "      <td>0.166304</td>\n",
       "      <td>0.094517</td>\n",
       "      <td>1.000000</td>\n",
       "      <td>0.710749</td>\n",
       "      <td>0.262919</td>\n",
       "      <td>0.394523</td>\n",
       "      <td>0.231966</td>\n",
       "      <td>...</td>\n",
       "      <td>0.349090</td>\n",
       "      <td>0.299781</td>\n",
       "      <td>-0.022380</td>\n",
       "      <td>-0.110333</td>\n",
       "      <td>0.367660</td>\n",
       "      <td>0.225666</td>\n",
       "      <td>0.503053</td>\n",
       "      <td>0.464465</td>\n",
       "      <td>0.421015</td>\n",
       "      <td>0.398157</td>\n",
       "    </tr>\n",
       "    <tr>\n",
       "      <th>F3S</th>\n",
       "      <td>-0.218370</td>\n",
       "      <td>0.208528</td>\n",
       "      <td>0.317336</td>\n",
       "      <td>0.149028</td>\n",
       "      <td>0.226083</td>\n",
       "      <td>0.710749</td>\n",
       "      <td>1.000000</td>\n",
       "      <td>0.350626</td>\n",
       "      <td>0.656415</td>\n",
       "      <td>0.251063</td>\n",
       "      <td>...</td>\n",
       "      <td>0.483734</td>\n",
       "      <td>0.581697</td>\n",
       "      <td>0.020715</td>\n",
       "      <td>0.096611</td>\n",
       "      <td>0.455714</td>\n",
       "      <td>0.473037</td>\n",
       "      <td>0.638465</td>\n",
       "      <td>0.695800</td>\n",
       "      <td>0.491006</td>\n",
       "      <td>0.594700</td>\n",
       "    </tr>\n",
       "    <tr>\n",
       "      <th>F4R</th>\n",
       "      <td>-0.084463</td>\n",
       "      <td>0.599774</td>\n",
       "      <td>0.415818</td>\n",
       "      <td>0.300404</td>\n",
       "      <td>0.239487</td>\n",
       "      <td>0.262919</td>\n",
       "      <td>0.350626</td>\n",
       "      <td>1.000000</td>\n",
       "      <td>0.679731</td>\n",
       "      <td>0.595992</td>\n",
       "      <td>...</td>\n",
       "      <td>0.676583</td>\n",
       "      <td>0.551457</td>\n",
       "      <td>0.428249</td>\n",
       "      <td>0.254531</td>\n",
       "      <td>0.644387</td>\n",
       "      <td>0.468698</td>\n",
       "      <td>0.213282</td>\n",
       "      <td>0.228189</td>\n",
       "      <td>0.079135</td>\n",
       "      <td>0.160490</td>\n",
       "    </tr>\n",
       "    <tr>\n",
       "      <th>F4S</th>\n",
       "      <td>-0.117129</td>\n",
       "      <td>0.424983</td>\n",
       "      <td>0.519327</td>\n",
       "      <td>0.141069</td>\n",
       "      <td>0.233756</td>\n",
       "      <td>0.394523</td>\n",
       "      <td>0.656415</td>\n",
       "      <td>0.679731</td>\n",
       "      <td>1.000000</td>\n",
       "      <td>0.379337</td>\n",
       "      <td>...</td>\n",
       "      <td>0.701032</td>\n",
       "      <td>0.764119</td>\n",
       "      <td>0.210451</td>\n",
       "      <td>0.310271</td>\n",
       "      <td>0.663214</td>\n",
       "      <td>0.641950</td>\n",
       "      <td>0.429595</td>\n",
       "      <td>0.433020</td>\n",
       "      <td>0.277691</td>\n",
       "      <td>0.354779</td>\n",
       "    </tr>\n",
       "    <tr>\n",
       "      <th>F5R</th>\n",
       "      <td>-0.109763</td>\n",
       "      <td>0.549938</td>\n",
       "      <td>0.455041</td>\n",
       "      <td>0.246003</td>\n",
       "      <td>0.310953</td>\n",
       "      <td>0.231966</td>\n",
       "      <td>0.251063</td>\n",
       "      <td>0.595992</td>\n",
       "      <td>0.379337</td>\n",
       "      <td>1.000000</td>\n",
       "      <td>...</td>\n",
       "      <td>0.544854</td>\n",
       "      <td>0.423605</td>\n",
       "      <td>0.462315</td>\n",
       "      <td>0.368660</td>\n",
       "      <td>0.501115</td>\n",
       "      <td>0.367761</td>\n",
       "      <td>0.201297</td>\n",
       "      <td>0.167055</td>\n",
       "      <td>0.082002</td>\n",
       "      <td>0.133144</td>\n",
       "    </tr>\n",
       "    <tr>\n",
       "      <th>F5S</th>\n",
       "      <td>-0.111054</td>\n",
       "      <td>0.411568</td>\n",
       "      <td>0.629239</td>\n",
       "      <td>0.216476</td>\n",
       "      <td>0.359562</td>\n",
       "      <td>0.184040</td>\n",
       "      <td>0.342526</td>\n",
       "      <td>0.433502</td>\n",
       "      <td>0.467883</td>\n",
       "      <td>0.732307</td>\n",
       "      <td>...</td>\n",
       "      <td>0.508418</td>\n",
       "      <td>0.558727</td>\n",
       "      <td>0.357790</td>\n",
       "      <td>0.533496</td>\n",
       "      <td>0.438632</td>\n",
       "      <td>0.478267</td>\n",
       "      <td>0.183461</td>\n",
       "      <td>0.157382</td>\n",
       "      <td>0.067388</td>\n",
       "      <td>0.143466</td>\n",
       "    </tr>\n",
       "    <tr>\n",
       "      <th>F6R</th>\n",
       "      <td>-0.047473</td>\n",
       "      <td>0.362452</td>\n",
       "      <td>0.352332</td>\n",
       "      <td>0.480868</td>\n",
       "      <td>0.416843</td>\n",
       "      <td>0.014061</td>\n",
       "      <td>0.155800</td>\n",
       "      <td>0.283484</td>\n",
       "      <td>0.167293</td>\n",
       "      <td>0.513272</td>\n",
       "      <td>...</td>\n",
       "      <td>0.248555</td>\n",
       "      <td>0.210022</td>\n",
       "      <td>0.309989</td>\n",
       "      <td>0.294629</td>\n",
       "      <td>0.275308</td>\n",
       "      <td>0.204811</td>\n",
       "      <td>0.209232</td>\n",
       "      <td>0.149294</td>\n",
       "      <td>0.087325</td>\n",
       "      <td>0.105234</td>\n",
       "    </tr>\n",
       "    <tr>\n",
       "      <th>F6S</th>\n",
       "      <td>-0.090615</td>\n",
       "      <td>0.223068</td>\n",
       "      <td>0.492800</td>\n",
       "      <td>0.301811</td>\n",
       "      <td>0.528861</td>\n",
       "      <td>0.048362</td>\n",
       "      <td>0.193961</td>\n",
       "      <td>0.142858</td>\n",
       "      <td>0.170910</td>\n",
       "      <td>0.383146</td>\n",
       "      <td>...</td>\n",
       "      <td>0.204636</td>\n",
       "      <td>0.266963</td>\n",
       "      <td>0.212544</td>\n",
       "      <td>0.430263</td>\n",
       "      <td>0.211264</td>\n",
       "      <td>0.266233</td>\n",
       "      <td>0.238065</td>\n",
       "      <td>0.158303</td>\n",
       "      <td>0.160426</td>\n",
       "      <td>0.136603</td>\n",
       "    </tr>\n",
       "    <tr>\n",
       "      <th>F7R</th>\n",
       "      <td>-0.094505</td>\n",
       "      <td>0.058007</td>\n",
       "      <td>0.010139</td>\n",
       "      <td>0.235419</td>\n",
       "      <td>0.236616</td>\n",
       "      <td>0.412879</td>\n",
       "      <td>0.449601</td>\n",
       "      <td>0.014356</td>\n",
       "      <td>0.161190</td>\n",
       "      <td>0.223761</td>\n",
       "      <td>...</td>\n",
       "      <td>0.121807</td>\n",
       "      <td>0.202330</td>\n",
       "      <td>0.036496</td>\n",
       "      <td>-0.025844</td>\n",
       "      <td>0.168704</td>\n",
       "      <td>0.155107</td>\n",
       "      <td>0.507012</td>\n",
       "      <td>0.476758</td>\n",
       "      <td>0.425277</td>\n",
       "      <td>0.443246</td>\n",
       "    </tr>\n",
       "    <tr>\n",
       "      <th>F7S</th>\n",
       "      <td>-0.163484</td>\n",
       "      <td>0.077972</td>\n",
       "      <td>0.080726</td>\n",
       "      <td>0.273595</td>\n",
       "      <td>0.399704</td>\n",
       "      <td>0.313565</td>\n",
       "      <td>0.413405</td>\n",
       "      <td>-0.070463</td>\n",
       "      <td>0.120979</td>\n",
       "      <td>0.093649</td>\n",
       "      <td>...</td>\n",
       "      <td>0.022109</td>\n",
       "      <td>0.154583</td>\n",
       "      <td>-0.059661</td>\n",
       "      <td>0.041232</td>\n",
       "      <td>0.202165</td>\n",
       "      <td>0.259720</td>\n",
       "      <td>0.397412</td>\n",
       "      <td>0.428398</td>\n",
       "      <td>0.327583</td>\n",
       "      <td>0.378936</td>\n",
       "    </tr>\n",
       "    <tr>\n",
       "      <th>F8R</th>\n",
       "      <td>-0.167806</td>\n",
       "      <td>0.137556</td>\n",
       "      <td>-0.002768</td>\n",
       "      <td>0.068265</td>\n",
       "      <td>-0.021801</td>\n",
       "      <td>0.607831</td>\n",
       "      <td>0.683897</td>\n",
       "      <td>0.337675</td>\n",
       "      <td>0.484067</td>\n",
       "      <td>0.289845</td>\n",
       "      <td>...</td>\n",
       "      <td>0.509739</td>\n",
       "      <td>0.520401</td>\n",
       "      <td>0.113823</td>\n",
       "      <td>-0.065975</td>\n",
       "      <td>0.416179</td>\n",
       "      <td>0.300471</td>\n",
       "      <td>0.676021</td>\n",
       "      <td>0.634999</td>\n",
       "      <td>0.548870</td>\n",
       "      <td>0.584412</td>\n",
       "    </tr>\n",
       "    <tr>\n",
       "      <th>F8S</th>\n",
       "      <td>-0.157609</td>\n",
       "      <td>0.191406</td>\n",
       "      <td>0.127364</td>\n",
       "      <td>0.035067</td>\n",
       "      <td>0.104415</td>\n",
       "      <td>0.516344</td>\n",
       "      <td>0.721371</td>\n",
       "      <td>0.402211</td>\n",
       "      <td>0.569532</td>\n",
       "      <td>0.366099</td>\n",
       "      <td>...</td>\n",
       "      <td>0.517237</td>\n",
       "      <td>0.587998</td>\n",
       "      <td>0.053133</td>\n",
       "      <td>0.015059</td>\n",
       "      <td>0.418438</td>\n",
       "      <td>0.367194</td>\n",
       "      <td>0.624444</td>\n",
       "      <td>0.711478</td>\n",
       "      <td>0.511790</td>\n",
       "      <td>0.613654</td>\n",
       "    </tr>\n",
       "    <tr>\n",
       "      <th>F9R</th>\n",
       "      <td>-0.065156</td>\n",
       "      <td>0.458335</td>\n",
       "      <td>0.323507</td>\n",
       "      <td>0.191073</td>\n",
       "      <td>0.121042</td>\n",
       "      <td>0.253921</td>\n",
       "      <td>0.366321</td>\n",
       "      <td>0.728703</td>\n",
       "      <td>0.610022</td>\n",
       "      <td>0.624651</td>\n",
       "      <td>...</td>\n",
       "      <td>0.787758</td>\n",
       "      <td>0.635253</td>\n",
       "      <td>0.335778</td>\n",
       "      <td>0.172766</td>\n",
       "      <td>0.604673</td>\n",
       "      <td>0.509175</td>\n",
       "      <td>0.264030</td>\n",
       "      <td>0.267452</td>\n",
       "      <td>0.098887</td>\n",
       "      <td>0.183893</td>\n",
       "    </tr>\n",
       "    <tr>\n",
       "      <th>F9S</th>\n",
       "      <td>-0.051781</td>\n",
       "      <td>0.408751</td>\n",
       "      <td>0.391826</td>\n",
       "      <td>0.129143</td>\n",
       "      <td>0.065483</td>\n",
       "      <td>0.190019</td>\n",
       "      <td>0.361172</td>\n",
       "      <td>0.679313</td>\n",
       "      <td>0.670467</td>\n",
       "      <td>0.620590</td>\n",
       "      <td>...</td>\n",
       "      <td>0.753608</td>\n",
       "      <td>0.731166</td>\n",
       "      <td>0.283464</td>\n",
       "      <td>0.262214</td>\n",
       "      <td>0.584154</td>\n",
       "      <td>0.511546</td>\n",
       "      <td>0.245127</td>\n",
       "      <td>0.265853</td>\n",
       "      <td>0.105248</td>\n",
       "      <td>0.193943</td>\n",
       "    </tr>\n",
       "    <tr>\n",
       "      <th>F10R</th>\n",
       "      <td>-0.111721</td>\n",
       "      <td>0.149477</td>\n",
       "      <td>0.146654</td>\n",
       "      <td>0.095347</td>\n",
       "      <td>0.177832</td>\n",
       "      <td>0.243346</td>\n",
       "      <td>0.266906</td>\n",
       "      <td>0.229514</td>\n",
       "      <td>0.232139</td>\n",
       "      <td>0.407593</td>\n",
       "      <td>...</td>\n",
       "      <td>0.326238</td>\n",
       "      <td>0.231161</td>\n",
       "      <td>0.315123</td>\n",
       "      <td>0.184364</td>\n",
       "      <td>0.262204</td>\n",
       "      <td>0.180801</td>\n",
       "      <td>0.252550</td>\n",
       "      <td>0.198666</td>\n",
       "      <td>0.147478</td>\n",
       "      <td>0.156766</td>\n",
       "    </tr>\n",
       "    <tr>\n",
       "      <th>F10S</th>\n",
       "      <td>-0.068210</td>\n",
       "      <td>0.206677</td>\n",
       "      <td>0.294343</td>\n",
       "      <td>-0.003524</td>\n",
       "      <td>0.277323</td>\n",
       "      <td>0.128568</td>\n",
       "      <td>0.217948</td>\n",
       "      <td>0.197694</td>\n",
       "      <td>0.212159</td>\n",
       "      <td>0.371018</td>\n",
       "      <td>...</td>\n",
       "      <td>0.205014</td>\n",
       "      <td>0.239327</td>\n",
       "      <td>0.175691</td>\n",
       "      <td>0.393686</td>\n",
       "      <td>0.188403</td>\n",
       "      <td>0.228885</td>\n",
       "      <td>0.120615</td>\n",
       "      <td>0.153822</td>\n",
       "      <td>0.041276</td>\n",
       "      <td>0.093277</td>\n",
       "    </tr>\n",
       "    <tr>\n",
       "      <th>F11R</th>\n",
       "      <td>-0.084087</td>\n",
       "      <td>0.176174</td>\n",
       "      <td>0.105505</td>\n",
       "      <td>0.186116</td>\n",
       "      <td>0.224738</td>\n",
       "      <td>0.085105</td>\n",
       "      <td>0.098935</td>\n",
       "      <td>0.212308</td>\n",
       "      <td>0.117100</td>\n",
       "      <td>0.248924</td>\n",
       "      <td>...</td>\n",
       "      <td>0.206767</td>\n",
       "      <td>0.068176</td>\n",
       "      <td>0.262334</td>\n",
       "      <td>0.103251</td>\n",
       "      <td>0.239743</td>\n",
       "      <td>0.100146</td>\n",
       "      <td>0.266331</td>\n",
       "      <td>0.216225</td>\n",
       "      <td>0.160724</td>\n",
       "      <td>0.193756</td>\n",
       "    </tr>\n",
       "    <tr>\n",
       "      <th>F11S</th>\n",
       "      <td>-0.043544</td>\n",
       "      <td>0.070438</td>\n",
       "      <td>0.143450</td>\n",
       "      <td>0.114622</td>\n",
       "      <td>0.237416</td>\n",
       "      <td>0.065128</td>\n",
       "      <td>0.213460</td>\n",
       "      <td>0.058148</td>\n",
       "      <td>0.155294</td>\n",
       "      <td>0.129082</td>\n",
       "      <td>...</td>\n",
       "      <td>0.064747</td>\n",
       "      <td>0.233950</td>\n",
       "      <td>0.081800</td>\n",
       "      <td>0.296464</td>\n",
       "      <td>0.112877</td>\n",
       "      <td>0.159502</td>\n",
       "      <td>0.225925</td>\n",
       "      <td>0.216177</td>\n",
       "      <td>0.116491</td>\n",
       "      <td>0.153867</td>\n",
       "    </tr>\n",
       "    <tr>\n",
       "      <th>F12R</th>\n",
       "      <td>-0.111261</td>\n",
       "      <td>0.073001</td>\n",
       "      <td>-0.000075</td>\n",
       "      <td>0.098451</td>\n",
       "      <td>0.195886</td>\n",
       "      <td>0.303395</td>\n",
       "      <td>0.339543</td>\n",
       "      <td>0.041168</td>\n",
       "      <td>0.116482</td>\n",
       "      <td>0.172805</td>\n",
       "      <td>...</td>\n",
       "      <td>0.188692</td>\n",
       "      <td>0.149425</td>\n",
       "      <td>0.009740</td>\n",
       "      <td>-0.064832</td>\n",
       "      <td>0.287414</td>\n",
       "      <td>0.268739</td>\n",
       "      <td>0.482364</td>\n",
       "      <td>0.441902</td>\n",
       "      <td>0.445092</td>\n",
       "      <td>0.451131</td>\n",
       "    </tr>\n",
       "    <tr>\n",
       "      <th>F12S</th>\n",
       "      <td>-0.108912</td>\n",
       "      <td>0.084748</td>\n",
       "      <td>0.107356</td>\n",
       "      <td>0.110760</td>\n",
       "      <td>0.320427</td>\n",
       "      <td>0.285881</td>\n",
       "      <td>0.383671</td>\n",
       "      <td>0.016577</td>\n",
       "      <td>0.142162</td>\n",
       "      <td>0.132665</td>\n",
       "      <td>...</td>\n",
       "      <td>0.053097</td>\n",
       "      <td>0.130453</td>\n",
       "      <td>-0.091065</td>\n",
       "      <td>-0.002913</td>\n",
       "      <td>0.242906</td>\n",
       "      <td>0.316828</td>\n",
       "      <td>0.425397</td>\n",
       "      <td>0.478359</td>\n",
       "      <td>0.411627</td>\n",
       "      <td>0.479093</td>\n",
       "    </tr>\n",
       "    <tr>\n",
       "      <th>F13R</th>\n",
       "      <td>-0.187924</td>\n",
       "      <td>0.109477</td>\n",
       "      <td>0.046546</td>\n",
       "      <td>0.075274</td>\n",
       "      <td>0.160371</td>\n",
       "      <td>0.508444</td>\n",
       "      <td>0.611147</td>\n",
       "      <td>0.179831</td>\n",
       "      <td>0.360461</td>\n",
       "      <td>0.231789</td>\n",
       "      <td>...</td>\n",
       "      <td>0.408535</td>\n",
       "      <td>0.438838</td>\n",
       "      <td>-0.010572</td>\n",
       "      <td>-0.056757</td>\n",
       "      <td>0.365156</td>\n",
       "      <td>0.315804</td>\n",
       "      <td>0.749880</td>\n",
       "      <td>0.718895</td>\n",
       "      <td>0.700251</td>\n",
       "      <td>0.713997</td>\n",
       "    </tr>\n",
       "    <tr>\n",
       "      <th>F13S</th>\n",
       "      <td>-0.204077</td>\n",
       "      <td>0.048005</td>\n",
       "      <td>0.055046</td>\n",
       "      <td>0.095392</td>\n",
       "      <td>0.134620</td>\n",
       "      <td>0.455460</td>\n",
       "      <td>0.617017</td>\n",
       "      <td>0.168893</td>\n",
       "      <td>0.337529</td>\n",
       "      <td>0.170231</td>\n",
       "      <td>...</td>\n",
       "      <td>0.360767</td>\n",
       "      <td>0.445586</td>\n",
       "      <td>-0.067877</td>\n",
       "      <td>-0.070443</td>\n",
       "      <td>0.337249</td>\n",
       "      <td>0.307254</td>\n",
       "      <td>0.678193</td>\n",
       "      <td>0.739152</td>\n",
       "      <td>0.644269</td>\n",
       "      <td>0.737132</td>\n",
       "    </tr>\n",
       "    <tr>\n",
       "      <th>F14R</th>\n",
       "      <td>-0.043510</td>\n",
       "      <td>0.184299</td>\n",
       "      <td>0.133945</td>\n",
       "      <td>0.051877</td>\n",
       "      <td>0.084945</td>\n",
       "      <td>0.142679</td>\n",
       "      <td>0.244602</td>\n",
       "      <td>0.426706</td>\n",
       "      <td>0.335635</td>\n",
       "      <td>0.323787</td>\n",
       "      <td>...</td>\n",
       "      <td>0.572216</td>\n",
       "      <td>0.452694</td>\n",
       "      <td>0.226214</td>\n",
       "      <td>0.047707</td>\n",
       "      <td>0.418879</td>\n",
       "      <td>0.283795</td>\n",
       "      <td>0.305375</td>\n",
       "      <td>0.287784</td>\n",
       "      <td>0.158638</td>\n",
       "      <td>0.206808</td>\n",
       "    </tr>\n",
       "    <tr>\n",
       "      <th>F14S</th>\n",
       "      <td>-0.022509</td>\n",
       "      <td>0.063172</td>\n",
       "      <td>0.151532</td>\n",
       "      <td>0.000072</td>\n",
       "      <td>-0.038621</td>\n",
       "      <td>0.061674</td>\n",
       "      <td>0.270608</td>\n",
       "      <td>0.308243</td>\n",
       "      <td>0.358045</td>\n",
       "      <td>0.134475</td>\n",
       "      <td>...</td>\n",
       "      <td>0.463986</td>\n",
       "      <td>0.562198</td>\n",
       "      <td>0.083665</td>\n",
       "      <td>0.094660</td>\n",
       "      <td>0.275077</td>\n",
       "      <td>0.261332</td>\n",
       "      <td>0.214276</td>\n",
       "      <td>0.260831</td>\n",
       "      <td>0.051633</td>\n",
       "      <td>0.131416</td>\n",
       "    </tr>\n",
       "    <tr>\n",
       "      <th>F15R</th>\n",
       "      <td>-0.112002</td>\n",
       "      <td>0.475034</td>\n",
       "      <td>0.477081</td>\n",
       "      <td>0.340808</td>\n",
       "      <td>0.317019</td>\n",
       "      <td>0.335914</td>\n",
       "      <td>0.481531</td>\n",
       "      <td>0.500615</td>\n",
       "      <td>0.677039</td>\n",
       "      <td>0.442269</td>\n",
       "      <td>...</td>\n",
       "      <td>0.725464</td>\n",
       "      <td>0.747866</td>\n",
       "      <td>0.309171</td>\n",
       "      <td>0.370918</td>\n",
       "      <td>0.788190</td>\n",
       "      <td>0.758597</td>\n",
       "      <td>0.446901</td>\n",
       "      <td>0.351483</td>\n",
       "      <td>0.283653</td>\n",
       "      <td>0.286250</td>\n",
       "    </tr>\n",
       "    <tr>\n",
       "      <th>F15S</th>\n",
       "      <td>-0.124314</td>\n",
       "      <td>0.349917</td>\n",
       "      <td>0.508655</td>\n",
       "      <td>0.193685</td>\n",
       "      <td>0.370036</td>\n",
       "      <td>0.293423</td>\n",
       "      <td>0.563642</td>\n",
       "      <td>0.459927</td>\n",
       "      <td>0.686115</td>\n",
       "      <td>0.404127</td>\n",
       "      <td>...</td>\n",
       "      <td>0.681963</td>\n",
       "      <td>0.763262</td>\n",
       "      <td>0.207435</td>\n",
       "      <td>0.394448</td>\n",
       "      <td>0.721135</td>\n",
       "      <td>0.854704</td>\n",
       "      <td>0.446524</td>\n",
       "      <td>0.425297</td>\n",
       "      <td>0.321137</td>\n",
       "      <td>0.350515</td>\n",
       "    </tr>\n",
       "    <tr>\n",
       "      <th>F16R</th>\n",
       "      <td>-0.052769</td>\n",
       "      <td>0.181529</td>\n",
       "      <td>0.180045</td>\n",
       "      <td>0.467834</td>\n",
       "      <td>0.467341</td>\n",
       "      <td>0.146720</td>\n",
       "      <td>0.287892</td>\n",
       "      <td>0.102273</td>\n",
       "      <td>0.150175</td>\n",
       "      <td>0.193968</td>\n",
       "      <td>...</td>\n",
       "      <td>0.231163</td>\n",
       "      <td>0.275102</td>\n",
       "      <td>0.231934</td>\n",
       "      <td>0.225429</td>\n",
       "      <td>0.302938</td>\n",
       "      <td>0.275504</td>\n",
       "      <td>0.355327</td>\n",
       "      <td>0.295247</td>\n",
       "      <td>0.240488</td>\n",
       "      <td>0.297763</td>\n",
       "    </tr>\n",
       "    <tr>\n",
       "      <th>F16S</th>\n",
       "      <td>-0.120838</td>\n",
       "      <td>0.160883</td>\n",
       "      <td>0.229487</td>\n",
       "      <td>0.267551</td>\n",
       "      <td>0.632300</td>\n",
       "      <td>0.103677</td>\n",
       "      <td>0.301457</td>\n",
       "      <td>0.144612</td>\n",
       "      <td>0.160252</td>\n",
       "      <td>0.249272</td>\n",
       "      <td>...</td>\n",
       "      <td>0.168899</td>\n",
       "      <td>0.212683</td>\n",
       "      <td>0.081786</td>\n",
       "      <td>0.191912</td>\n",
       "      <td>0.222136</td>\n",
       "      <td>0.284238</td>\n",
       "      <td>0.325833</td>\n",
       "      <td>0.395248</td>\n",
       "      <td>0.291633</td>\n",
       "      <td>0.352994</td>\n",
       "    </tr>\n",
       "    <tr>\n",
       "      <th>F17R</th>\n",
       "      <td>-0.084401</td>\n",
       "      <td>0.028626</td>\n",
       "      <td>0.005113</td>\n",
       "      <td>0.284240</td>\n",
       "      <td>0.280456</td>\n",
       "      <td>0.068978</td>\n",
       "      <td>0.101773</td>\n",
       "      <td>-0.050372</td>\n",
       "      <td>-0.047628</td>\n",
       "      <td>0.046694</td>\n",
       "      <td>...</td>\n",
       "      <td>0.075864</td>\n",
       "      <td>-0.004497</td>\n",
       "      <td>0.114701</td>\n",
       "      <td>-0.011653</td>\n",
       "      <td>0.069145</td>\n",
       "      <td>0.003710</td>\n",
       "      <td>0.214398</td>\n",
       "      <td>0.143403</td>\n",
       "      <td>0.295282</td>\n",
       "      <td>0.262840</td>\n",
       "    </tr>\n",
       "    <tr>\n",
       "      <th>F17S</th>\n",
       "      <td>-0.121160</td>\n",
       "      <td>-0.089392</td>\n",
       "      <td>0.025522</td>\n",
       "      <td>0.042401</td>\n",
       "      <td>0.377947</td>\n",
       "      <td>0.073255</td>\n",
       "      <td>0.161762</td>\n",
       "      <td>-0.019498</td>\n",
       "      <td>-0.023591</td>\n",
       "      <td>0.153417</td>\n",
       "      <td>...</td>\n",
       "      <td>-0.012974</td>\n",
       "      <td>-0.058317</td>\n",
       "      <td>-0.038718</td>\n",
       "      <td>0.047701</td>\n",
       "      <td>0.076926</td>\n",
       "      <td>0.143236</td>\n",
       "      <td>0.214023</td>\n",
       "      <td>0.302249</td>\n",
       "      <td>0.318296</td>\n",
       "      <td>0.344509</td>\n",
       "    </tr>\n",
       "    <tr>\n",
       "      <th>F18R</th>\n",
       "      <td>-0.103840</td>\n",
       "      <td>0.422417</td>\n",
       "      <td>0.377079</td>\n",
       "      <td>0.188291</td>\n",
       "      <td>0.178453</td>\n",
       "      <td>0.349090</td>\n",
       "      <td>0.483734</td>\n",
       "      <td>0.676583</td>\n",
       "      <td>0.701032</td>\n",
       "      <td>0.544854</td>\n",
       "      <td>...</td>\n",
       "      <td>1.000000</td>\n",
       "      <td>0.842960</td>\n",
       "      <td>0.358811</td>\n",
       "      <td>0.246752</td>\n",
       "      <td>0.695356</td>\n",
       "      <td>0.594169</td>\n",
       "      <td>0.450342</td>\n",
       "      <td>0.384007</td>\n",
       "      <td>0.240843</td>\n",
       "      <td>0.295192</td>\n",
       "    </tr>\n",
       "    <tr>\n",
       "      <th>F18S</th>\n",
       "      <td>-0.122409</td>\n",
       "      <td>0.330402</td>\n",
       "      <td>0.418680</td>\n",
       "      <td>0.139054</td>\n",
       "      <td>0.202181</td>\n",
       "      <td>0.299781</td>\n",
       "      <td>0.581697</td>\n",
       "      <td>0.551457</td>\n",
       "      <td>0.764119</td>\n",
       "      <td>0.423605</td>\n",
       "      <td>...</td>\n",
       "      <td>0.842960</td>\n",
       "      <td>1.000000</td>\n",
       "      <td>0.281492</td>\n",
       "      <td>0.382279</td>\n",
       "      <td>0.662307</td>\n",
       "      <td>0.664132</td>\n",
       "      <td>0.499622</td>\n",
       "      <td>0.465191</td>\n",
       "      <td>0.291608</td>\n",
       "      <td>0.366945</td>\n",
       "    </tr>\n",
       "    <tr>\n",
       "      <th>F19R</th>\n",
       "      <td>-0.060936</td>\n",
       "      <td>0.317041</td>\n",
       "      <td>0.299668</td>\n",
       "      <td>0.287469</td>\n",
       "      <td>0.155147</td>\n",
       "      <td>-0.022380</td>\n",
       "      <td>0.020715</td>\n",
       "      <td>0.428249</td>\n",
       "      <td>0.210451</td>\n",
       "      <td>0.462315</td>\n",
       "      <td>...</td>\n",
       "      <td>0.358811</td>\n",
       "      <td>0.281492</td>\n",
       "      <td>1.000000</td>\n",
       "      <td>0.674086</td>\n",
       "      <td>0.446118</td>\n",
       "      <td>0.279254</td>\n",
       "      <td>0.181380</td>\n",
       "      <td>0.064396</td>\n",
       "      <td>0.110493</td>\n",
       "      <td>0.096838</td>\n",
       "    </tr>\n",
       "    <tr>\n",
       "      <th>F19S</th>\n",
       "      <td>-0.069405</td>\n",
       "      <td>0.255071</td>\n",
       "      <td>0.517828</td>\n",
       "      <td>0.195695</td>\n",
       "      <td>0.309793</td>\n",
       "      <td>-0.110333</td>\n",
       "      <td>0.096611</td>\n",
       "      <td>0.254531</td>\n",
       "      <td>0.310271</td>\n",
       "      <td>0.368660</td>\n",
       "      <td>...</td>\n",
       "      <td>0.246752</td>\n",
       "      <td>0.382279</td>\n",
       "      <td>0.674086</td>\n",
       "      <td>1.000000</td>\n",
       "      <td>0.408375</td>\n",
       "      <td>0.475416</td>\n",
       "      <td>0.145015</td>\n",
       "      <td>0.033315</td>\n",
       "      <td>0.074845</td>\n",
       "      <td>0.090395</td>\n",
       "    </tr>\n",
       "    <tr>\n",
       "      <th>F20R</th>\n",
       "      <td>-0.158235</td>\n",
       "      <td>0.451074</td>\n",
       "      <td>0.396013</td>\n",
       "      <td>0.288137</td>\n",
       "      <td>0.263244</td>\n",
       "      <td>0.367660</td>\n",
       "      <td>0.455714</td>\n",
       "      <td>0.644387</td>\n",
       "      <td>0.663214</td>\n",
       "      <td>0.501115</td>\n",
       "      <td>...</td>\n",
       "      <td>0.695356</td>\n",
       "      <td>0.662307</td>\n",
       "      <td>0.446118</td>\n",
       "      <td>0.408375</td>\n",
       "      <td>1.000000</td>\n",
       "      <td>0.823848</td>\n",
       "      <td>0.562668</td>\n",
       "      <td>0.432455</td>\n",
       "      <td>0.410297</td>\n",
       "      <td>0.406359</td>\n",
       "    </tr>\n",
       "    <tr>\n",
       "      <th>F20S</th>\n",
       "      <td>-0.180498</td>\n",
       "      <td>0.327409</td>\n",
       "      <td>0.488027</td>\n",
       "      <td>0.223436</td>\n",
       "      <td>0.379087</td>\n",
       "      <td>0.225666</td>\n",
       "      <td>0.473037</td>\n",
       "      <td>0.468698</td>\n",
       "      <td>0.641950</td>\n",
       "      <td>0.367761</td>\n",
       "      <td>...</td>\n",
       "      <td>0.594169</td>\n",
       "      <td>0.664132</td>\n",
       "      <td>0.279254</td>\n",
       "      <td>0.475416</td>\n",
       "      <td>0.823848</td>\n",
       "      <td>1.000000</td>\n",
       "      <td>0.457537</td>\n",
       "      <td>0.436756</td>\n",
       "      <td>0.356752</td>\n",
       "      <td>0.387138</td>\n",
       "    </tr>\n",
       "    <tr>\n",
       "      <th>F21R</th>\n",
       "      <td>-0.201578</td>\n",
       "      <td>0.089097</td>\n",
       "      <td>0.088510</td>\n",
       "      <td>0.147974</td>\n",
       "      <td>0.137220</td>\n",
       "      <td>0.503053</td>\n",
       "      <td>0.638465</td>\n",
       "      <td>0.213282</td>\n",
       "      <td>0.429595</td>\n",
       "      <td>0.201297</td>\n",
       "      <td>...</td>\n",
       "      <td>0.450342</td>\n",
       "      <td>0.499622</td>\n",
       "      <td>0.181380</td>\n",
       "      <td>0.145015</td>\n",
       "      <td>0.562668</td>\n",
       "      <td>0.457537</td>\n",
       "      <td>1.000000</td>\n",
       "      <td>0.825310</td>\n",
       "      <td>0.843060</td>\n",
       "      <td>0.804697</td>\n",
       "    </tr>\n",
       "    <tr>\n",
       "      <th>F21S</th>\n",
       "      <td>-0.233921</td>\n",
       "      <td>0.097360</td>\n",
       "      <td>0.073545</td>\n",
       "      <td>0.116902</td>\n",
       "      <td>0.169305</td>\n",
       "      <td>0.464465</td>\n",
       "      <td>0.695800</td>\n",
       "      <td>0.228189</td>\n",
       "      <td>0.433020</td>\n",
       "      <td>0.167055</td>\n",
       "      <td>...</td>\n",
       "      <td>0.384007</td>\n",
       "      <td>0.465191</td>\n",
       "      <td>0.064396</td>\n",
       "      <td>0.033315</td>\n",
       "      <td>0.432455</td>\n",
       "      <td>0.436756</td>\n",
       "      <td>0.825310</td>\n",
       "      <td>1.000000</td>\n",
       "      <td>0.766514</td>\n",
       "      <td>0.873341</td>\n",
       "    </tr>\n",
       "    <tr>\n",
       "      <th>F22R</th>\n",
       "      <td>-0.224858</td>\n",
       "      <td>0.021205</td>\n",
       "      <td>0.016101</td>\n",
       "      <td>0.057365</td>\n",
       "      <td>0.103953</td>\n",
       "      <td>0.421015</td>\n",
       "      <td>0.491006</td>\n",
       "      <td>0.079135</td>\n",
       "      <td>0.277691</td>\n",
       "      <td>0.082002</td>\n",
       "      <td>...</td>\n",
       "      <td>0.240843</td>\n",
       "      <td>0.291608</td>\n",
       "      <td>0.110493</td>\n",
       "      <td>0.074845</td>\n",
       "      <td>0.410297</td>\n",
       "      <td>0.356752</td>\n",
       "      <td>0.843060</td>\n",
       "      <td>0.766514</td>\n",
       "      <td>1.000000</td>\n",
       "      <td>0.875791</td>\n",
       "    </tr>\n",
       "    <tr>\n",
       "      <th>F22S</th>\n",
       "      <td>-0.213390</td>\n",
       "      <td>0.050646</td>\n",
       "      <td>0.083307</td>\n",
       "      <td>0.084343</td>\n",
       "      <td>0.129407</td>\n",
       "      <td>0.398157</td>\n",
       "      <td>0.594700</td>\n",
       "      <td>0.160490</td>\n",
       "      <td>0.354779</td>\n",
       "      <td>0.133144</td>\n",
       "      <td>...</td>\n",
       "      <td>0.295192</td>\n",
       "      <td>0.366945</td>\n",
       "      <td>0.096838</td>\n",
       "      <td>0.090395</td>\n",
       "      <td>0.406359</td>\n",
       "      <td>0.387138</td>\n",
       "      <td>0.804697</td>\n",
       "      <td>0.873341</td>\n",
       "      <td>0.875791</td>\n",
       "      <td>1.000000</td>\n",
       "    </tr>\n",
       "  </tbody>\n",
       "</table>\n",
       "<p>45 rows × 45 columns</p>\n",
       "</div>"
      ],
      "text/plain": [
       "          target       F1R       F1S       F2R       F2S       F3R       F3S  \\\n",
       "target  1.000000 -0.033205 -0.072310 -0.047347 -0.100783 -0.162407 -0.218370   \n",
       "F1R    -0.033205  1.000000  0.601643  0.380365  0.376806  0.184712  0.208528   \n",
       "F1S    -0.072310  0.601643  1.000000  0.271874  0.455517  0.055241  0.317336   \n",
       "F2R    -0.047347  0.380365  0.271874  1.000000  0.601705  0.166304  0.149028   \n",
       "F2S    -0.100783  0.376806  0.455517  0.601705  1.000000  0.094517  0.226083   \n",
       "F3R    -0.162407  0.184712  0.055241  0.166304  0.094517  1.000000  0.710749   \n",
       "F3S    -0.218370  0.208528  0.317336  0.149028  0.226083  0.710749  1.000000   \n",
       "F4R    -0.084463  0.599774  0.415818  0.300404  0.239487  0.262919  0.350626   \n",
       "F4S    -0.117129  0.424983  0.519327  0.141069  0.233756  0.394523  0.656415   \n",
       "F5R    -0.109763  0.549938  0.455041  0.246003  0.310953  0.231966  0.251063   \n",
       "F5S    -0.111054  0.411568  0.629239  0.216476  0.359562  0.184040  0.342526   \n",
       "F6R    -0.047473  0.362452  0.352332  0.480868  0.416843  0.014061  0.155800   \n",
       "F6S    -0.090615  0.223068  0.492800  0.301811  0.528861  0.048362  0.193961   \n",
       "F7R    -0.094505  0.058007  0.010139  0.235419  0.236616  0.412879  0.449601   \n",
       "F7S    -0.163484  0.077972  0.080726  0.273595  0.399704  0.313565  0.413405   \n",
       "F8R    -0.167806  0.137556 -0.002768  0.068265 -0.021801  0.607831  0.683897   \n",
       "F8S    -0.157609  0.191406  0.127364  0.035067  0.104415  0.516344  0.721371   \n",
       "F9R    -0.065156  0.458335  0.323507  0.191073  0.121042  0.253921  0.366321   \n",
       "F9S    -0.051781  0.408751  0.391826  0.129143  0.065483  0.190019  0.361172   \n",
       "F10R   -0.111721  0.149477  0.146654  0.095347  0.177832  0.243346  0.266906   \n",
       "F10S   -0.068210  0.206677  0.294343 -0.003524  0.277323  0.128568  0.217948   \n",
       "F11R   -0.084087  0.176174  0.105505  0.186116  0.224738  0.085105  0.098935   \n",
       "F11S   -0.043544  0.070438  0.143450  0.114622  0.237416  0.065128  0.213460   \n",
       "F12R   -0.111261  0.073001 -0.000075  0.098451  0.195886  0.303395  0.339543   \n",
       "F12S   -0.108912  0.084748  0.107356  0.110760  0.320427  0.285881  0.383671   \n",
       "F13R   -0.187924  0.109477  0.046546  0.075274  0.160371  0.508444  0.611147   \n",
       "F13S   -0.204077  0.048005  0.055046  0.095392  0.134620  0.455460  0.617017   \n",
       "F14R   -0.043510  0.184299  0.133945  0.051877  0.084945  0.142679  0.244602   \n",
       "F14S   -0.022509  0.063172  0.151532  0.000072 -0.038621  0.061674  0.270608   \n",
       "F15R   -0.112002  0.475034  0.477081  0.340808  0.317019  0.335914  0.481531   \n",
       "F15S   -0.124314  0.349917  0.508655  0.193685  0.370036  0.293423  0.563642   \n",
       "F16R   -0.052769  0.181529  0.180045  0.467834  0.467341  0.146720  0.287892   \n",
       "F16S   -0.120838  0.160883  0.229487  0.267551  0.632300  0.103677  0.301457   \n",
       "F17R   -0.084401  0.028626  0.005113  0.284240  0.280456  0.068978  0.101773   \n",
       "F17S   -0.121160 -0.089392  0.025522  0.042401  0.377947  0.073255  0.161762   \n",
       "F18R   -0.103840  0.422417  0.377079  0.188291  0.178453  0.349090  0.483734   \n",
       "F18S   -0.122409  0.330402  0.418680  0.139054  0.202181  0.299781  0.581697   \n",
       "F19R   -0.060936  0.317041  0.299668  0.287469  0.155147 -0.022380  0.020715   \n",
       "F19S   -0.069405  0.255071  0.517828  0.195695  0.309793 -0.110333  0.096611   \n",
       "F20R   -0.158235  0.451074  0.396013  0.288137  0.263244  0.367660  0.455714   \n",
       "F20S   -0.180498  0.327409  0.488027  0.223436  0.379087  0.225666  0.473037   \n",
       "F21R   -0.201578  0.089097  0.088510  0.147974  0.137220  0.503053  0.638465   \n",
       "F21S   -0.233921  0.097360  0.073545  0.116902  0.169305  0.464465  0.695800   \n",
       "F22R   -0.224858  0.021205  0.016101  0.057365  0.103953  0.421015  0.491006   \n",
       "F22S   -0.213390  0.050646  0.083307  0.084343  0.129407  0.398157  0.594700   \n",
       "\n",
       "             F4R       F4S       F5R  ...      F18R      F18S      F19R  \\\n",
       "target -0.084463 -0.117129 -0.109763  ... -0.103840 -0.122409 -0.060936   \n",
       "F1R     0.599774  0.424983  0.549938  ...  0.422417  0.330402  0.317041   \n",
       "F1S     0.415818  0.519327  0.455041  ...  0.377079  0.418680  0.299668   \n",
       "F2R     0.300404  0.141069  0.246003  ...  0.188291  0.139054  0.287469   \n",
       "F2S     0.239487  0.233756  0.310953  ...  0.178453  0.202181  0.155147   \n",
       "F3R     0.262919  0.394523  0.231966  ...  0.349090  0.299781 -0.022380   \n",
       "F3S     0.350626  0.656415  0.251063  ...  0.483734  0.581697  0.020715   \n",
       "F4R     1.000000  0.679731  0.595992  ...  0.676583  0.551457  0.428249   \n",
       "F4S     0.679731  1.000000  0.379337  ...  0.701032  0.764119  0.210451   \n",
       "F5R     0.595992  0.379337  1.000000  ...  0.544854  0.423605  0.462315   \n",
       "F5S     0.433502  0.467883  0.732307  ...  0.508418  0.558727  0.357790   \n",
       "F6R     0.283484  0.167293  0.513272  ...  0.248555  0.210022  0.309989   \n",
       "F6S     0.142858  0.170910  0.383146  ...  0.204636  0.266963  0.212544   \n",
       "F7R     0.014356  0.161190  0.223761  ...  0.121807  0.202330  0.036496   \n",
       "F7S    -0.070463  0.120979  0.093649  ...  0.022109  0.154583 -0.059661   \n",
       "F8R     0.337675  0.484067  0.289845  ...  0.509739  0.520401  0.113823   \n",
       "F8S     0.402211  0.569532  0.366099  ...  0.517237  0.587998  0.053133   \n",
       "F9R     0.728703  0.610022  0.624651  ...  0.787758  0.635253  0.335778   \n",
       "F9S     0.679313  0.670467  0.620590  ...  0.753608  0.731166  0.283464   \n",
       "F10R    0.229514  0.232139  0.407593  ...  0.326238  0.231161  0.315123   \n",
       "F10S    0.197694  0.212159  0.371018  ...  0.205014  0.239327  0.175691   \n",
       "F11R    0.212308  0.117100  0.248924  ...  0.206767  0.068176  0.262334   \n",
       "F11S    0.058148  0.155294  0.129082  ...  0.064747  0.233950  0.081800   \n",
       "F12R    0.041168  0.116482  0.172805  ...  0.188692  0.149425  0.009740   \n",
       "F12S    0.016577  0.142162  0.132665  ...  0.053097  0.130453 -0.091065   \n",
       "F13R    0.179831  0.360461  0.231789  ...  0.408535  0.438838 -0.010572   \n",
       "F13S    0.168893  0.337529  0.170231  ...  0.360767  0.445586 -0.067877   \n",
       "F14R    0.426706  0.335635  0.323787  ...  0.572216  0.452694  0.226214   \n",
       "F14S    0.308243  0.358045  0.134475  ...  0.463986  0.562198  0.083665   \n",
       "F15R    0.500615  0.677039  0.442269  ...  0.725464  0.747866  0.309171   \n",
       "F15S    0.459927  0.686115  0.404127  ...  0.681963  0.763262  0.207435   \n",
       "F16R    0.102273  0.150175  0.193968  ...  0.231163  0.275102  0.231934   \n",
       "F16S    0.144612  0.160252  0.249272  ...  0.168899  0.212683  0.081786   \n",
       "F17R   -0.050372 -0.047628  0.046694  ...  0.075864 -0.004497  0.114701   \n",
       "F17S   -0.019498 -0.023591  0.153417  ... -0.012974 -0.058317 -0.038718   \n",
       "F18R    0.676583  0.701032  0.544854  ...  1.000000  0.842960  0.358811   \n",
       "F18S    0.551457  0.764119  0.423605  ...  0.842960  1.000000  0.281492   \n",
       "F19R    0.428249  0.210451  0.462315  ...  0.358811  0.281492  1.000000   \n",
       "F19S    0.254531  0.310271  0.368660  ...  0.246752  0.382279  0.674086   \n",
       "F20R    0.644387  0.663214  0.501115  ...  0.695356  0.662307  0.446118   \n",
       "F20S    0.468698  0.641950  0.367761  ...  0.594169  0.664132  0.279254   \n",
       "F21R    0.213282  0.429595  0.201297  ...  0.450342  0.499622  0.181380   \n",
       "F21S    0.228189  0.433020  0.167055  ...  0.384007  0.465191  0.064396   \n",
       "F22R    0.079135  0.277691  0.082002  ...  0.240843  0.291608  0.110493   \n",
       "F22S    0.160490  0.354779  0.133144  ...  0.295192  0.366945  0.096838   \n",
       "\n",
       "            F19S      F20R      F20S      F21R      F21S      F22R      F22S  \n",
       "target -0.069405 -0.158235 -0.180498 -0.201578 -0.233921 -0.224858 -0.213390  \n",
       "F1R     0.255071  0.451074  0.327409  0.089097  0.097360  0.021205  0.050646  \n",
       "F1S     0.517828  0.396013  0.488027  0.088510  0.073545  0.016101  0.083307  \n",
       "F2R     0.195695  0.288137  0.223436  0.147974  0.116902  0.057365  0.084343  \n",
       "F2S     0.309793  0.263244  0.379087  0.137220  0.169305  0.103953  0.129407  \n",
       "F3R    -0.110333  0.367660  0.225666  0.503053  0.464465  0.421015  0.398157  \n",
       "F3S     0.096611  0.455714  0.473037  0.638465  0.695800  0.491006  0.594700  \n",
       "F4R     0.254531  0.644387  0.468698  0.213282  0.228189  0.079135  0.160490  \n",
       "F4S     0.310271  0.663214  0.641950  0.429595  0.433020  0.277691  0.354779  \n",
       "F5R     0.368660  0.501115  0.367761  0.201297  0.167055  0.082002  0.133144  \n",
       "F5S     0.533496  0.438632  0.478267  0.183461  0.157382  0.067388  0.143466  \n",
       "F6R     0.294629  0.275308  0.204811  0.209232  0.149294  0.087325  0.105234  \n",
       "F6S     0.430263  0.211264  0.266233  0.238065  0.158303  0.160426  0.136603  \n",
       "F7R    -0.025844  0.168704  0.155107  0.507012  0.476758  0.425277  0.443246  \n",
       "F7S     0.041232  0.202165  0.259720  0.397412  0.428398  0.327583  0.378936  \n",
       "F8R    -0.065975  0.416179  0.300471  0.676021  0.634999  0.548870  0.584412  \n",
       "F8S     0.015059  0.418438  0.367194  0.624444  0.711478  0.511790  0.613654  \n",
       "F9R     0.172766  0.604673  0.509175  0.264030  0.267452  0.098887  0.183893  \n",
       "F9S     0.262214  0.584154  0.511546  0.245127  0.265853  0.105248  0.193943  \n",
       "F10R    0.184364  0.262204  0.180801  0.252550  0.198666  0.147478  0.156766  \n",
       "F10S    0.393686  0.188403  0.228885  0.120615  0.153822  0.041276  0.093277  \n",
       "F11R    0.103251  0.239743  0.100146  0.266331  0.216225  0.160724  0.193756  \n",
       "F11S    0.296464  0.112877  0.159502  0.225925  0.216177  0.116491  0.153867  \n",
       "F12R   -0.064832  0.287414  0.268739  0.482364  0.441902  0.445092  0.451131  \n",
       "F12S   -0.002913  0.242906  0.316828  0.425397  0.478359  0.411627  0.479093  \n",
       "F13R   -0.056757  0.365156  0.315804  0.749880  0.718895  0.700251  0.713997  \n",
       "F13S   -0.070443  0.337249  0.307254  0.678193  0.739152  0.644269  0.737132  \n",
       "F14R    0.047707  0.418879  0.283795  0.305375  0.287784  0.158638  0.206808  \n",
       "F14S    0.094660  0.275077  0.261332  0.214276  0.260831  0.051633  0.131416  \n",
       "F15R    0.370918  0.788190  0.758597  0.446901  0.351483  0.283653  0.286250  \n",
       "F15S    0.394448  0.721135  0.854704  0.446524  0.425297  0.321137  0.350515  \n",
       "F16R    0.225429  0.302938  0.275504  0.355327  0.295247  0.240488  0.297763  \n",
       "F16S    0.191912  0.222136  0.284238  0.325833  0.395248  0.291633  0.352994  \n",
       "F17R   -0.011653  0.069145  0.003710  0.214398  0.143403  0.295282  0.262840  \n",
       "F17S    0.047701  0.076926  0.143236  0.214023  0.302249  0.318296  0.344509  \n",
       "F18R    0.246752  0.695356  0.594169  0.450342  0.384007  0.240843  0.295192  \n",
       "F18S    0.382279  0.662307  0.664132  0.499622  0.465191  0.291608  0.366945  \n",
       "F19R    0.674086  0.446118  0.279254  0.181380  0.064396  0.110493  0.096838  \n",
       "F19S    1.000000  0.408375  0.475416  0.145015  0.033315  0.074845  0.090395  \n",
       "F20R    0.408375  1.000000  0.823848  0.562668  0.432455  0.410297  0.406359  \n",
       "F20S    0.475416  0.823848  1.000000  0.457537  0.436756  0.356752  0.387138  \n",
       "F21R    0.145015  0.562668  0.457537  1.000000  0.825310  0.843060  0.804697  \n",
       "F21S    0.033315  0.432455  0.436756  0.825310  1.000000  0.766514  0.873341  \n",
       "F22R    0.074845  0.410297  0.356752  0.843060  0.766514  1.000000  0.875791  \n",
       "F22S    0.090395  0.406359  0.387138  0.804697  0.873341  0.875791  1.000000  \n",
       "\n",
       "[45 rows x 45 columns]"
      ]
     },
     "execution_count": 10,
     "metadata": {},
     "output_type": "execute_result"
    }
   ],
   "source": [
    "## Now checks the correlation between the variables\n",
    "df_spectf.corr()"
   ]
  },
  {
   "cell_type": "code",
   "execution_count": 11,
   "metadata": {},
   "outputs": [
    {
     "data": {
      "text/plain": [
       "<matplotlib.axes._subplots.AxesSubplot at 0x17ef74eeb48>"
      ]
     },
     "execution_count": 11,
     "metadata": {},
     "output_type": "execute_result"
    },
    {
     "data": {
      "image/png": "[encoded data removed]",
      "text/plain": [
       "<Figure size 576x576 with 2 Axes>"
      ]
     },
     "metadata": {
      "needs_background": "light"
     },
     "output_type": "display_data"
    }
   ],
   "source": [
    "## Now visualise the co-relation\n",
    "plt.figure(figsize = (8,8))\n",
    "sns.heatmap(df_spectf.corr(),cmap=\"YlGnBu\",vmax=1,square=True)"
   ]
  },
  {
   "cell_type": "markdown",
   "metadata": {},
   "source": [
    "We can see from the above cor-relation that there are many variables are co-related."
   ]
  },
  {
   "cell_type": "code",
   "execution_count": 12,
   "metadata": {},
   "outputs": [
    {
     "name": "stdout",
     "output_type": "stream",
     "text": [
      "(187,)\n",
      "<class 'pandas.core.series.Series'>\n"
     ]
    }
   ],
   "source": [
    "## Now split the target variable and store as a separate\n",
    "y = df_spectf[\"target\"]\n",
    "print(y.shape)\n",
    "print(type(y))"
   ]
  },
  {
   "cell_type": "code",
   "execution_count": 13,
   "metadata": {},
   "outputs": [],
   "source": [
    "## Now drop the target variable from the main dataset\n",
    "X_spectf = df_spectf.drop(\"target\",axis=1)"
   ]
  },
  {
   "cell_type": "code",
   "execution_count": 14,
   "metadata": {},
   "outputs": [
    {
     "data": {
      "text/html": [
       "<div>\n",
       "<style scoped>\n",
       "    .dataframe tbody tr th:only-of-type {\n",
       "        vertical-align: middle;\n",
       "    }\n",
       "\n",
       "    .dataframe tbody tr th {\n",
       "        vertical-align: top;\n",
       "    }\n",
       "\n",
       "    .dataframe thead th {\n",
       "        text-align: right;\n",
       "    }\n",
       "</style>\n",
       "<table border=\"1\" class=\"dataframe\">\n",
       "  <thead>\n",
       "    <tr style=\"text-align: right;\">\n",
       "      <th></th>\n",
       "      <th>F1R</th>\n",
       "      <th>F1S</th>\n",
       "      <th>F2R</th>\n",
       "      <th>F2S</th>\n",
       "      <th>F3R</th>\n",
       "      <th>F3S</th>\n",
       "      <th>F4R</th>\n",
       "      <th>F4S</th>\n",
       "      <th>F5R</th>\n",
       "      <th>F5S</th>\n",
       "      <th>...</th>\n",
       "      <th>F18R</th>\n",
       "      <th>F18S</th>\n",
       "      <th>F19R</th>\n",
       "      <th>F19S</th>\n",
       "      <th>F20R</th>\n",
       "      <th>F20S</th>\n",
       "      <th>F21R</th>\n",
       "      <th>F21S</th>\n",
       "      <th>F22R</th>\n",
       "      <th>F22S</th>\n",
       "    </tr>\n",
       "  </thead>\n",
       "  <tbody>\n",
       "    <tr>\n",
       "      <th>0</th>\n",
       "      <td>67</td>\n",
       "      <td>68</td>\n",
       "      <td>73</td>\n",
       "      <td>78</td>\n",
       "      <td>65</td>\n",
       "      <td>63</td>\n",
       "      <td>67</td>\n",
       "      <td>60</td>\n",
       "      <td>63</td>\n",
       "      <td>62</td>\n",
       "      <td>...</td>\n",
       "      <td>61</td>\n",
       "      <td>56</td>\n",
       "      <td>76</td>\n",
       "      <td>75</td>\n",
       "      <td>74</td>\n",
       "      <td>77</td>\n",
       "      <td>76</td>\n",
       "      <td>74</td>\n",
       "      <td>59</td>\n",
       "      <td>68</td>\n",
       "    </tr>\n",
       "    <tr>\n",
       "      <th>1</th>\n",
       "      <td>75</td>\n",
       "      <td>74</td>\n",
       "      <td>71</td>\n",
       "      <td>71</td>\n",
       "      <td>62</td>\n",
       "      <td>58</td>\n",
       "      <td>70</td>\n",
       "      <td>64</td>\n",
       "      <td>71</td>\n",
       "      <td>68</td>\n",
       "      <td>...</td>\n",
       "      <td>66</td>\n",
       "      <td>62</td>\n",
       "      <td>68</td>\n",
       "      <td>69</td>\n",
       "      <td>69</td>\n",
       "      <td>66</td>\n",
       "      <td>64</td>\n",
       "      <td>58</td>\n",
       "      <td>57</td>\n",
       "      <td>52</td>\n",
       "    </tr>\n",
       "    <tr>\n",
       "      <th>2</th>\n",
       "      <td>83</td>\n",
       "      <td>64</td>\n",
       "      <td>66</td>\n",
       "      <td>67</td>\n",
       "      <td>67</td>\n",
       "      <td>74</td>\n",
       "      <td>74</td>\n",
       "      <td>72</td>\n",
       "      <td>64</td>\n",
       "      <td>68</td>\n",
       "      <td>...</td>\n",
       "      <td>67</td>\n",
       "      <td>64</td>\n",
       "      <td>69</td>\n",
       "      <td>63</td>\n",
       "      <td>68</td>\n",
       "      <td>54</td>\n",
       "      <td>65</td>\n",
       "      <td>64</td>\n",
       "      <td>43</td>\n",
       "      <td>42</td>\n",
       "    </tr>\n",
       "    <tr>\n",
       "      <th>3</th>\n",
       "      <td>72</td>\n",
       "      <td>66</td>\n",
       "      <td>65</td>\n",
       "      <td>65</td>\n",
       "      <td>64</td>\n",
       "      <td>61</td>\n",
       "      <td>71</td>\n",
       "      <td>78</td>\n",
       "      <td>73</td>\n",
       "      <td>69</td>\n",
       "      <td>...</td>\n",
       "      <td>69</td>\n",
       "      <td>68</td>\n",
       "      <td>68</td>\n",
       "      <td>63</td>\n",
       "      <td>71</td>\n",
       "      <td>72</td>\n",
       "      <td>65</td>\n",
       "      <td>63</td>\n",
       "      <td>58</td>\n",
       "      <td>60</td>\n",
       "    </tr>\n",
       "    <tr>\n",
       "      <th>4</th>\n",
       "      <td>62</td>\n",
       "      <td>60</td>\n",
       "      <td>69</td>\n",
       "      <td>61</td>\n",
       "      <td>63</td>\n",
       "      <td>63</td>\n",
       "      <td>70</td>\n",
       "      <td>68</td>\n",
       "      <td>70</td>\n",
       "      <td>65</td>\n",
       "      <td>...</td>\n",
       "      <td>66</td>\n",
       "      <td>66</td>\n",
       "      <td>58</td>\n",
       "      <td>56</td>\n",
       "      <td>72</td>\n",
       "      <td>73</td>\n",
       "      <td>71</td>\n",
       "      <td>64</td>\n",
       "      <td>49</td>\n",
       "      <td>42</td>\n",
       "    </tr>\n",
       "  </tbody>\n",
       "</table>\n",
       "<p>5 rows × 44 columns</p>\n",
       "</div>"
      ],
      "text/plain": [
       "   F1R  F1S  F2R  F2S  F3R  F3S  F4R  F4S  F5R  F5S  ...  F18R  F18S  F19R  \\\n",
       "0   67   68   73   78   65   63   67   60   63   62  ...    61    56    76   \n",
       "1   75   74   71   71   62   58   70   64   71   68  ...    66    62    68   \n",
       "2   83   64   66   67   67   74   74   72   64   68  ...    67    64    69   \n",
       "3   72   66   65   65   64   61   71   78   73   69  ...    69    68    68   \n",
       "4   62   60   69   61   63   63   70   68   70   65  ...    66    66    58   \n",
       "\n",
       "   F19S  F20R  F20S  F21R  F21S  F22R  F22S  \n",
       "0    75    74    77    76    74    59    68  \n",
       "1    69    69    66    64    58    57    52  \n",
       "2    63    68    54    65    64    43    42  \n",
       "3    63    71    72    65    63    58    60  \n",
       "4    56    72    73    71    64    49    42  \n",
       "\n",
       "[5 rows x 44 columns]"
      ]
     },
     "execution_count": 14,
     "metadata": {},
     "output_type": "execute_result"
    }
   ],
   "source": [
    "X_spectf.head()"
   ]
  },
  {
   "cell_type": "code",
   "execution_count": 15,
   "metadata": {},
   "outputs": [
    {
     "name": "stdout",
     "output_type": "stream",
     "text": [
      "(187, 44)\n",
      "<class 'pandas.core.frame.DataFrame'>\n"
     ]
    }
   ],
   "source": [
    "print(X_spectf.shape)\n",
    "print(type(X_spectf))"
   ]
  },
  {
   "cell_type": "code",
   "execution_count": 16,
   "metadata": {},
   "outputs": [],
   "source": [
    "## To solve the above warking lets strandadising the variables\n",
    "from sklearn.preprocessing import StandardScaler\n",
    "sdscaler = StandardScaler()\n",
    "X_spectf_scaler = sdscaler.fit_transform(X_spectf)"
   ]
  },
  {
   "cell_type": "code",
   "execution_count": 17,
   "metadata": {},
   "outputs": [
    {
     "data": {
      "text/plain": [
       "array([[ 0.20940529,  0.41596002,  0.68734602, ...,  0.96547463,\n",
       "         0.59118869,  1.28968911],\n",
       "       [ 1.10446332,  1.00822796,  0.39455854, ..., -0.02516326,\n",
       "         0.44098178,  0.22637971],\n",
       "       [ 1.99952135,  0.02111472, -0.33741018, ...,  0.34632595,\n",
       "        -0.61046658, -0.43818867],\n",
       "       ...,\n",
       "       [ 1.10446332,  0.90951664,  0.54095228, ...,  1.0273895 ,\n",
       "         1.19201632,  1.48905963],\n",
       "       [-0.68565274, -0.17630793,  0.54095228, ...,  1.08930437,\n",
       "         1.41732668,  1.42260279],\n",
       "       [-0.12624147,  0.21853737, -0.04462269, ...,  0.34632595,\n",
       "         0.44098178,  0.35929338]])"
      ]
     },
     "execution_count": 17,
     "metadata": {},
     "output_type": "execute_result"
    }
   ],
   "source": [
    "X_spectf_scaler"
   ]
  },
  {
   "cell_type": "code",
   "execution_count": 18,
   "metadata": {},
   "outputs": [
    {
     "data": {
      "text/plain": [
       "(187, 44)"
      ]
     },
     "execution_count": 18,
     "metadata": {},
     "output_type": "execute_result"
    }
   ],
   "source": [
    "X_spectf_scaler.shape"
   ]
  },
  {
   "cell_type": "code",
   "execution_count": 19,
   "metadata": {},
   "outputs": [
    {
     "data": {
      "text/html": [
       "<div>\n",
       "<style scoped>\n",
       "    .dataframe tbody tr th:only-of-type {\n",
       "        vertical-align: middle;\n",
       "    }\n",
       "\n",
       "    .dataframe tbody tr th {\n",
       "        vertical-align: top;\n",
       "    }\n",
       "\n",
       "    .dataframe thead th {\n",
       "        text-align: right;\n",
       "    }\n",
       "</style>\n",
       "<table border=\"1\" class=\"dataframe\">\n",
       "  <thead>\n",
       "    <tr style=\"text-align: right;\">\n",
       "      <th></th>\n",
       "      <th>0</th>\n",
       "      <th>1</th>\n",
       "      <th>2</th>\n",
       "      <th>3</th>\n",
       "      <th>4</th>\n",
       "      <th>5</th>\n",
       "      <th>6</th>\n",
       "      <th>7</th>\n",
       "      <th>8</th>\n",
       "      <th>9</th>\n",
       "      <th>...</th>\n",
       "      <th>34</th>\n",
       "      <th>35</th>\n",
       "      <th>36</th>\n",
       "      <th>37</th>\n",
       "      <th>38</th>\n",
       "      <th>39</th>\n",
       "      <th>40</th>\n",
       "      <th>41</th>\n",
       "      <th>42</th>\n",
       "      <th>43</th>\n",
       "    </tr>\n",
       "  </thead>\n",
       "  <tbody>\n",
       "    <tr>\n",
       "      <th>count</th>\n",
       "      <td>1.870000e+02</td>\n",
       "      <td>1.870000e+02</td>\n",
       "      <td>1.870000e+02</td>\n",
       "      <td>1.870000e+02</td>\n",
       "      <td>1.870000e+02</td>\n",
       "      <td>1.870000e+02</td>\n",
       "      <td>1.870000e+02</td>\n",
       "      <td>1.870000e+02</td>\n",
       "      <td>1.870000e+02</td>\n",
       "      <td>1.870000e+02</td>\n",
       "      <td>...</td>\n",
       "      <td>1.870000e+02</td>\n",
       "      <td>1.870000e+02</td>\n",
       "      <td>1.870000e+02</td>\n",
       "      <td>1.870000e+02</td>\n",
       "      <td>1.870000e+02</td>\n",
       "      <td>1.870000e+02</td>\n",
       "      <td>1.870000e+02</td>\n",
       "      <td>1.870000e+02</td>\n",
       "      <td>1.870000e+02</td>\n",
       "      <td>1.870000e+02</td>\n",
       "    </tr>\n",
       "    <tr>\n",
       "      <th>mean</th>\n",
       "      <td>3.640878e-16</td>\n",
       "      <td>-2.803758e-16</td>\n",
       "      <td>-1.036975e-15</td>\n",
       "      <td>-7.269883e-16</td>\n",
       "      <td>-2.284269e-16</td>\n",
       "      <td>-1.006325e-16</td>\n",
       "      <td>-6.132943e-16</td>\n",
       "      <td>2.505423e-16</td>\n",
       "      <td>3.497277e-16</td>\n",
       "      <td>-2.932889e-16</td>\n",
       "      <td>...</td>\n",
       "      <td>-1.258649e-16</td>\n",
       "      <td>2.196698e-17</td>\n",
       "      <td>-3.143653e-16</td>\n",
       "      <td>-1.369968e-16</td>\n",
       "      <td>1.543626e-17</td>\n",
       "      <td>2.612289e-17</td>\n",
       "      <td>-1.542883e-16</td>\n",
       "      <td>4.393396e-17</td>\n",
       "      <td>1.944375e-16</td>\n",
       "      <td>-4.838673e-17</td>\n",
       "    </tr>\n",
       "    <tr>\n",
       "      <th>std</th>\n",
       "      <td>1.002685e+00</td>\n",
       "      <td>1.002685e+00</td>\n",
       "      <td>1.002685e+00</td>\n",
       "      <td>1.002685e+00</td>\n",
       "      <td>1.002685e+00</td>\n",
       "      <td>1.002685e+00</td>\n",
       "      <td>1.002685e+00</td>\n",
       "      <td>1.002685e+00</td>\n",
       "      <td>1.002685e+00</td>\n",
       "      <td>1.002685e+00</td>\n",
       "      <td>...</td>\n",
       "      <td>1.002685e+00</td>\n",
       "      <td>1.002685e+00</td>\n",
       "      <td>1.002685e+00</td>\n",
       "      <td>1.002685e+00</td>\n",
       "      <td>1.002685e+00</td>\n",
       "      <td>1.002685e+00</td>\n",
       "      <td>1.002685e+00</td>\n",
       "      <td>1.002685e+00</td>\n",
       "      <td>1.002685e+00</td>\n",
       "      <td>1.002685e+00</td>\n",
       "    </tr>\n",
       "    <tr>\n",
       "      <th>min</th>\n",
       "      <td>-4.713414e+00</td>\n",
       "      <td>-4.223472e+00</td>\n",
       "      <td>-4.436435e+00</td>\n",
       "      <td>-3.803929e+00</td>\n",
       "      <td>-4.486612e+00</td>\n",
       "      <td>-3.721763e+00</td>\n",
       "      <td>-5.096135e+00</td>\n",
       "      <td>-4.584952e+00</td>\n",
       "      <td>-5.307309e+00</td>\n",
       "      <td>-4.011480e+00</td>\n",
       "      <td>...</td>\n",
       "      <td>-5.243510e+00</td>\n",
       "      <td>-3.976695e+00</td>\n",
       "      <td>-4.031719e+00</td>\n",
       "      <td>-5.012607e+00</td>\n",
       "      <td>-4.042764e+00</td>\n",
       "      <td>-4.114733e+00</td>\n",
       "      <td>-3.603834e+00</td>\n",
       "      <td>-3.120907e+00</td>\n",
       "      <td>-2.863570e+00</td>\n",
       "      <td>-2.963549e+00</td>\n",
       "    </tr>\n",
       "    <tr>\n",
       "      <th>25%</th>\n",
       "      <td>-4.618882e-01</td>\n",
       "      <td>-5.217976e-01</td>\n",
       "      <td>-6.301977e-01</td>\n",
       "      <td>-3.680648e-01</td>\n",
       "      <td>-4.000801e-01</td>\n",
       "      <td>-3.360184e-01</td>\n",
       "      <td>-2.479871e-01</td>\n",
       "      <td>-2.394521e-01</td>\n",
       "      <td>-2.442356e-01</td>\n",
       "      <td>-3.552001e-01</td>\n",
       "      <td>...</td>\n",
       "      <td>-2.148220e-01</td>\n",
       "      <td>-1.413401e-01</td>\n",
       "      <td>-5.767757e-01</td>\n",
       "      <td>-5.302583e-01</td>\n",
       "      <td>-2.567220e-01</td>\n",
       "      <td>-3.066371e-01</td>\n",
       "      <td>-3.405483e-01</td>\n",
       "      <td>-3.037802e-01</td>\n",
       "      <td>-5.353631e-01</td>\n",
       "      <td>-4.381887e-01</td>\n",
       "    </tr>\n",
       "    <tr>\n",
       "      <th>50%</th>\n",
       "      <td>9.752303e-02</td>\n",
       "      <td>1.198260e-01</td>\n",
       "      <td>1.017711e-01</td>\n",
       "      <td>1.861068e-01</td>\n",
       "      <td>1.238343e-01</td>\n",
       "      <td>1.618853e-01</td>\n",
       "      <td>1.735910e-01</td>\n",
       "      <td>2.328848e-01</td>\n",
       "      <td>2.255341e-01</td>\n",
       "      <td>1.526165e-01</td>\n",
       "      <td>...</td>\n",
       "      <td>3.053872e-01</td>\n",
       "      <td>2.755463e-01</td>\n",
       "      <td>1.142130e-01</td>\n",
       "      <td>2.350208e-01</td>\n",
       "      <td>2.733239e-01</td>\n",
       "      <td>2.792238e-01</td>\n",
       "      <td>3.379566e-01</td>\n",
       "      <td>2.844111e-01</td>\n",
       "      <td>2.907749e-01</td>\n",
       "      <td>2.263797e-01</td>\n",
       "    </tr>\n",
       "    <tr>\n",
       "      <th>75%</th>\n",
       "      <td>6.569343e-01</td>\n",
       "      <td>6.133827e-01</td>\n",
       "      <td>6.873460e-01</td>\n",
       "      <td>6.294441e-01</td>\n",
       "      <td>6.477487e-01</td>\n",
       "      <td>6.597889e-01</td>\n",
       "      <td>5.951691e-01</td>\n",
       "      <td>6.107544e-01</td>\n",
       "      <td>5.387139e-01</td>\n",
       "      <td>6.604331e-01</td>\n",
       "      <td>...</td>\n",
       "      <td>6.521933e-01</td>\n",
       "      <td>6.090554e-01</td>\n",
       "      <td>6.167503e-01</td>\n",
       "      <td>6.723231e-01</td>\n",
       "      <td>6.519281e-01</td>\n",
       "      <td>6.453868e-01</td>\n",
       "      <td>7.256737e-01</td>\n",
       "      <td>6.559003e-01</td>\n",
       "      <td>6.662921e-01</td>\n",
       "      <td>7.580344e-01</td>\n",
       "    </tr>\n",
       "    <tr>\n",
       "      <th>max</th>\n",
       "      <td>1.999521e+00</td>\n",
       "      <td>1.600496e+00</td>\n",
       "      <td>2.004890e+00</td>\n",
       "      <td>1.737787e+00</td>\n",
       "      <td>1.905143e+00</td>\n",
       "      <td>1.655596e+00</td>\n",
       "      <td>1.649114e+00</td>\n",
       "      <td>1.177559e+00</td>\n",
       "      <td>1.373860e+00</td>\n",
       "      <td>1.574503e+00</td>\n",
       "      <td>...</td>\n",
       "      <td>1.461408e+00</td>\n",
       "      <td>1.276074e+00</td>\n",
       "      <td>1.873093e+00</td>\n",
       "      <td>1.656253e+00</td>\n",
       "      <td>1.257695e+00</td>\n",
       "      <td>1.377713e+00</td>\n",
       "      <td>1.371869e+00</td>\n",
       "      <td>1.460794e+00</td>\n",
       "      <td>2.318568e+00</td>\n",
       "      <td>1.489060e+00</td>\n",
       "    </tr>\n",
       "  </tbody>\n",
       "</table>\n",
       "<p>8 rows × 44 columns</p>\n",
       "</div>"
      ],
      "text/plain": [
       "                 0             1             2             3             4   \\\n",
       "count  1.870000e+02  1.870000e+02  1.870000e+02  1.870000e+02  1.870000e+02   \n",
       "mean   3.640878e-16 -2.803758e-16 -1.036975e-15 -7.269883e-16 -2.284269e-16   \n",
       "std    1.002685e+00  1.002685e+00  1.002685e+00  1.002685e+00  1.002685e+00   \n",
       "min   -4.713414e+00 -4.223472e+00 -4.436435e+00 -3.803929e+00 -4.486612e+00   \n",
       "25%   -4.618882e-01 -5.217976e-01 -6.301977e-01 -3.680648e-01 -4.000801e-01   \n",
       "50%    9.752303e-02  1.198260e-01  1.017711e-01  1.861068e-01  1.238343e-01   \n",
       "75%    6.569343e-01  6.133827e-01  6.873460e-01  6.294441e-01  6.477487e-01   \n",
       "max    1.999521e+00  1.600496e+00  2.004890e+00  1.737787e+00  1.905143e+00   \n",
       "\n",
       "                 5             6             7             8             9   \\\n",
       "count  1.870000e+02  1.870000e+02  1.870000e+02  1.870000e+02  1.870000e+02   \n",
       "mean  -1.006325e-16 -6.132943e-16  2.505423e-16  3.497277e-16 -2.932889e-16   \n",
       "std    1.002685e+00  1.002685e+00  1.002685e+00  1.002685e+00  1.002685e+00   \n",
       "min   -3.721763e+00 -5.096135e+00 -4.584952e+00 -5.307309e+00 -4.011480e+00   \n",
       "25%   -3.360184e-01 -2.479871e-01 -2.394521e-01 -2.442356e-01 -3.552001e-01   \n",
       "50%    1.618853e-01  1.735910e-01  2.328848e-01  2.255341e-01  1.526165e-01   \n",
       "75%    6.597889e-01  5.951691e-01  6.107544e-01  5.387139e-01  6.604331e-01   \n",
       "max    1.655596e+00  1.649114e+00  1.177559e+00  1.373860e+00  1.574503e+00   \n",
       "\n",
       "       ...            34            35            36            37  \\\n",
       "count  ...  1.870000e+02  1.870000e+02  1.870000e+02  1.870000e+02   \n",
       "mean   ... -1.258649e-16  2.196698e-17 -3.143653e-16 -1.369968e-16   \n",
       "std    ...  1.002685e+00  1.002685e+00  1.002685e+00  1.002685e+00   \n",
       "min    ... -5.243510e+00 -3.976695e+00 -4.031719e+00 -5.012607e+00   \n",
       "25%    ... -2.148220e-01 -1.413401e-01 -5.767757e-01 -5.302583e-01   \n",
       "50%    ...  3.053872e-01  2.755463e-01  1.142130e-01  2.350208e-01   \n",
       "75%    ...  6.521933e-01  6.090554e-01  6.167503e-01  6.723231e-01   \n",
       "max    ...  1.461408e+00  1.276074e+00  1.873093e+00  1.656253e+00   \n",
       "\n",
       "                 38            39            40            41            42  \\\n",
       "count  1.870000e+02  1.870000e+02  1.870000e+02  1.870000e+02  1.870000e+02   \n",
       "mean   1.543626e-17  2.612289e-17 -1.542883e-16  4.393396e-17  1.944375e-16   \n",
       "std    1.002685e+00  1.002685e+00  1.002685e+00  1.002685e+00  1.002685e+00   \n",
       "min   -4.042764e+00 -4.114733e+00 -3.603834e+00 -3.120907e+00 -2.863570e+00   \n",
       "25%   -2.567220e-01 -3.066371e-01 -3.405483e-01 -3.037802e-01 -5.353631e-01   \n",
       "50%    2.733239e-01  2.792238e-01  3.379566e-01  2.844111e-01  2.907749e-01   \n",
       "75%    6.519281e-01  6.453868e-01  7.256737e-01  6.559003e-01  6.662921e-01   \n",
       "max    1.257695e+00  1.377713e+00  1.371869e+00  1.460794e+00  2.318568e+00   \n",
       "\n",
       "                 43  \n",
       "count  1.870000e+02  \n",
       "mean  -4.838673e-17  \n",
       "std    1.002685e+00  \n",
       "min   -2.963549e+00  \n",
       "25%   -4.381887e-01  \n",
       "50%    2.263797e-01  \n",
       "75%    7.580344e-01  \n",
       "max    1.489060e+00  \n",
       "\n",
       "[8 rows x 44 columns]"
      ]
     },
     "execution_count": 19,
     "metadata": {},
     "output_type": "execute_result"
    }
   ],
   "source": [
    "pd.DataFrame(X_spectf_scaler).describe()"
   ]
  },
  {
   "cell_type": "code",
   "execution_count": 20,
   "metadata": {},
   "outputs": [
    {
     "name": "stdout",
     "output_type": "stream",
     "text": [
      "Time taken to train the model with all the variables is 5.030061721801758.\n"
     ]
    }
   ],
   "source": [
    "## We will train our model using Logistic Regression and we will record the time taken to train the model\n",
    "from sklearn.linear_model import LogisticRegressionCV\n",
    "lg = LogisticRegressionCV(cv = 5,max_iter=4000)\n",
    "### Pls check link for CV -- https://towardsdatascience.com/train-test-split-and-cross-validation-in-python-80b61beca4b6\n",
    "start_time_lr = time.time()\n",
    "lg.fit(X_spectf,y)\n",
    "end_time_lr = time.time()\n",
    "time_taken_before_PCA = end_time_lr - start_time_lr\n",
    "print(\"Time taken to train the model with all the variables is {}.\".format(time_taken_before_PCA))"
   ]
  },
  {
   "cell_type": "markdown",
   "metadata": {},
   "source": [
    "### Apply the PCA"
   ]
  },
  {
   "cell_type": "markdown",
   "metadata": {},
   "source": [
    "Principal component analysis is a statistical procedure that uses an **orthogonal transformation** to convert a set of observations of possibly **correlated variables** into a set of values of **linearly uncorrelated variables** called principal components\n",
    "- With PCA we can reduce the dimentions with out losing much information\n",
    "- PCA also helps to remove the multicollinearity between the variables"
   ]
  },
  {
   "cell_type": "code",
   "execution_count": 21,
   "metadata": {},
   "outputs": [],
   "source": [
    "from sklearn.decomposition import PCA"
   ]
  },
  {
   "cell_type": "code",
   "execution_count": 22,
   "metadata": {},
   "outputs": [
    {
     "data": {
      "text/plain": [
       "numpy.ndarray"
      ]
     },
     "execution_count": 22,
     "metadata": {},
     "output_type": "execute_result"
    }
   ],
   "source": [
    "type(X_spectf_scaler)"
   ]
  },
  {
   "cell_type": "code",
   "execution_count": 23,
   "metadata": {},
   "outputs": [],
   "source": [
    "pc = PCA()\n",
    "pca = pc.fit(X_spectf_scaler)\n",
    "X_pca_transform = pca.transform(X_spectf_scaler)"
   ]
  },
  {
   "cell_type": "code",
   "execution_count": 24,
   "metadata": {},
   "outputs": [
    {
     "data": {
      "text/plain": [
       "array([14.34562074,  5.83681585,  4.42162892,  2.34332289,  1.80650522,\n",
       "        1.55240242,  1.45319376,  1.36726928,  1.29681023,  1.09713609,\n",
       "        0.90936507,  0.7917635 ,  0.71012602,  0.65566146,  0.55558117,\n",
       "        0.52786403,  0.46792461,  0.40259812,  0.33576864,  0.31605158,\n",
       "        0.29306647,  0.28413263,  0.24971262,  0.23242124,  0.19851243,\n",
       "        0.18062938,  0.17242752,  0.16469028,  0.15106954,  0.13134794,\n",
       "        0.12212081,  0.11471285,  0.10372077,  0.09271628,  0.08059425,\n",
       "        0.07867202,  0.07363336,  0.06858027,  0.05356435,  0.04941072,\n",
       "        0.04523983,  0.04274213,  0.03500209,  0.02442975])"
      ]
     },
     "execution_count": 24,
     "metadata": {},
     "output_type": "execute_result"
    }
   ],
   "source": [
    "pc.explained_variance_"
   ]
  },
  {
   "cell_type": "code",
   "execution_count": 25,
   "metadata": {},
   "outputs": [
    {
     "data": {
      "text/plain": [
       "array([0.32429332, 0.13194552, 0.09995418, 0.05297254, 0.04083738,\n",
       "       0.0350932 , 0.03285052, 0.03090813, 0.02931535, 0.02480157,\n",
       "       0.02055687, 0.0178984 , 0.01605292, 0.01482171, 0.01255932,\n",
       "       0.01193276, 0.01057778, 0.00910103, 0.0075903 , 0.00714458,\n",
       "       0.00662498, 0.00642303, 0.00564494, 0.00525405, 0.00448752,\n",
       "       0.00408326, 0.00389785, 0.00372295, 0.00341504, 0.00296922,\n",
       "       0.00276063, 0.00259317, 0.00234468, 0.00209592, 0.00182189,\n",
       "       0.00177844, 0.00166454, 0.00155031, 0.00121086, 0.00111697,\n",
       "       0.00102268, 0.00096622, 0.00079125, 0.00055225])"
      ]
     },
     "execution_count": 25,
     "metadata": {},
     "output_type": "execute_result"
    }
   ],
   "source": [
    "pc.explained_variance_ratio_"
   ]
  },
  {
   "cell_type": "code",
   "execution_count": 26,
   "metadata": {
    "scrolled": true
   },
   "outputs": [
    {
     "data": {
      "image/png": "[encoded data removed]",
      "text/plain": [
       "<Figure size 576x288 with 1 Axes>"
      ]
     },
     "metadata": {
      "needs_background": "light"
     },
     "output_type": "display_data"
    }
   ],
   "source": [
    "plt.figure(figsize= (8,4))\n",
    "plt.plot(np.cumsum(pca.explained_variance_ratio_))\n",
    "plt.ylabel(\"Cumulative Explained Variance\")\n",
    "plt.xlabel(\"No of components\")\n",
    "plt.annotate(\"point where PCA is able to explain more than 90% of variance\",xy=(10,0.80))\n",
    "plt.show()"
   ]
  },
  {
   "cell_type": "markdown",
   "metadata": {},
   "source": [
    "we can see from the above graph that cumulative Explained Variance ratio helps us to select the principal components.\n",
    "As we can observe that **10 Principal components** can explain **80% variance** in data"
   ]
  },
  {
   "cell_type": "code",
   "execution_count": 27,
   "metadata": {},
   "outputs": [
    {
     "data": {
      "text/plain": [
       "44"
      ]
     },
     "execution_count": 27,
     "metadata": {},
     "output_type": "execute_result"
    }
   ],
   "source": [
    "leng =len(X_spectf.columns)\n",
    "leng"
   ]
  },
  {
   "cell_type": "code",
   "execution_count": 28,
   "metadata": {},
   "outputs": [
    {
     "data": {
      "text/plain": [
       "(44,)"
      ]
     },
     "execution_count": 28,
     "metadata": {},
     "output_type": "execute_result"
    }
   ],
   "source": [
    "pca.explained_variance_.shape"
   ]
  },
  {
   "cell_type": "code",
   "execution_count": 29,
   "metadata": {
    "scrolled": false
   },
   "outputs": [
    {
     "data": {
      "text/plain": [
       "<matplotlib.legend.Legend at 0x17ef92707c8>"
      ]
     },
     "execution_count": 29,
     "metadata": {},
     "output_type": "execute_result"
    },
    {
     "data": {
      "image/png": "[encoded data removed]",
      "text/plain": [
       "<Figure size 1080x288 with 1 Axes>"
      ]
     },
     "metadata": {
      "needs_background": "light"
     },
     "output_type": "display_data"
    }
   ],
   "source": [
    "plt.figure(figsize=(15, 4))\n",
    "plt.bar(range(leng),pca.explained_variance_,label='Individual explained variance')\n",
    "plt.ylabel('Explained variance')\n",
    "plt.xlabel('Principal components')\n",
    "plt.xticks(range(leng))\n",
    "plt.legend()"
   ]
  },
  {
   "cell_type": "markdown",
   "metadata": {},
   "source": [
    "We can see from the above graph that using PCA we can transform linearly corelated variables into set of uncorelated variables. \n"
   ]
  },
  {
   "cell_type": "code",
   "execution_count": 30,
   "metadata": {},
   "outputs": [
    {
     "data": {
      "text/plain": [
       "(187, 44)"
      ]
     },
     "execution_count": 30,
     "metadata": {},
     "output_type": "execute_result"
    }
   ],
   "source": [
    "X_pca_transform.shape"
   ]
  },
  {
   "cell_type": "code",
   "execution_count": 31,
   "metadata": {},
   "outputs": [
    {
     "data": {
      "text/plain": [
       "numpy.ndarray"
      ]
     },
     "execution_count": 31,
     "metadata": {},
     "output_type": "execute_result"
    }
   ],
   "source": [
    "type(X_pca_transform)"
   ]
  },
  {
   "cell_type": "code",
   "execution_count": 32,
   "metadata": {},
   "outputs": [
    {
     "data": {
      "text/plain": [
       "Text(0.5, 1, 'Correlation between different features')"
      ]
     },
     "execution_count": 32,
     "metadata": {},
     "output_type": "execute_result"
    },
    {
     "data": {
      "image/png": "[encoded data removed]",
      "text/plain": [
       "<Figure size 432x288 with 2 Axes>"
      ]
     },
     "metadata": {
      "needs_background": "light"
     },
     "output_type": "display_data"
    }
   ],
   "source": [
    "## Lets check the corelation using heatmap post PCA\n",
    "sns.heatmap(pd.DataFrame(X_pca_transform).corr())\n",
    "plt.title(\"Correlation between different features\")"
   ]
  },
  {
   "cell_type": "markdown",
   "metadata": {},
   "source": [
    "Lets again compare the Logistic Regresstion model using PCA components = 10, becuase they are able to explain more than 80% varinace in data"
   ]
  },
  {
   "cell_type": "code",
   "execution_count": 33,
   "metadata": {},
   "outputs": [],
   "source": [
    "PC = PCA(n_components=10)\n",
    "post_pca = PC.fit(X_spectf_scaler)\n",
    "X_post_pca_transform = PC.transform(X_spectf_scaler)"
   ]
  },
  {
   "cell_type": "code",
   "execution_count": 34,
   "metadata": {},
   "outputs": [
    {
     "data": {
      "text/plain": [
       "(187, 10)"
      ]
     },
     "execution_count": 34,
     "metadata": {},
     "output_type": "execute_result"
    }
   ],
   "source": [
    "X_post_pca_transform.shape"
   ]
  },
  {
   "cell_type": "code",
   "execution_count": 35,
   "metadata": {},
   "outputs": [
    {
     "data": {
      "text/plain": [
       "numpy.ndarray"
      ]
     },
     "execution_count": 35,
     "metadata": {},
     "output_type": "execute_result"
    }
   ],
   "source": [
    "type(X_post_pca_transform)"
   ]
  },
  {
   "cell_type": "code",
   "execution_count": 36,
   "metadata": {},
   "outputs": [
    {
     "name": "stdout",
     "output_type": "stream",
     "text": [
      "Time taken to train the model with 10 Principal components 0.12501215934753418\n"
     ]
    }
   ],
   "source": [
    "post_lr = LogisticRegressionCV(cv = 5,max_iter=4000)\n",
    "start_time = time.time()\n",
    "post_lr.fit(X_post_pca_transform,y)\n",
    "end_time = time.time()\n",
    "print(\"Time taken to train the model with 10 Principal components {}\".format(end_time-start_time))"
   ]
  },
  {
   "cell_type": "code",
   "execution_count": 37,
   "metadata": {},
   "outputs": [
    {
     "name": "stdout",
     "output_type": "stream",
     "text": [
      "Time taken to train the model with all the variables is 5.030061721801758.\n",
      "Time taken to train the model with 10 Principal components 0.12501215934753418\n"
     ]
    }
   ],
   "source": [
    "print(\"Time taken to train the model with all the variables is {}.\".format(time_taken_before_PCA))\n",
    "print(\"Time taken to train the model with 10 Principal components {}\".format(end_time-start_time))"
   ]
  },
  {
   "cell_type": "code",
   "execution_count": 38,
   "metadata": {},
   "outputs": [
    {
     "name": "stdout",
     "output_type": "stream",
     "text": [
      "10 components are able to explain variance up to 80.29717070481266%\n"
     ]
    }
   ],
   "source": [
    "## Lets calculate the how much variance we get using these 15 components\n",
    "print(\"10 components are able to explain variance up to {}%\".format(post_pca.explained_variance_ratio_.sum()*100))"
   ]
  },
  {
   "cell_type": "code",
   "execution_count": 39,
   "metadata": {},
   "outputs": [
    {
     "data": {
      "text/plain": [
       "array([14.34562074,  5.83681585,  4.42162892,  2.34332289,  1.80650522,\n",
       "        1.55240242,  1.45319376,  1.36726928,  1.29681023,  1.09713609])"
      ]
     },
     "execution_count": 39,
     "metadata": {},
     "output_type": "execute_result"
    }
   ],
   "source": [
    "## Calculagte the Eigen Value \n",
    "## Ideally we should take those components which have atleast more than 1 worth of variable's explainning power\n",
    "## But as we know that we also need to count the our model should include all thsoe components which are able\n",
    "## to explain more than 80% of data variance.\n",
    "post_pca.explained_variance_"
   ]
  },
  {
   "cell_type": "markdown",
   "metadata": {},
   "source": [
    "### PCA_Random Forest"
   ]
  },
  {
   "cell_type": "code",
   "execution_count": 40,
   "metadata": {},
   "outputs": [],
   "source": [
    "import numpy as np\n",
    "import pandas as pd\n",
    "import matplotlib.pyplot as plt\n",
    "plt.style.use('fivethirtyeight')\n",
    "import seaborn as sns\n",
    "import time\n",
    "import random\n",
    "%matplotlib inline"
   ]
  },
  {
   "cell_type": "code",
   "execution_count": 41,
   "metadata": {},
   "outputs": [],
   "source": [
    "## Lets import the same data set\n",
    "url = \"https://archive.ics.uci.edu/ml/machine-learning-databases/spect/SPECTF.test\"\n",
    "col_name = ['target', 'F1R', 'F1S', 'F2R', 'F2S', 'F3R', 'F3S', 'F4R', 'F4S', 'F5R','F5S','F6R','F6S','F7R','F7S','F8R','F8S','F9R','F9S','F10R',\n",
    "    'F10S',  'F11R','F11S','F12R','F12S','F13R','F13S','F14R','F14S','F15R','F15S','F16R','F16S','F17R','F17S','F18R','F18S','F19R','F19S',   'F20R',\n",
    "    'F20S','F21R','F21S','F22R','F22S']"
   ]
  },
  {
   "cell_type": "code",
   "execution_count": 42,
   "metadata": {},
   "outputs": [],
   "source": [
    "df_spectf = pd.read_csv(url,sep=\",\",names= col_name)"
   ]
  },
  {
   "cell_type": "code",
   "execution_count": 43,
   "metadata": {},
   "outputs": [
    {
     "data": {
      "text/html": [
       "<div>\n",
       "<style scoped>\n",
       "    .dataframe tbody tr th:only-of-type {\n",
       "        vertical-align: middle;\n",
       "    }\n",
       "\n",
       "    .dataframe tbody tr th {\n",
       "        vertical-align: top;\n",
       "    }\n",
       "\n",
       "    .dataframe thead th {\n",
       "        text-align: right;\n",
       "    }\n",
       "</style>\n",
       "<table border=\"1\" class=\"dataframe\">\n",
       "  <thead>\n",
       "    <tr style=\"text-align: right;\">\n",
       "      <th></th>\n",
       "      <th>target</th>\n",
       "      <th>F1R</th>\n",
       "      <th>F1S</th>\n",
       "      <th>F2R</th>\n",
       "      <th>F2S</th>\n",
       "      <th>F3R</th>\n",
       "      <th>F3S</th>\n",
       "      <th>F4R</th>\n",
       "      <th>F4S</th>\n",
       "      <th>F5R</th>\n",
       "      <th>...</th>\n",
       "      <th>F18R</th>\n",
       "      <th>F18S</th>\n",
       "      <th>F19R</th>\n",
       "      <th>F19S</th>\n",
       "      <th>F20R</th>\n",
       "      <th>F20S</th>\n",
       "      <th>F21R</th>\n",
       "      <th>F21S</th>\n",
       "      <th>F22R</th>\n",
       "      <th>F22S</th>\n",
       "    </tr>\n",
       "  </thead>\n",
       "  <tbody>\n",
       "    <tr>\n",
       "      <th>0</th>\n",
       "      <td>1</td>\n",
       "      <td>67</td>\n",
       "      <td>68</td>\n",
       "      <td>73</td>\n",
       "      <td>78</td>\n",
       "      <td>65</td>\n",
       "      <td>63</td>\n",
       "      <td>67</td>\n",
       "      <td>60</td>\n",
       "      <td>63</td>\n",
       "      <td>...</td>\n",
       "      <td>61</td>\n",
       "      <td>56</td>\n",
       "      <td>76</td>\n",
       "      <td>75</td>\n",
       "      <td>74</td>\n",
       "      <td>77</td>\n",
       "      <td>76</td>\n",
       "      <td>74</td>\n",
       "      <td>59</td>\n",
       "      <td>68</td>\n",
       "    </tr>\n",
       "    <tr>\n",
       "      <th>1</th>\n",
       "      <td>1</td>\n",
       "      <td>75</td>\n",
       "      <td>74</td>\n",
       "      <td>71</td>\n",
       "      <td>71</td>\n",
       "      <td>62</td>\n",
       "      <td>58</td>\n",
       "      <td>70</td>\n",
       "      <td>64</td>\n",
       "      <td>71</td>\n",
       "      <td>...</td>\n",
       "      <td>66</td>\n",
       "      <td>62</td>\n",
       "      <td>68</td>\n",
       "      <td>69</td>\n",
       "      <td>69</td>\n",
       "      <td>66</td>\n",
       "      <td>64</td>\n",
       "      <td>58</td>\n",
       "      <td>57</td>\n",
       "      <td>52</td>\n",
       "    </tr>\n",
       "    <tr>\n",
       "      <th>2</th>\n",
       "      <td>1</td>\n",
       "      <td>83</td>\n",
       "      <td>64</td>\n",
       "      <td>66</td>\n",
       "      <td>67</td>\n",
       "      <td>67</td>\n",
       "      <td>74</td>\n",
       "      <td>74</td>\n",
       "      <td>72</td>\n",
       "      <td>64</td>\n",
       "      <td>...</td>\n",
       "      <td>67</td>\n",
       "      <td>64</td>\n",
       "      <td>69</td>\n",
       "      <td>63</td>\n",
       "      <td>68</td>\n",
       "      <td>54</td>\n",
       "      <td>65</td>\n",
       "      <td>64</td>\n",
       "      <td>43</td>\n",
       "      <td>42</td>\n",
       "    </tr>\n",
       "    <tr>\n",
       "      <th>3</th>\n",
       "      <td>1</td>\n",
       "      <td>72</td>\n",
       "      <td>66</td>\n",
       "      <td>65</td>\n",
       "      <td>65</td>\n",
       "      <td>64</td>\n",
       "      <td>61</td>\n",
       "      <td>71</td>\n",
       "      <td>78</td>\n",
       "      <td>73</td>\n",
       "      <td>...</td>\n",
       "      <td>69</td>\n",
       "      <td>68</td>\n",
       "      <td>68</td>\n",
       "      <td>63</td>\n",
       "      <td>71</td>\n",
       "      <td>72</td>\n",
       "      <td>65</td>\n",
       "      <td>63</td>\n",
       "      <td>58</td>\n",
       "      <td>60</td>\n",
       "    </tr>\n",
       "    <tr>\n",
       "      <th>4</th>\n",
       "      <td>1</td>\n",
       "      <td>62</td>\n",
       "      <td>60</td>\n",
       "      <td>69</td>\n",
       "      <td>61</td>\n",
       "      <td>63</td>\n",
       "      <td>63</td>\n",
       "      <td>70</td>\n",
       "      <td>68</td>\n",
       "      <td>70</td>\n",
       "      <td>...</td>\n",
       "      <td>66</td>\n",
       "      <td>66</td>\n",
       "      <td>58</td>\n",
       "      <td>56</td>\n",
       "      <td>72</td>\n",
       "      <td>73</td>\n",
       "      <td>71</td>\n",
       "      <td>64</td>\n",
       "      <td>49</td>\n",
       "      <td>42</td>\n",
       "    </tr>\n",
       "  </tbody>\n",
       "</table>\n",
       "<p>5 rows × 45 columns</p>\n",
       "</div>"
      ],
      "text/plain": [
       "   target  F1R  F1S  F2R  F2S  F3R  F3S  F4R  F4S  F5R  ...  F18R  F18S  F19R  \\\n",
       "0       1   67   68   73   78   65   63   67   60   63  ...    61    56    76   \n",
       "1       1   75   74   71   71   62   58   70   64   71  ...    66    62    68   \n",
       "2       1   83   64   66   67   67   74   74   72   64  ...    67    64    69   \n",
       "3       1   72   66   65   65   64   61   71   78   73  ...    69    68    68   \n",
       "4       1   62   60   69   61   63   63   70   68   70  ...    66    66    58   \n",
       "\n",
       "   F19S  F20R  F20S  F21R  F21S  F22R  F22S  \n",
       "0    75    74    77    76    74    59    68  \n",
       "1    69    69    66    64    58    57    52  \n",
       "2    63    68    54    65    64    43    42  \n",
       "3    63    71    72    65    63    58    60  \n",
       "4    56    72    73    71    64    49    42  \n",
       "\n",
       "[5 rows x 45 columns]"
      ]
     },
     "execution_count": 43,
     "metadata": {},
     "output_type": "execute_result"
    }
   ],
   "source": [
    "df_spectf.head()"
   ]
  },
  {
   "cell_type": "code",
   "execution_count": 44,
   "metadata": {},
   "outputs": [
    {
     "name": "stdout",
     "output_type": "stream",
     "text": [
      "<class 'pandas.core.frame.DataFrame'>\n",
      "(187, 45)\n"
     ]
    }
   ],
   "source": [
    "print(type(df_spectf))\n",
    "print(df_spectf.shape)"
   ]
  },
  {
   "cell_type": "code",
   "execution_count": 45,
   "metadata": {},
   "outputs": [
    {
     "data": {
      "text/html": [
       "<div>\n",
       "<style scoped>\n",
       "    .dataframe tbody tr th:only-of-type {\n",
       "        vertical-align: middle;\n",
       "    }\n",
       "\n",
       "    .dataframe tbody tr th {\n",
       "        vertical-align: top;\n",
       "    }\n",
       "\n",
       "    .dataframe thead th {\n",
       "        text-align: right;\n",
       "    }\n",
       "</style>\n",
       "<table border=\"1\" class=\"dataframe\">\n",
       "  <thead>\n",
       "    <tr style=\"text-align: right;\">\n",
       "      <th></th>\n",
       "      <th>target</th>\n",
       "      <th>F1R</th>\n",
       "      <th>F1S</th>\n",
       "      <th>F2R</th>\n",
       "      <th>F2S</th>\n",
       "      <th>F3R</th>\n",
       "      <th>F3S</th>\n",
       "      <th>F4R</th>\n",
       "      <th>F4S</th>\n",
       "      <th>F5R</th>\n",
       "      <th>...</th>\n",
       "      <th>F18R</th>\n",
       "      <th>F18S</th>\n",
       "      <th>F19R</th>\n",
       "      <th>F19S</th>\n",
       "      <th>F20R</th>\n",
       "      <th>F20S</th>\n",
       "      <th>F21R</th>\n",
       "      <th>F21S</th>\n",
       "      <th>F22R</th>\n",
       "      <th>F22S</th>\n",
       "    </tr>\n",
       "  </thead>\n",
       "  <tbody>\n",
       "    <tr>\n",
       "      <th>count</th>\n",
       "      <td>187.000000</td>\n",
       "      <td>187.000000</td>\n",
       "      <td>187.000000</td>\n",
       "      <td>187.000000</td>\n",
       "      <td>187.000000</td>\n",
       "      <td>187.000000</td>\n",
       "      <td>187.000000</td>\n",
       "      <td>187.000000</td>\n",
       "      <td>187.000000</td>\n",
       "      <td>187.000000</td>\n",
       "      <td>...</td>\n",
       "      <td>187.000000</td>\n",
       "      <td>187.000000</td>\n",
       "      <td>187.000000</td>\n",
       "      <td>187.000000</td>\n",
       "      <td>187.000000</td>\n",
       "      <td>187.000000</td>\n",
       "      <td>187.000000</td>\n",
       "      <td>187.000000</td>\n",
       "      <td>187.000000</td>\n",
       "      <td>187.000000</td>\n",
       "    </tr>\n",
       "    <tr>\n",
       "      <th>mean</th>\n",
       "      <td>0.919786</td>\n",
       "      <td>65.128342</td>\n",
       "      <td>63.786096</td>\n",
       "      <td>68.304813</td>\n",
       "      <td>68.320856</td>\n",
       "      <td>63.818182</td>\n",
       "      <td>62.374332</td>\n",
       "      <td>69.352941</td>\n",
       "      <td>68.534759</td>\n",
       "      <td>62.839572</td>\n",
       "      <td>...</td>\n",
       "      <td>63.358289</td>\n",
       "      <td>61.695187</td>\n",
       "      <td>65.090909</td>\n",
       "      <td>63.850267</td>\n",
       "      <td>64.390374</td>\n",
       "      <td>62.187166</td>\n",
       "      <td>60.770053</td>\n",
       "      <td>58.406417</td>\n",
       "      <td>51.128342</td>\n",
       "      <td>48.593583</td>\n",
       "    </tr>\n",
       "    <tr>\n",
       "      <th>std</th>\n",
       "      <td>0.272353</td>\n",
       "      <td>8.961963</td>\n",
       "      <td>10.157746</td>\n",
       "      <td>6.849231</td>\n",
       "      <td>9.046697</td>\n",
       "      <td>9.569165</td>\n",
       "      <td>10.069062</td>\n",
       "      <td>9.513631</td>\n",
       "      <td>10.614082</td>\n",
       "      <td>9.604879</td>\n",
       "      <td>...</td>\n",
       "      <td>8.673589</td>\n",
       "      <td>12.025874</td>\n",
       "      <td>7.980977</td>\n",
       "      <td>9.171545</td>\n",
       "      <td>13.241857</td>\n",
       "      <td>13.691778</td>\n",
       "      <td>15.516746</td>\n",
       "      <td>16.194568</td>\n",
       "      <td>13.350712</td>\n",
       "      <td>15.087756</td>\n",
       "    </tr>\n",
       "    <tr>\n",
       "      <th>min</th>\n",
       "      <td>0.000000</td>\n",
       "      <td>23.000000</td>\n",
       "      <td>21.000000</td>\n",
       "      <td>38.000000</td>\n",
       "      <td>34.000000</td>\n",
       "      <td>21.000000</td>\n",
       "      <td>25.000000</td>\n",
       "      <td>21.000000</td>\n",
       "      <td>20.000000</td>\n",
       "      <td>12.000000</td>\n",
       "      <td>...</td>\n",
       "      <td>18.000000</td>\n",
       "      <td>14.000000</td>\n",
       "      <td>33.000000</td>\n",
       "      <td>18.000000</td>\n",
       "      <td>11.000000</td>\n",
       "      <td>6.000000</td>\n",
       "      <td>5.000000</td>\n",
       "      <td>8.000000</td>\n",
       "      <td>13.000000</td>\n",
       "      <td>4.000000</td>\n",
       "    </tr>\n",
       "    <tr>\n",
       "      <th>25%</th>\n",
       "      <td>1.000000</td>\n",
       "      <td>61.000000</td>\n",
       "      <td>58.500000</td>\n",
       "      <td>64.000000</td>\n",
       "      <td>65.000000</td>\n",
       "      <td>60.000000</td>\n",
       "      <td>59.000000</td>\n",
       "      <td>67.000000</td>\n",
       "      <td>66.000000</td>\n",
       "      <td>60.500000</td>\n",
       "      <td>...</td>\n",
       "      <td>61.500000</td>\n",
       "      <td>60.000000</td>\n",
       "      <td>60.500000</td>\n",
       "      <td>59.000000</td>\n",
       "      <td>61.000000</td>\n",
       "      <td>58.000000</td>\n",
       "      <td>55.500000</td>\n",
       "      <td>53.500000</td>\n",
       "      <td>44.000000</td>\n",
       "      <td>42.000000</td>\n",
       "    </tr>\n",
       "    <tr>\n",
       "      <th>50%</th>\n",
       "      <td>1.000000</td>\n",
       "      <td>66.000000</td>\n",
       "      <td>65.000000</td>\n",
       "      <td>69.000000</td>\n",
       "      <td>70.000000</td>\n",
       "      <td>65.000000</td>\n",
       "      <td>64.000000</td>\n",
       "      <td>71.000000</td>\n",
       "      <td>71.000000</td>\n",
       "      <td>65.000000</td>\n",
       "      <td>...</td>\n",
       "      <td>66.000000</td>\n",
       "      <td>65.000000</td>\n",
       "      <td>66.000000</td>\n",
       "      <td>66.000000</td>\n",
       "      <td>68.000000</td>\n",
       "      <td>66.000000</td>\n",
       "      <td>66.000000</td>\n",
       "      <td>63.000000</td>\n",
       "      <td>55.000000</td>\n",
       "      <td>52.000000</td>\n",
       "    </tr>\n",
       "    <tr>\n",
       "      <th>75%</th>\n",
       "      <td>1.000000</td>\n",
       "      <td>71.000000</td>\n",
       "      <td>70.000000</td>\n",
       "      <td>73.000000</td>\n",
       "      <td>74.000000</td>\n",
       "      <td>70.000000</td>\n",
       "      <td>69.000000</td>\n",
       "      <td>75.000000</td>\n",
       "      <td>75.000000</td>\n",
       "      <td>68.000000</td>\n",
       "      <td>...</td>\n",
       "      <td>69.000000</td>\n",
       "      <td>69.000000</td>\n",
       "      <td>70.000000</td>\n",
       "      <td>70.000000</td>\n",
       "      <td>73.000000</td>\n",
       "      <td>71.000000</td>\n",
       "      <td>72.000000</td>\n",
       "      <td>69.000000</td>\n",
       "      <td>60.000000</td>\n",
       "      <td>60.000000</td>\n",
       "    </tr>\n",
       "    <tr>\n",
       "      <th>max</th>\n",
       "      <td>1.000000</td>\n",
       "      <td>83.000000</td>\n",
       "      <td>80.000000</td>\n",
       "      <td>82.000000</td>\n",
       "      <td>84.000000</td>\n",
       "      <td>82.000000</td>\n",
       "      <td>79.000000</td>\n",
       "      <td>85.000000</td>\n",
       "      <td>81.000000</td>\n",
       "      <td>76.000000</td>\n",
       "      <td>...</td>\n",
       "      <td>76.000000</td>\n",
       "      <td>77.000000</td>\n",
       "      <td>80.000000</td>\n",
       "      <td>79.000000</td>\n",
       "      <td>81.000000</td>\n",
       "      <td>81.000000</td>\n",
       "      <td>82.000000</td>\n",
       "      <td>82.000000</td>\n",
       "      <td>82.000000</td>\n",
       "      <td>71.000000</td>\n",
       "    </tr>\n",
       "  </tbody>\n",
       "</table>\n",
       "<p>8 rows × 45 columns</p>\n",
       "</div>"
      ],
      "text/plain": [
       "           target         F1R         F1S         F2R         F2S         F3R  \\\n",
       "count  187.000000  187.000000  187.000000  187.000000  187.000000  187.000000   \n",
       "mean     0.919786   65.128342   63.786096   68.304813   68.320856   63.818182   \n",
       "std      0.272353    8.961963   10.157746    6.849231    9.046697    9.569165   \n",
       "min      0.000000   23.000000   21.000000   38.000000   34.000000   21.000000   \n",
       "25%      1.000000   61.000000   58.500000   64.000000   65.000000   60.000000   \n",
       "50%      1.000000   66.000000   65.000000   69.000000   70.000000   65.000000   \n",
       "75%      1.000000   71.000000   70.000000   73.000000   74.000000   70.000000   \n",
       "max      1.000000   83.000000   80.000000   82.000000   84.000000   82.000000   \n",
       "\n",
       "              F3S         F4R         F4S         F5R  ...        F18R  \\\n",
       "count  187.000000  187.000000  187.000000  187.000000  ...  187.000000   \n",
       "mean    62.374332   69.352941   68.534759   62.839572  ...   63.358289   \n",
       "std     10.069062    9.513631   10.614082    9.604879  ...    8.673589   \n",
       "min     25.000000   21.000000   20.000000   12.000000  ...   18.000000   \n",
       "25%     59.000000   67.000000   66.000000   60.500000  ...   61.500000   \n",
       "50%     64.000000   71.000000   71.000000   65.000000  ...   66.000000   \n",
       "75%     69.000000   75.000000   75.000000   68.000000  ...   69.000000   \n",
       "max     79.000000   85.000000   81.000000   76.000000  ...   76.000000   \n",
       "\n",
       "             F18S        F19R        F19S        F20R        F20S        F21R  \\\n",
       "count  187.000000  187.000000  187.000000  187.000000  187.000000  187.000000   \n",
       "mean    61.695187   65.090909   63.850267   64.390374   62.187166   60.770053   \n",
       "std     12.025874    7.980977    9.171545   13.241857   13.691778   15.516746   \n",
       "min     14.000000   33.000000   18.000000   11.000000    6.000000    5.000000   \n",
       "25%     60.000000   60.500000   59.000000   61.000000   58.000000   55.500000   \n",
       "50%     65.000000   66.000000   66.000000   68.000000   66.000000   66.000000   \n",
       "75%     69.000000   70.000000   70.000000   73.000000   71.000000   72.000000   \n",
       "max     77.000000   80.000000   79.000000   81.000000   81.000000   82.000000   \n",
       "\n",
       "             F21S        F22R        F22S  \n",
       "count  187.000000  187.000000  187.000000  \n",
       "mean    58.406417   51.128342   48.593583  \n",
       "std     16.194568   13.350712   15.087756  \n",
       "min      8.000000   13.000000    4.000000  \n",
       "25%     53.500000   44.000000   42.000000  \n",
       "50%     63.000000   55.000000   52.000000  \n",
       "75%     69.000000   60.000000   60.000000  \n",
       "max     82.000000   82.000000   71.000000  \n",
       "\n",
       "[8 rows x 45 columns]"
      ]
     },
     "execution_count": 45,
     "metadata": {},
     "output_type": "execute_result"
    }
   ],
   "source": [
    "df_spectf.describe()"
   ]
  },
  {
   "cell_type": "code",
   "execution_count": 46,
   "metadata": {},
   "outputs": [
    {
     "data": {
      "text/plain": [
       "Text(0.5, 1, 'Correlation between all variables')"
      ]
     },
     "execution_count": 46,
     "metadata": {},
     "output_type": "execute_result"
    },
    {
     "data": {
      "image/png": "[encoded data removed]",
      "text/plain": [
       "<Figure size 432x288 with 2 Axes>"
      ]
     },
     "metadata": {
      "needs_background": "light"
     },
     "output_type": "display_data"
    }
   ],
   "source": [
    "## Check the correlation \n",
    "sns.heatmap(df_spectf.corr())\n",
    "plt.title(\"Correlation between all variables\")"
   ]
  },
  {
   "cell_type": "code",
   "execution_count": 47,
   "metadata": {},
   "outputs": [
    {
     "data": {
      "text/plain": [
       "0      1\n",
       "1      1\n",
       "2      1\n",
       "3      1\n",
       "4      1\n",
       "      ..\n",
       "182    0\n",
       "183    0\n",
       "184    0\n",
       "185    0\n",
       "186    0\n",
       "Name: target, Length: 187, dtype: int64"
      ]
     },
     "execution_count": 47,
     "metadata": {},
     "output_type": "execute_result"
    }
   ],
   "source": [
    "## Separate the Target and independent variables\n",
    "y = df_spectf[\"target\"]\n",
    "y"
   ]
  },
  {
   "cell_type": "code",
   "execution_count": 48,
   "metadata": {},
   "outputs": [
    {
     "name": "stdout",
     "output_type": "stream",
     "text": [
      "(187,)\n",
      "<class 'pandas.core.series.Series'>\n"
     ]
    }
   ],
   "source": [
    "print(y.shape)\n",
    "print(type(y))"
   ]
  },
  {
   "cell_type": "code",
   "execution_count": 49,
   "metadata": {},
   "outputs": [
    {
     "data": {
      "text/html": [
       "<div>\n",
       "<style scoped>\n",
       "    .dataframe tbody tr th:only-of-type {\n",
       "        vertical-align: middle;\n",
       "    }\n",
       "\n",
       "    .dataframe tbody tr th {\n",
       "        vertical-align: top;\n",
       "    }\n",
       "\n",
       "    .dataframe thead th {\n",
       "        text-align: right;\n",
       "    }\n",
       "</style>\n",
       "<table border=\"1\" class=\"dataframe\">\n",
       "  <thead>\n",
       "    <tr style=\"text-align: right;\">\n",
       "      <th></th>\n",
       "      <th>F1R</th>\n",
       "      <th>F1S</th>\n",
       "      <th>F2R</th>\n",
       "      <th>F2S</th>\n",
       "      <th>F3R</th>\n",
       "      <th>F3S</th>\n",
       "      <th>F4R</th>\n",
       "      <th>F4S</th>\n",
       "      <th>F5R</th>\n",
       "      <th>F5S</th>\n",
       "      <th>...</th>\n",
       "      <th>F18R</th>\n",
       "      <th>F18S</th>\n",
       "      <th>F19R</th>\n",
       "      <th>F19S</th>\n",
       "      <th>F20R</th>\n",
       "      <th>F20S</th>\n",
       "      <th>F21R</th>\n",
       "      <th>F21S</th>\n",
       "      <th>F22R</th>\n",
       "      <th>F22S</th>\n",
       "    </tr>\n",
       "  </thead>\n",
       "  <tbody>\n",
       "    <tr>\n",
       "      <th>0</th>\n",
       "      <td>67</td>\n",
       "      <td>68</td>\n",
       "      <td>73</td>\n",
       "      <td>78</td>\n",
       "      <td>65</td>\n",
       "      <td>63</td>\n",
       "      <td>67</td>\n",
       "      <td>60</td>\n",
       "      <td>63</td>\n",
       "      <td>62</td>\n",
       "      <td>...</td>\n",
       "      <td>61</td>\n",
       "      <td>56</td>\n",
       "      <td>76</td>\n",
       "      <td>75</td>\n",
       "      <td>74</td>\n",
       "      <td>77</td>\n",
       "      <td>76</td>\n",
       "      <td>74</td>\n",
       "      <td>59</td>\n",
       "      <td>68</td>\n",
       "    </tr>\n",
       "    <tr>\n",
       "      <th>1</th>\n",
       "      <td>75</td>\n",
       "      <td>74</td>\n",
       "      <td>71</td>\n",
       "      <td>71</td>\n",
       "      <td>62</td>\n",
       "      <td>58</td>\n",
       "      <td>70</td>\n",
       "      <td>64</td>\n",
       "      <td>71</td>\n",
       "      <td>68</td>\n",
       "      <td>...</td>\n",
       "      <td>66</td>\n",
       "      <td>62</td>\n",
       "      <td>68</td>\n",
       "      <td>69</td>\n",
       "      <td>69</td>\n",
       "      <td>66</td>\n",
       "      <td>64</td>\n",
       "      <td>58</td>\n",
       "      <td>57</td>\n",
       "      <td>52</td>\n",
       "    </tr>\n",
       "    <tr>\n",
       "      <th>2</th>\n",
       "      <td>83</td>\n",
       "      <td>64</td>\n",
       "      <td>66</td>\n",
       "      <td>67</td>\n",
       "      <td>67</td>\n",
       "      <td>74</td>\n",
       "      <td>74</td>\n",
       "      <td>72</td>\n",
       "      <td>64</td>\n",
       "      <td>68</td>\n",
       "      <td>...</td>\n",
       "      <td>67</td>\n",
       "      <td>64</td>\n",
       "      <td>69</td>\n",
       "      <td>63</td>\n",
       "      <td>68</td>\n",
       "      <td>54</td>\n",
       "      <td>65</td>\n",
       "      <td>64</td>\n",
       "      <td>43</td>\n",
       "      <td>42</td>\n",
       "    </tr>\n",
       "    <tr>\n",
       "      <th>3</th>\n",
       "      <td>72</td>\n",
       "      <td>66</td>\n",
       "      <td>65</td>\n",
       "      <td>65</td>\n",
       "      <td>64</td>\n",
       "      <td>61</td>\n",
       "      <td>71</td>\n",
       "      <td>78</td>\n",
       "      <td>73</td>\n",
       "      <td>69</td>\n",
       "      <td>...</td>\n",
       "      <td>69</td>\n",
       "      <td>68</td>\n",
       "      <td>68</td>\n",
       "      <td>63</td>\n",
       "      <td>71</td>\n",
       "      <td>72</td>\n",
       "      <td>65</td>\n",
       "      <td>63</td>\n",
       "      <td>58</td>\n",
       "      <td>60</td>\n",
       "    </tr>\n",
       "    <tr>\n",
       "      <th>4</th>\n",
       "      <td>62</td>\n",
       "      <td>60</td>\n",
       "      <td>69</td>\n",
       "      <td>61</td>\n",
       "      <td>63</td>\n",
       "      <td>63</td>\n",
       "      <td>70</td>\n",
       "      <td>68</td>\n",
       "      <td>70</td>\n",
       "      <td>65</td>\n",
       "      <td>...</td>\n",
       "      <td>66</td>\n",
       "      <td>66</td>\n",
       "      <td>58</td>\n",
       "      <td>56</td>\n",
       "      <td>72</td>\n",
       "      <td>73</td>\n",
       "      <td>71</td>\n",
       "      <td>64</td>\n",
       "      <td>49</td>\n",
       "      <td>42</td>\n",
       "    </tr>\n",
       "  </tbody>\n",
       "</table>\n",
       "<p>5 rows × 44 columns</p>\n",
       "</div>"
      ],
      "text/plain": [
       "   F1R  F1S  F2R  F2S  F3R  F3S  F4R  F4S  F5R  F5S  ...  F18R  F18S  F19R  \\\n",
       "0   67   68   73   78   65   63   67   60   63   62  ...    61    56    76   \n",
       "1   75   74   71   71   62   58   70   64   71   68  ...    66    62    68   \n",
       "2   83   64   66   67   67   74   74   72   64   68  ...    67    64    69   \n",
       "3   72   66   65   65   64   61   71   78   73   69  ...    69    68    68   \n",
       "4   62   60   69   61   63   63   70   68   70   65  ...    66    66    58   \n",
       "\n",
       "   F19S  F20R  F20S  F21R  F21S  F22R  F22S  \n",
       "0    75    74    77    76    74    59    68  \n",
       "1    69    69    66    64    58    57    52  \n",
       "2    63    68    54    65    64    43    42  \n",
       "3    63    71    72    65    63    58    60  \n",
       "4    56    72    73    71    64    49    42  \n",
       "\n",
       "[5 rows x 44 columns]"
      ]
     },
     "execution_count": 49,
     "metadata": {},
     "output_type": "execute_result"
    }
   ],
   "source": [
    "X = df_spectf.drop(\"target\",axis=1)\n",
    "X.head()"
   ]
  },
  {
   "cell_type": "code",
   "execution_count": 50,
   "metadata": {},
   "outputs": [
    {
     "name": "stdout",
     "output_type": "stream",
     "text": [
      "(187, 44)\n",
      "<class 'pandas.core.frame.DataFrame'>\n"
     ]
    }
   ],
   "source": [
    "print(X.shape)\n",
    "print(type(X))"
   ]
  },
  {
   "cell_type": "markdown",
   "metadata": {},
   "source": [
    "###### Lets see the difference Between 3 methods of feature scaling \n",
    "1. StandardScaler\n",
    "2. MinMaxScaler\n",
    "3. Normalizer\n"
   ]
  },
  {
   "cell_type": "code",
   "execution_count": 51,
   "metadata": {},
   "outputs": [],
   "source": [
    "X_col_name = col_name\n",
    "X_col_name.remove(\"target\")"
   ]
  },
  {
   "cell_type": "code",
   "execution_count": 52,
   "metadata": {},
   "outputs": [
    {
     "data": {
      "image/png": "[encoded data removed]",
      "text/plain": [
       "<Figure size 576x360 with 1 Axes>"
      ]
     },
     "metadata": {
      "needs_background": "light"
     },
     "output_type": "display_data"
    }
   ],
   "source": [
    "plt.figure(figsize=(8,5))\n",
    "var = []\n",
    "for i in X_col_name:\n",
    "    sns.kdeplot(X[i],legend=False,linewidth=1.0)"
   ]
  },
  {
   "cell_type": "markdown",
   "metadata": {},
   "source": [
    "#### StandardScaler"
   ]
  },
  {
   "cell_type": "code",
   "execution_count": 53,
   "metadata": {},
   "outputs": [],
   "source": [
    "scale = StandardScaler()\n",
    "scale.fit(X)\n",
    "X_scale = scale.transform(X)"
   ]
  },
  {
   "cell_type": "code",
   "execution_count": 54,
   "metadata": {},
   "outputs": [],
   "source": [
    "df_X_scale = pd.DataFrame(X_scale,columns= X_col_name)"
   ]
  },
  {
   "cell_type": "code",
   "execution_count": 55,
   "metadata": {},
   "outputs": [
    {
     "data": {
      "image/png": "[encoded data removed]",
      "text/plain": [
       "<Figure size 576x360 with 1 Axes>"
      ]
     },
     "metadata": {
      "needs_background": "light"
     },
     "output_type": "display_data"
    }
   ],
   "source": [
    "plt.figure(figsize=(8,5))\n",
    "var = []\n",
    "for i in X_col_name:\n",
    "    sns.kdeplot(df_X_scale[i],legend=False,linewidth=1.0)"
   ]
  },
  {
   "cell_type": "markdown",
   "metadata": {},
   "source": [
    "#### MinMaxScaler"
   ]
  },
  {
   "cell_type": "code",
   "execution_count": 56,
   "metadata": {},
   "outputs": [],
   "source": [
    "from sklearn import preprocessing"
   ]
  },
  {
   "cell_type": "code",
   "execution_count": 57,
   "metadata": {},
   "outputs": [],
   "source": [
    "minmax_scale = preprocessing.MinMaxScaler()\n",
    "X_minmax_scale = minmax_scale.fit_transform(X)"
   ]
  },
  {
   "cell_type": "code",
   "execution_count": 58,
   "metadata": {},
   "outputs": [
    {
     "data": {
      "text/plain": [
       "(187, 44)"
      ]
     },
     "execution_count": 58,
     "metadata": {},
     "output_type": "execute_result"
    }
   ],
   "source": [
    "X_minmax_scale.shape"
   ]
  },
  {
   "cell_type": "code",
   "execution_count": 59,
   "metadata": {},
   "outputs": [
    {
     "data": {
      "text/plain": [
       "numpy.ndarray"
      ]
     },
     "execution_count": 59,
     "metadata": {},
     "output_type": "execute_result"
    }
   ],
   "source": [
    "type(X_minmax_scale)"
   ]
  },
  {
   "cell_type": "code",
   "execution_count": 60,
   "metadata": {},
   "outputs": [],
   "source": [
    "df_X_minmax_scale = pd.DataFrame(X_minmax_scale,columns=X_col_name)"
   ]
  },
  {
   "cell_type": "code",
   "execution_count": 61,
   "metadata": {},
   "outputs": [
    {
     "data": {
      "image/png": "[encoded data removed]",
      "text/plain": [
       "<Figure size 576x360 with 1 Axes>"
      ]
     },
     "metadata": {
      "needs_background": "light"
     },
     "output_type": "display_data"
    }
   ],
   "source": [
    "plt.figure(figsize=(8,5))\n",
    "var = []\n",
    "for i in X_col_name:\n",
    "    sns.kdeplot(df_X_minmax_scale[i],legend=False,linewidth=1.0)"
   ]
  },
  {
   "cell_type": "markdown",
   "metadata": {},
   "source": [
    "#### Normalizer"
   ]
  },
  {
   "cell_type": "code",
   "execution_count": 62,
   "metadata": {},
   "outputs": [],
   "source": [
    "norm = preprocessing.Normalizer()\n",
    "X_norm_scale = norm.fit_transform(X)"
   ]
  },
  {
   "cell_type": "code",
   "execution_count": 63,
   "metadata": {},
   "outputs": [],
   "source": [
    "df_X_norm_scale = pd.DataFrame(X_norm_scale,columns=X_col_name)"
   ]
  },
  {
   "cell_type": "code",
   "execution_count": 64,
   "metadata": {},
   "outputs": [
    {
     "data": {
      "image/png": "[encoded data removed]",
      "text/plain": [
       "<Figure size 576x360 with 1 Axes>"
      ]
     },
     "metadata": {
      "needs_background": "light"
     },
     "output_type": "display_data"
    }
   ],
   "source": [
    "plt.figure(figsize=(8,5))\n",
    "var = []\n",
    "for i in X_col_name:\n",
    "    sns.kdeplot(df_X_norm_scale[i],legend=False,linewidth=1.0)"
   ]
  },
  {
   "cell_type": "code",
   "execution_count": 65,
   "metadata": {},
   "outputs": [
    {
     "data": {
      "image/png": "[encoded data removed]",
      "text/plain": [
       "<Figure size 648x360 with 2 Axes>"
      ]
     },
     "metadata": {
      "needs_background": "light"
     },
     "output_type": "display_data"
    }
   ],
   "source": [
    "from mpl_toolkits.mplot3d import Axes3D\n",
    "fig = plt.figure(figsize=(9, 5))\n",
    "ax1 = fig.add_subplot(121, projection='3d')\n",
    "ax2 = fig.add_subplot(122, projection='3d')\n",
    "ax1.scatter(X['F1R'],X['F1S'],X['F2R'])\n",
    "ax2.scatter(df_X_norm_scale['F1R'],df_X_norm_scale['F1S'],df_X_norm_scale['F2R'])\n",
    "plt.show()"
   ]
  },
  {
   "cell_type": "code",
   "execution_count": 66,
   "metadata": {},
   "outputs": [],
   "source": [
    "### Start the PCA and check the Random Forest Classifier"
   ]
  },
  {
   "cell_type": "code",
   "execution_count": 67,
   "metadata": {},
   "outputs": [],
   "source": [
    "### Split the train and test\n",
    "from sklearn.model_selection import train_test_split\n",
    "X_train,X_test,y_train,y_test = train_test_split(X,y,test_size = 0.3,random_state = 42)"
   ]
  },
  {
   "cell_type": "code",
   "execution_count": 68,
   "metadata": {},
   "outputs": [
    {
     "name": "stdout",
     "output_type": "stream",
     "text": [
      "(130, 44)\n",
      "(57, 44)\n",
      "<class 'pandas.core.frame.DataFrame'>\n",
      "<class 'pandas.core.frame.DataFrame'>\n"
     ]
    }
   ],
   "source": [
    "print(X_train.shape)\n",
    "print(X_test.shape)\n",
    "print(type(X_train))\n",
    "print(type(X_test))"
   ]
  },
  {
   "cell_type": "code",
   "execution_count": 69,
   "metadata": {},
   "outputs": [
    {
     "name": "stdout",
     "output_type": "stream",
     "text": [
      "(130,)\n",
      "(57,)\n",
      "<class 'pandas.core.series.Series'>\n",
      "<class 'pandas.core.series.Series'>\n"
     ]
    }
   ],
   "source": [
    "print(y_train.shape)\n",
    "print(y_test.shape)\n",
    "print(type(y_train))\n",
    "print(type(y_test))"
   ]
  },
  {
   "cell_type": "code",
   "execution_count": 70,
   "metadata": {},
   "outputs": [],
   "source": [
    "## We need to scale the data \n",
    "from sklearn.preprocessing import StandardScaler\n",
    "scale = StandardScaler()\n",
    "X_train_scale = scale.fit_transform(X_train)"
   ]
  },
  {
   "cell_type": "code",
   "execution_count": 71,
   "metadata": {},
   "outputs": [],
   "source": [
    "scale = StandardScaler()\n",
    "X_test_scale= scale.fit_transform(X_test)"
   ]
  },
  {
   "cell_type": "code",
   "execution_count": 72,
   "metadata": {},
   "outputs": [
    {
     "name": "stdout",
     "output_type": "stream",
     "text": [
      "(130, 44)\n",
      "<class 'numpy.ndarray'>\n"
     ]
    }
   ],
   "source": [
    "print(X_train_scale.shape)\n",
    "print(type(X_train_scale))"
   ]
  },
  {
   "cell_type": "code",
   "execution_count": 73,
   "metadata": {},
   "outputs": [],
   "source": [
    "df_X_train_scale = pd.DataFrame(X_train_scale,columns= X_col_name)"
   ]
  },
  {
   "cell_type": "code",
   "execution_count": 74,
   "metadata": {},
   "outputs": [
    {
     "name": "stdout",
     "output_type": "stream",
     "text": [
      "(57, 44)\n",
      "<class 'numpy.ndarray'>\n"
     ]
    }
   ],
   "source": [
    "print(X_test_scale.shape)\n",
    "print(type(X_test_scale))"
   ]
  },
  {
   "cell_type": "code",
   "execution_count": 75,
   "metadata": {},
   "outputs": [],
   "source": [
    "df_X_test_scale = pd.DataFrame(X_test_scale,columns= X_col_name)"
   ]
  },
  {
   "cell_type": "code",
   "execution_count": 76,
   "metadata": {},
   "outputs": [
    {
     "data": {
      "image/png": "[encoded data removed]",
      "text/plain": [
       "<Figure size 576x360 with 1 Axes>"
      ]
     },
     "metadata": {
      "needs_background": "light"
     },
     "output_type": "display_data"
    }
   ],
   "source": [
    "plt.figure(figsize=(8,5))\n",
    "var = []\n",
    "for i in X_col_name:\n",
    "    sns.kdeplot(df_X_train_scale[i],legend=False,linewidth=1.0)"
   ]
  },
  {
   "cell_type": "code",
   "execution_count": 77,
   "metadata": {},
   "outputs": [
    {
     "data": {
      "image/png": "[encoded data removed]",
      "text/plain": [
       "<Figure size 576x360 with 1 Axes>"
      ]
     },
     "metadata": {
      "needs_background": "light"
     },
     "output_type": "display_data"
    }
   ],
   "source": [
    "plt.figure(figsize=(8,5))\n",
    "var = []\n",
    "for i in X_col_name:\n",
    "    sns.kdeplot(df_X_test_scale[i],legend=False,linewidth=1.0)"
   ]
  },
  {
   "cell_type": "code",
   "execution_count": 78,
   "metadata": {},
   "outputs": [],
   "source": [
    "### Plot the explianed Variance ratio\n",
    "from sklearn.decomposition import PCA\n",
    "rf_pca = PCA()\n",
    "X_pca = rf_pca.fit(X_train_scale)"
   ]
  },
  {
   "cell_type": "code",
   "execution_count": 79,
   "metadata": {},
   "outputs": [
    {
     "data": {
      "text/plain": [
       "array([0.30585578, 0.12781699, 0.10974447, 0.05512036, 0.04544264,\n",
       "       0.04036707, 0.0379112 , 0.0323717 , 0.03056771, 0.02826313,\n",
       "       0.02096176, 0.01999151, 0.0155406 , 0.01407338, 0.01181618,\n",
       "       0.01123598, 0.00977292, 0.00890389, 0.00756443, 0.00664402,\n",
       "       0.0061964 , 0.00579858, 0.00490574, 0.00433866, 0.00420473,\n",
       "       0.00389851, 0.00345408, 0.00330259, 0.00292449, 0.00268808,\n",
       "       0.00260957, 0.00211885, 0.00198191, 0.00171452, 0.00142257,\n",
       "       0.00137233, 0.00126556, 0.00118292, 0.00111064, 0.00093351,\n",
       "       0.00082017, 0.00068633, 0.00063611, 0.00046743])"
      ]
     },
     "execution_count": 79,
     "metadata": {},
     "output_type": "execute_result"
    }
   ],
   "source": [
    "X_pca.explained_variance_ratio_"
   ]
  },
  {
   "cell_type": "code",
   "execution_count": 80,
   "metadata": {},
   "outputs": [
    {
     "data": {
      "text/plain": [
       "Text(0, 0.5, 'Cumulative explained variance ratio')"
      ]
     },
     "execution_count": 80,
     "metadata": {},
     "output_type": "execute_result"
    },
    {
     "data": {
      "image/png": "[encoded data removed]",
      "text/plain": [
       "<Figure size 576x360 with 1 Axes>"
      ]
     },
     "metadata": {
      "needs_background": "light"
     },
     "output_type": "display_data"
    }
   ],
   "source": [
    "plt.figure(figsize=(8,5))\n",
    "plt.plot(np.cumsum(X_pca.explained_variance_ratio_))\n",
    "plt.xlabel('Number of components')\n",
    "plt.ylabel('Cumulative explained variance ratio')"
   ]
  },
  {
   "cell_type": "code",
   "execution_count": 81,
   "metadata": {},
   "outputs": [],
   "source": [
    "X_pca_rf = X_pca.transform(X_train_scale)"
   ]
  },
  {
   "cell_type": "code",
   "execution_count": 82,
   "metadata": {},
   "outputs": [],
   "source": [
    "df_X_pca_rf = pd.DataFrame(X_pca_rf,columns= X_col_name)"
   ]
  },
  {
   "cell_type": "code",
   "execution_count": 83,
   "metadata": {},
   "outputs": [
    {
     "data": {
      "text/plain": [
       "Text(0.5, 1, 'Correlation between different features')"
      ]
     },
     "execution_count": 83,
     "metadata": {},
     "output_type": "execute_result"
    },
    {
     "data": {
      "image/png": "[encoded data removed]",
      "text/plain": [
       "<Figure size 432x288 with 2 Axes>"
      ]
     },
     "metadata": {
      "needs_background": "light"
     },
     "output_type": "display_data"
    }
   ],
   "source": [
    "### plot the Correlation after PCA\n",
    "sns.heatmap(df_X_pca_rf.corr())\n",
    "plt.title('Correlation between different features')"
   ]
  },
  {
   "cell_type": "code",
   "execution_count": 84,
   "metadata": {},
   "outputs": [],
   "source": [
    "### lets consider total 10 components as per the above Cumulative explained variance plot, are able to explain more\n",
    "### than 80% of data variance.\n",
    "rf_pca_10 = PCA(n_components=10)\n",
    "X_pca_10 = rf_pca_10.fit(X_train_scale)\n",
    "X_pca_rf_10 = X_pca_10.transform(X_train_scale)"
   ]
  },
  {
   "cell_type": "code",
   "execution_count": 85,
   "metadata": {},
   "outputs": [],
   "source": [
    "rf_pca_10_test = PCA(n_components=10)\n",
    "X_pca_10_test = rf_pca_10_test.fit(X_test_scale)\n",
    "X_pca_rf_10_test = X_pca_10_test.transform(X_test_scale)"
   ]
  },
  {
   "cell_type": "code",
   "execution_count": 86,
   "metadata": {},
   "outputs": [],
   "source": [
    "df_X_pca_rf_10 = pd.DataFrame(X_pca_rf_10)"
   ]
  },
  {
   "cell_type": "code",
   "execution_count": 87,
   "metadata": {},
   "outputs": [
    {
     "data": {
      "text/plain": [
       "Text(0.5, 1, 'Correlation between different features')"
      ]
     },
     "execution_count": 87,
     "metadata": {},
     "output_type": "execute_result"
    },
    {
     "data": {
      "image/png": "[encoded data removed]",
      "text/plain": [
       "<Figure size 432x288 with 2 Axes>"
      ]
     },
     "metadata": {
      "needs_background": "light"
     },
     "output_type": "display_data"
    }
   ],
   "source": [
    "### plot the Correlation after PCA\n",
    "sns.heatmap(df_X_pca_rf_10.corr())\n",
    "plt.title('Correlation between different features')"
   ]
  },
  {
   "cell_type": "code",
   "execution_count": 88,
   "metadata": {},
   "outputs": [],
   "source": [
    "### Apply Random Foreset Classifier\n",
    "from sklearn.ensemble import RandomForestClassifier"
   ]
  },
  {
   "cell_type": "code",
   "execution_count": 89,
   "metadata": {},
   "outputs": [
    {
     "name": "stdout",
     "output_type": "stream",
     "text": [
      "Time taken to train the model with 10 components is 0.015601634979248047.\n"
     ]
    }
   ],
   "source": [
    "RFC = RandomForestClassifier(max_depth= 5, min_samples_split= 2, n_estimators=20, random_state=1)\n",
    "start_time = time.time()\n",
    "X_RFC = RFC.fit(X_pca_rf_10,y_train)\n",
    "end_time = time.time()\n",
    "print(\"Time taken to train the model with 10 components is {}.\".format(end_time-start_time))"
   ]
  },
  {
   "cell_type": "code",
   "execution_count": 90,
   "metadata": {},
   "outputs": [
    {
     "data": {
      "text/plain": [
       "0.9692307692307692"
      ]
     },
     "execution_count": 90,
     "metadata": {},
     "output_type": "execute_result"
    }
   ],
   "source": [
    "X_RFC.score(X_pca_rf_10,y_train)"
   ]
  },
  {
   "cell_type": "code",
   "execution_count": 91,
   "metadata": {},
   "outputs": [],
   "source": [
    "### Now test the Model using X_test data\n",
    "spect_test_pca_pred = X_RFC.predict(X_pca_rf_10_test)"
   ]
  },
  {
   "cell_type": "code",
   "execution_count": 92,
   "metadata": {},
   "outputs": [
    {
     "data": {
      "text/plain": [
       "array([1, 1, 1, 1, 1, 1, 1, 1, 1, 1, 1, 1, 1, 1, 1, 1, 1, 1, 1, 1, 1, 1,\n",
       "       1, 1, 1, 1, 1, 1, 1, 1, 1, 1, 1, 1, 1, 1, 1, 1, 1, 1, 1, 1, 1, 1,\n",
       "       1, 1, 1, 1, 1, 1, 1, 1, 1, 1, 1, 1, 1], dtype=int64)"
      ]
     },
     "execution_count": 92,
     "metadata": {},
     "output_type": "execute_result"
    }
   ],
   "source": [
    "spect_test_pca_pred"
   ]
  },
  {
   "cell_type": "code",
   "execution_count": 93,
   "metadata": {},
   "outputs": [],
   "source": [
    "from sklearn import metrics"
   ]
  },
  {
   "cell_type": "code",
   "execution_count": 94,
   "metadata": {},
   "outputs": [
    {
     "data": {
      "text/plain": [
       "(57, 10)"
      ]
     },
     "execution_count": 94,
     "metadata": {},
     "output_type": "execute_result"
    }
   ],
   "source": [
    "X_pca_rf_10_test.shape"
   ]
  },
  {
   "cell_type": "code",
   "execution_count": 95,
   "metadata": {},
   "outputs": [
    {
     "data": {
      "text/plain": [
       "(57,)"
      ]
     },
     "execution_count": 95,
     "metadata": {},
     "output_type": "execute_result"
    }
   ],
   "source": [
    "spect_test_pca_pred.shape"
   ]
  },
  {
   "cell_type": "code",
   "execution_count": 96,
   "metadata": {},
   "outputs": [
    {
     "data": {
      "text/plain": [
       "0.9298245614035088"
      ]
     },
     "execution_count": 96,
     "metadata": {},
     "output_type": "execute_result"
    }
   ],
   "source": [
    "metrics.accuracy_score(y_test,spect_test_pca_pred)"
   ]
  },
  {
   "cell_type": "code",
   "execution_count": 97,
   "metadata": {},
   "outputs": [
    {
     "name": "stdout",
     "output_type": "stream",
     "text": [
      "              precision    recall  f1-score   support\n",
      "\n",
      "           0       0.00      0.00      0.00         4\n",
      "           1       0.93      1.00      0.96        53\n",
      "\n",
      "    accuracy                           0.93        57\n",
      "   macro avg       0.46      0.50      0.48        57\n",
      "weighted avg       0.86      0.93      0.90        57\n",
      "\n"
     ]
    }
   ],
   "source": [
    "print(metrics.classification_report(y_test,spect_test_pca_pred,zero_division=0))"
   ]
  }
 ],
 "metadata": {
  "kernelspec": {
   "display_name": "Python 3",
   "language": "python",
   "name": "python3"
  },
  "language_info": {
   "codemirror_mode": {
    "name": "ipython",
    "version": 3
   },
   "file_extension": ".py",
   "mimetype": "text/x-python",
   "name": "python",
   "nbconvert_exporter": "python",
   "pygments_lexer": "ipython3",
   "version": "3.7.7"
  }
 },
 "nbformat": 4,
 "nbformat_minor": 4
}
