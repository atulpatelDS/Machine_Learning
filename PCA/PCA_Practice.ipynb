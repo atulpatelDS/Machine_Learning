{
 "cells": [
  {
   "cell_type": "markdown",
   "id": "38650d04",
   "metadata": {},
   "source": [
    "### Calculate Principal Component Analysis(PCA) using numpy"
   ]
  },
  {
   "cell_type": "code",
   "execution_count": 1,
   "id": "0847d41b",
   "metadata": {},
   "outputs": [],
   "source": [
    "# Lets create the Matrix\n",
    "import numpy as np\n",
    "M = np.array([[2,4,3,4,5,8],[1,3,5,7,4,3],[6,5,8,9,3,7],[5,8,3,9,2,5],[2,4,7,3,6,4]])"
   ]
  },
  {
   "cell_type": "code",
   "execution_count": 2,
   "id": "c0c9fa3f",
   "metadata": {},
   "outputs": [
    {
     "data": {
      "text/plain": [
       "array([[2, 4, 3, 4, 5, 8],\n",
       "       [1, 3, 5, 7, 4, 3],\n",
       "       [6, 5, 8, 9, 3, 7],\n",
       "       [5, 8, 3, 9, 2, 5],\n",
       "       [2, 4, 7, 3, 6, 4]])"
      ]
     },
     "execution_count": 2,
     "metadata": {},
     "output_type": "execute_result"
    }
   ],
   "source": [
    "M"
   ]
  },
  {
   "cell_type": "code",
   "execution_count": 3,
   "id": "43467399",
   "metadata": {},
   "outputs": [
    {
     "data": {
      "text/plain": [
       "(5, 6)"
      ]
     },
     "execution_count": 3,
     "metadata": {},
     "output_type": "execute_result"
    }
   ],
   "source": [
    "M.shape"
   ]
  },
  {
   "cell_type": "code",
   "execution_count": 4,
   "id": "6a2919bb",
   "metadata": {},
   "outputs": [
    {
     "data": {
      "text/plain": [
       "6"
      ]
     },
     "execution_count": 4,
     "metadata": {},
     "output_type": "execute_result"
    }
   ],
   "source": [
    "col = M.shape[1]\n",
    "col"
   ]
  },
  {
   "cell_type": "code",
   "execution_count": 5,
   "id": "844f9445",
   "metadata": {},
   "outputs": [],
   "source": [
    "#To calculate mean of each columns in Matrix\n",
    "mean_column = np.mean(M,axis=0)"
   ]
  },
  {
   "cell_type": "code",
   "execution_count": 6,
   "id": "eaa95083",
   "metadata": {},
   "outputs": [
    {
     "data": {
      "text/plain": [
       "array([3.2, 4.8, 5.2, 6.4, 4. , 5.4])"
      ]
     },
     "execution_count": 6,
     "metadata": {},
     "output_type": "execute_result"
    }
   ],
   "source": [
    "mean_column"
   ]
  },
  {
   "cell_type": "code",
   "execution_count": 7,
   "id": "3783521d",
   "metadata": {},
   "outputs": [],
   "source": [
    "# Find the centered Matrix\n",
    "M_new = mean_column -M"
   ]
  },
  {
   "cell_type": "code",
   "execution_count": 8,
   "id": "4e1c9a99",
   "metadata": {},
   "outputs": [
    {
     "data": {
      "text/plain": [
       "array([[ 1.2,  0.8,  2.2,  2.4, -1. , -2.6],\n",
       "       [ 2.2,  1.8,  0.2, -0.6,  0. ,  2.4],\n",
       "       [-2.8, -0.2, -2.8, -2.6,  1. , -1.6],\n",
       "       [-1.8, -3.2,  2.2, -2.6,  2. ,  0.4],\n",
       "       [ 1.2,  0.8, -1.8,  3.4, -2. ,  1.4]])"
      ]
     },
     "execution_count": 8,
     "metadata": {},
     "output_type": "execute_result"
    }
   ],
   "source": [
    "M_new"
   ]
  },
  {
   "cell_type": "code",
   "execution_count": 9,
   "id": "66aeb6c1",
   "metadata": {},
   "outputs": [
    {
     "data": {
      "text/plain": [
       "0.0"
      ]
     },
     "execution_count": 9,
     "metadata": {},
     "output_type": "execute_result"
    }
   ],
   "source": [
    "np.round(M_new.mean(),2)"
   ]
  },
  {
   "cell_type": "markdown",
   "id": "79e46e10",
   "metadata": {},
   "source": [
    "Now We will find the covariance matrix of the dataset by multiplying the matrix of features by its transpose. It is a measure of how much each of the dimensions varies from the mean with respect to each other. Covariance matrices, like correlation matrices, contain information about the amount of variance shared between pairs of variables."
   ]
  },
  {
   "cell_type": "code",
   "execution_count": 10,
   "id": "93a59e91",
   "metadata": {},
   "outputs": [],
   "source": [
    "# Calcultae the Covariance Matrix of centered Matrix\n",
    "M_cov = np.cov(M_new.T)"
   ]
  },
  {
   "cell_type": "code",
   "execution_count": 11,
   "id": "57c0b977",
   "metadata": {},
   "outputs": [
    {
     "data": {
      "text/plain": [
       "array([[ 4.7 ,  3.05,  1.2 ,  4.4 , -2.5 ,  1.9 ],\n",
       "       [ 3.05,  3.7 , -1.45,  3.1 , -2.25,  0.6 ],\n",
       "       [ 1.2 , -1.45,  5.2 ,  0.15,  0.75, -0.6 ],\n",
       "       [ 4.4 ,  3.1 ,  0.15,  7.8 , -4.25,  0.05],\n",
       "       [-2.5 , -2.25,  0.75, -4.25,  2.5 , -0.25],\n",
       "       [ 1.9 ,  0.6 , -0.6 ,  0.05, -0.25,  4.3 ]])"
      ]
     },
     "execution_count": 11,
     "metadata": {},
     "output_type": "execute_result"
    }
   ],
   "source": [
    "M_cov"
   ]
  },
  {
   "cell_type": "code",
   "execution_count": 12,
   "id": "97fe7084",
   "metadata": {},
   "outputs": [
    {
     "data": {
      "text/plain": [
       "(6, 6)"
      ]
     },
     "execution_count": 12,
     "metadata": {},
     "output_type": "execute_result"
    }
   ],
   "source": [
    "M_cov.shape"
   ]
  },
  {
   "cell_type": "code",
   "execution_count": 13,
   "id": "9387f8a0",
   "metadata": {},
   "outputs": [],
   "source": [
    "# Calcultae the Eigen Value and Eigen Vector using eigendecomposition\n",
    "E_val,E_vec = np.linalg.eig(M_cov)"
   ]
  },
  {
   "cell_type": "code",
   "execution_count": 14,
   "id": "d1a49b1c",
   "metadata": {},
   "outputs": [
    {
     "data": {
      "text/plain": [
       "array([15.3713,  6.099 ,  4.8848,  1.8449, -0.    , -0.    ])"
      ]
     },
     "execution_count": 14,
     "metadata": {},
     "output_type": "execute_result"
    }
   ],
   "source": [
    "eigen_value = np.round(E_val,4)\n",
    "eigen_value"
   ]
  },
  {
   "cell_type": "code",
   "execution_count": 15,
   "id": "045d8f21",
   "metadata": {},
   "outputs": [
    {
     "data": {
      "text/plain": [
       "array([[ 0.494 ,  0.1896,  0.3393,  0.3011,  0.4396,  0.0738],\n",
       "       [ 0.3889, -0.2675,  0.006 ,  0.7134, -0.4143, -0.1875],\n",
       "       [-0.0229,  0.91  ,  0.1515,  0.1267, -0.1349,  0.064 ],\n",
       "       [ 0.6637,  0.1316, -0.314 , -0.4891, -0.4247, -0.4424],\n",
       "       [-0.3867,  0.0837,  0.1557,  0.1471, -0.6336, -0.8705],\n",
       "       [ 0.1188, -0.2004,  0.8597, -0.3515, -0.1871, -0.043 ]])"
      ]
     },
     "execution_count": 15,
     "metadata": {},
     "output_type": "execute_result"
    }
   ],
   "source": [
    "eigen_vector = np.round(E_vec,4)\n",
    "eigen_vector"
   ]
  },
  {
   "cell_type": "markdown",
   "id": "5d774ebe",
   "metadata": {},
   "source": [
    "#### How many Principal components we should select ?\n",
    "1. Elbow method : Visualize the eigenvalues in order from highest to lowest, connecting them with a line. Upon visual inspection, keep all the components whose eigenvalue falls above the point where the slope of the line changes the most drastically\n",
    "\n",
    "2. Explained Variance Method : Only keep Principal components that explain at least 90% of the variance in the data.\n"
   ]
  },
  {
   "cell_type": "markdown",
   "id": "ca73a6a0",
   "metadata": {},
   "source": [
    "#### Explained Variance Method"
   ]
  },
  {
   "cell_type": "code",
   "execution_count": 16,
   "id": "efa9b91d",
   "metadata": {},
   "outputs": [],
   "source": [
    "# Selecting the Principal Components Using the Explained Variance\n",
    "explained_variance = []\n",
    "for i in eigen_value:\n",
    "    explained_variance.append((i/np.sum(eigen_value))*100)"
   ]
  },
  {
   "cell_type": "code",
   "execution_count": 17,
   "id": "0c769b7e",
   "metadata": {},
   "outputs": [
    {
     "data": {
      "text/plain": [
       "[54.508156028368795,\n",
       " 21.627659574468087,\n",
       " 17.32198581560284,\n",
       " 6.542198581560283,\n",
       " -0.0,\n",
       " -0.0]"
      ]
     },
     "execution_count": 17,
     "metadata": {},
     "output_type": "execute_result"
    }
   ],
   "source": [
    "explained_variance"
   ]
  },
  {
   "cell_type": "code",
   "execution_count": 18,
   "id": "fd64b39a",
   "metadata": {},
   "outputs": [
    {
     "data": {
      "text/plain": [
       "array([ 54.50815603,  76.1358156 ,  93.45780142, 100.        ,\n",
       "       100.        , 100.        ])"
      ]
     },
     "execution_count": 18,
     "metadata": {},
     "output_type": "execute_result"
    }
   ],
   "source": [
    "cum_explained_variance = np.cumsum(explained_variance)\n",
    "cum_explained_variance"
   ]
  },
  {
   "cell_type": "markdown",
   "id": "555c41b4",
   "metadata": {},
   "source": [
    "If I use the 1st variable it will explain 54.50% of the data and if I use 3 variables I will be able to capture 90% of the data. If I use all features it will describe the entire dataset. So we can select 3 variables."
   ]
  },
  {
   "cell_type": "markdown",
   "id": "bd1eb82a",
   "metadata": {},
   "source": [
    "#### Elbow Method"
   ]
  },
  {
   "cell_type": "code",
   "execution_count": 19,
   "id": "7d52bce7",
   "metadata": {},
   "outputs": [],
   "source": [
    "import matplotlib.pyplot as plt"
   ]
  },
  {
   "cell_type": "code",
   "execution_count": 20,
   "id": "7e818cf8",
   "metadata": {},
   "outputs": [
    {
     "data": {
      "text/plain": [
       "[1, 2, 3, 4, 5, 6]"
      ]
     },
     "execution_count": 20,
     "metadata": {},
     "output_type": "execute_result"
    }
   ],
   "source": [
    "X = [i for i in range(1,col+1)]\n",
    "X"
   ]
  },
  {
   "cell_type": "code",
   "execution_count": 21,
   "id": "11ddb421",
   "metadata": {},
   "outputs": [
    {
     "data": {
      "text/plain": [
       "array([0.54508156, 0.76135816, 0.93457801, 1.        , 1.        ,\n",
       "       1.        ])"
      ]
     },
     "execution_count": 21,
     "metadata": {},
     "output_type": "execute_result"
    }
   ],
   "source": [
    "Y = np.cumsum(explained_variance)/100\n",
    "Y"
   ]
  },
  {
   "cell_type": "code",
   "execution_count": 22,
   "id": "03615672",
   "metadata": {},
   "outputs": [
    {
     "data": {
      "text/plain": [
       "[<matplotlib.lines.Line2D at 0x2a0efb5f370>]"
      ]
     },
     "execution_count": 22,
     "metadata": {},
     "output_type": "execute_result"
    },
    {
     "data": {
      "image/png": "[encoded data removed]",
      "text/plain": [
       "<Figure size 432x288 with 1 Axes>"
      ]
     },
     "metadata": {
      "needs_background": "light"
     },
     "output_type": "display_data"
    }
   ],
   "source": [
    "plt.plot(X,Y)"
   ]
  },
  {
   "cell_type": "markdown",
   "id": "09b22008",
   "metadata": {},
   "source": [
    "#### Transformed data in a new subspace or we can say lower Dimentional space\n",
    " I will compute the PCA transformation on the original dataset, getting the dot product of the original dataset and the eigenvectors that I got from the eigendecomposition."
   ]
  },
  {
   "cell_type": "code",
   "execution_count": 23,
   "id": "553b5726",
   "metadata": {},
   "outputs": [
    {
     "name": "stdout",
     "output_type": "stream",
     "text": [
      "[[ 2.5243  2.7687 -2.3993  0.8037 -0.     -0.    ]\n",
      " [ 1.6692 -0.4421  3.0392  1.4218 -0.      0.    ]\n",
      " [-3.6994 -2.9632 -1.7787  0.6404 -0.     -0.    ]\n",
      " [-4.6356  2.2615  1.175  -1.1207 -0.     -0.    ]\n",
      " [ 4.1416 -1.6248 -0.0362 -1.7452  0.      0.    ]]\n"
     ]
    }
   ],
   "source": [
    "M_transformed = (np.round(E_vec[:,:].T.dot(M_new.T),4)).T\n",
    "print(M_transformed)"
   ]
  },
  {
   "cell_type": "code",
   "execution_count": 24,
   "id": "69e422a1",
   "metadata": {},
   "outputs": [
    {
     "name": "stdout",
     "output_type": "stream",
     "text": [
      "[[ 2.5243  2.7687 -2.3993  0.8037]\n",
      " [ 1.6692 -0.4421  3.0392  1.4218]\n",
      " [-3.6994 -2.9632 -1.7787  0.6404]\n",
      " [-4.6356  2.2615  1.175  -1.1207]\n",
      " [ 4.1416 -1.6248 -0.0362 -1.7452]]\n"
     ]
    }
   ],
   "source": [
    "M_transformed_1 = (np.round(E_vec[:,0:4].T.dot(M_new.T),4)).T\n",
    "print(M_transformed_1)"
   ]
  },
  {
   "cell_type": "markdown",
   "id": "078bc75c",
   "metadata": {},
   "source": [
    "### Calculate Principal Component Analysis(PCA) using sklearn"
   ]
  },
  {
   "cell_type": "code",
   "execution_count": 25,
   "id": "2b67e010",
   "metadata": {},
   "outputs": [],
   "source": [
    "import numpy as np\n",
    "from sklearn.decomposition import PCA"
   ]
  },
  {
   "cell_type": "code",
   "execution_count": 26,
   "id": "47872b3f",
   "metadata": {},
   "outputs": [],
   "source": [
    "# Create the PCA object\n",
    "pca = PCA()"
   ]
  },
  {
   "cell_type": "code",
   "execution_count": 27,
   "id": "3bb53292",
   "metadata": {},
   "outputs": [
    {
     "data": {
      "text/plain": [
       "PCA()"
      ]
     },
     "execution_count": 27,
     "metadata": {},
     "output_type": "execute_result"
    }
   ],
   "source": [
    "#training or instantiation\n",
    "pca.fit(M)"
   ]
  },
  {
   "cell_type": "code",
   "execution_count": 28,
   "id": "9a0a0532",
   "metadata": {},
   "outputs": [
    {
     "data": {
      "text/plain": [
       "array([[ 0.49399805,  0.38889072, -0.02289535,  0.66372284, -0.3867281 ,\n",
       "         0.11882385],\n",
       "       [ 0.18962804, -0.26745987,  0.90996748,  0.13158   ,  0.08365377,\n",
       "        -0.20038552],\n",
       "       [-0.33927295, -0.00604427, -0.15147588,  0.31399745, -0.15573445,\n",
       "        -0.85968876],\n",
       "       [ 0.30113109,  0.71336071,  0.12671721, -0.48908215,  0.14712719,\n",
       "        -0.35147057],\n",
       "       [-0.55876391,  0.30356234,  0.33555631, -0.16219928, -0.64036192,\n",
       "         0.21601565]])"
      ]
     },
     "execution_count": 28,
     "metadata": {},
     "output_type": "execute_result"
    }
   ],
   "source": [
    "pca.components_"
   ]
  },
  {
   "cell_type": "code",
   "execution_count": 29,
   "id": "868f75a9",
   "metadata": {},
   "outputs": [
    {
     "data": {
      "text/plain": [
       "array([15.3713,  6.099 ,  4.8848,  1.8449,  0.    ])"
      ]
     },
     "execution_count": 29,
     "metadata": {},
     "output_type": "execute_result"
    }
   ],
   "source": [
    "np.round(pca.explained_variance_,4)"
   ]
  },
  {
   "cell_type": "code",
   "execution_count": 30,
   "id": "b14d5f75",
   "metadata": {},
   "outputs": [
    {
     "data": {
      "text/plain": [
       "array([0.5451, 0.2163, 0.1732, 0.0654, 0.    ])"
      ]
     },
     "execution_count": 30,
     "metadata": {},
     "output_type": "execute_result"
    }
   ],
   "source": [
    "np.round(pca.explained_variance_ratio_,4)"
   ]
  },
  {
   "cell_type": "code",
   "execution_count": 31,
   "id": "5c42ea7f",
   "metadata": {},
   "outputs": [
    {
     "data": {
      "text/plain": [
       "[1, 2, 3, 4, 5]"
      ]
     },
     "execution_count": 31,
     "metadata": {},
     "output_type": "execute_result"
    }
   ],
   "source": [
    "X1 = [i for i in range(1,col)]\n",
    "X1"
   ]
  },
  {
   "cell_type": "code",
   "execution_count": 32,
   "id": "9461ded6",
   "metadata": {},
   "outputs": [
    {
     "data": {
      "image/png": "[encoded data removed]",
      "text/plain": [
       "<Figure size 576x288 with 1 Axes>"
      ]
     },
     "metadata": {
      "needs_background": "light"
     },
     "output_type": "display_data"
    }
   ],
   "source": [
    "plt.figure(figsize= (8,4))\n",
    "plt.plot(X1,np.cumsum(pca.explained_variance_ratio_*100))\n",
    "plt.ylabel(\"Cumulative Explained Variance\")\n",
    "plt.xlabel(\"No of components\")\n",
    "plt.show()"
   ]
  },
  {
   "cell_type": "code",
   "execution_count": 33,
   "id": "3a71d0bb",
   "metadata": {},
   "outputs": [],
   "source": [
    "# Create the PCA object with selected Principal component\n",
    "pca_trans = PCA(n_components=4)"
   ]
  },
  {
   "cell_type": "code",
   "execution_count": 34,
   "id": "31037427",
   "metadata": {},
   "outputs": [
    {
     "data": {
      "text/plain": [
       "PCA(n_components=4)"
      ]
     },
     "execution_count": 34,
     "metadata": {},
     "output_type": "execute_result"
    }
   ],
   "source": [
    "pca_trans.fit(M)"
   ]
  },
  {
   "cell_type": "code",
   "execution_count": 35,
   "id": "0da0206b",
   "metadata": {},
   "outputs": [],
   "source": [
    "# New Feature space\n",
    "M_transform_sk = pca_trans.transform(M)"
   ]
  },
  {
   "cell_type": "code",
   "execution_count": 36,
   "id": "ba12b8ce",
   "metadata": {},
   "outputs": [
    {
     "data": {
      "text/plain": [
       "array([[-2.5243, -2.7687, -2.3993, -0.8037],\n",
       "       [-1.6692,  0.4421,  3.0392, -1.4218],\n",
       "       [ 3.6994,  2.9632, -1.7787, -0.6404],\n",
       "       [ 4.6356, -2.2615,  1.175 ,  1.1207],\n",
       "       [-4.1416,  1.6248, -0.0362,  1.7452]])"
      ]
     },
     "execution_count": 36,
     "metadata": {},
     "output_type": "execute_result"
    }
   ],
   "source": [
    "np.round(M_transform_sk,4)"
   ]
  },
  {
   "cell_type": "code",
   "execution_count": 37,
   "id": "dac96209",
   "metadata": {},
   "outputs": [
    {
     "data": {
      "text/plain": [
       "array([[ 2.5243,  2.7687, -2.3993,  0.8037],\n",
       "       [ 1.6692, -0.4421,  3.0392,  1.4218],\n",
       "       [-3.6994, -2.9632, -1.7787,  0.6404],\n",
       "       [-4.6356,  2.2615,  1.175 , -1.1207],\n",
       "       [ 4.1416, -1.6248, -0.0362, -1.7452]])"
      ]
     },
     "execution_count": 37,
     "metadata": {},
     "output_type": "execute_result"
    }
   ],
   "source": [
    "M_transformed_1"
   ]
  },
  {
   "cell_type": "code",
   "execution_count": 38,
   "id": "c7bcf736",
   "metadata": {},
   "outputs": [
    {
     "data": {
      "text/plain": [
       "array([7.8413, 4.9392, 4.4203, 2.7165, 0.    ])"
      ]
     },
     "execution_count": 38,
     "metadata": {},
     "output_type": "execute_result"
    }
   ],
   "source": [
    "np.round(pca.singular_values_,4)"
   ]
  },
  {
   "cell_type": "code",
   "execution_count": 39,
   "id": "d220fef8",
   "metadata": {},
   "outputs": [
    {
     "data": {
      "text/plain": [
       "'auto'"
      ]
     },
     "execution_count": 39,
     "metadata": {},
     "output_type": "execute_result"
    }
   ],
   "source": [
    "pca.svd_solver"
   ]
  },
  {
   "cell_type": "markdown",
   "id": "b2dc3ad9",
   "metadata": {},
   "source": [
    "### Apply the PCA on Cardiac health UCI Library Dataset"
   ]
  },
  {
   "cell_type": "code",
   "execution_count": 40,
   "id": "29c66994",
   "metadata": {},
   "outputs": [],
   "source": [
    "url = \"https://archive.ics.uci.edu/ml/machine-learning-databases/spect/SPECTF.test\""
   ]
  },
  {
   "cell_type": "code",
   "execution_count": 41,
   "id": "c639fc91",
   "metadata": {},
   "outputs": [],
   "source": [
    "### Dataset does not have column name mentioned so we need to manually add the column name while importing the data\n",
    "col_name = ['target', 'F1R', 'F1S', 'F2R', 'F2S', 'F3R', 'F3S', 'F4R', 'F4S', 'F5R','F5S','F6R','F6S','F7R','F7S','F8R','F8S','F9R','F9S','F10R',\n",
    "    'F10S',  'F11R','F11S','F12R','F12S','F13R','F13S','F14R','F14S','F15R','F15S','F16R','F16S','F17R','F17S','F18R','F18S','F19R','F19S',   'F20R',\n",
    "    'F20S','F21R','F21S','F22R','F22S']"
   ]
  },
  {
   "cell_type": "code",
   "execution_count": 42,
   "id": "566f63b7",
   "metadata": {},
   "outputs": [],
   "source": [
    "import pandas as pd\n",
    "import numpy as np\n",
    "import matplotlib.pyplot as plt\n",
    "import seaborn as sns"
   ]
  },
  {
   "cell_type": "code",
   "execution_count": 43,
   "id": "da586e86",
   "metadata": {},
   "outputs": [],
   "source": [
    "df = pd.read_table(url,delimiter=\",\",names=col_name)"
   ]
  },
  {
   "cell_type": "code",
   "execution_count": 44,
   "id": "f2f06764",
   "metadata": {},
   "outputs": [
    {
     "data": {
      "text/html": [
       "<div>\n",
       "<style scoped>\n",
       "    .dataframe tbody tr th:only-of-type {\n",
       "        vertical-align: middle;\n",
       "    }\n",
       "\n",
       "    .dataframe tbody tr th {\n",
       "        vertical-align: top;\n",
       "    }\n",
       "\n",
       "    .dataframe thead th {\n",
       "        text-align: right;\n",
       "    }\n",
       "</style>\n",
       "<table border=\"1\" class=\"dataframe\">\n",
       "  <thead>\n",
       "    <tr style=\"text-align: right;\">\n",
       "      <th></th>\n",
       "      <th>target</th>\n",
       "      <th>F1R</th>\n",
       "      <th>F1S</th>\n",
       "      <th>F2R</th>\n",
       "      <th>F2S</th>\n",
       "      <th>F3R</th>\n",
       "      <th>F3S</th>\n",
       "      <th>F4R</th>\n",
       "      <th>F4S</th>\n",
       "      <th>F5R</th>\n",
       "      <th>...</th>\n",
       "      <th>F18R</th>\n",
       "      <th>F18S</th>\n",
       "      <th>F19R</th>\n",
       "      <th>F19S</th>\n",
       "      <th>F20R</th>\n",
       "      <th>F20S</th>\n",
       "      <th>F21R</th>\n",
       "      <th>F21S</th>\n",
       "      <th>F22R</th>\n",
       "      <th>F22S</th>\n",
       "    </tr>\n",
       "  </thead>\n",
       "  <tbody>\n",
       "    <tr>\n",
       "      <th>0</th>\n",
       "      <td>1</td>\n",
       "      <td>67</td>\n",
       "      <td>68</td>\n",
       "      <td>73</td>\n",
       "      <td>78</td>\n",
       "      <td>65</td>\n",
       "      <td>63</td>\n",
       "      <td>67</td>\n",
       "      <td>60</td>\n",
       "      <td>63</td>\n",
       "      <td>...</td>\n",
       "      <td>61</td>\n",
       "      <td>56</td>\n",
       "      <td>76</td>\n",
       "      <td>75</td>\n",
       "      <td>74</td>\n",
       "      <td>77</td>\n",
       "      <td>76</td>\n",
       "      <td>74</td>\n",
       "      <td>59</td>\n",
       "      <td>68</td>\n",
       "    </tr>\n",
       "    <tr>\n",
       "      <th>1</th>\n",
       "      <td>1</td>\n",
       "      <td>75</td>\n",
       "      <td>74</td>\n",
       "      <td>71</td>\n",
       "      <td>71</td>\n",
       "      <td>62</td>\n",
       "      <td>58</td>\n",
       "      <td>70</td>\n",
       "      <td>64</td>\n",
       "      <td>71</td>\n",
       "      <td>...</td>\n",
       "      <td>66</td>\n",
       "      <td>62</td>\n",
       "      <td>68</td>\n",
       "      <td>69</td>\n",
       "      <td>69</td>\n",
       "      <td>66</td>\n",
       "      <td>64</td>\n",
       "      <td>58</td>\n",
       "      <td>57</td>\n",
       "      <td>52</td>\n",
       "    </tr>\n",
       "    <tr>\n",
       "      <th>2</th>\n",
       "      <td>1</td>\n",
       "      <td>83</td>\n",
       "      <td>64</td>\n",
       "      <td>66</td>\n",
       "      <td>67</td>\n",
       "      <td>67</td>\n",
       "      <td>74</td>\n",
       "      <td>74</td>\n",
       "      <td>72</td>\n",
       "      <td>64</td>\n",
       "      <td>...</td>\n",
       "      <td>67</td>\n",
       "      <td>64</td>\n",
       "      <td>69</td>\n",
       "      <td>63</td>\n",
       "      <td>68</td>\n",
       "      <td>54</td>\n",
       "      <td>65</td>\n",
       "      <td>64</td>\n",
       "      <td>43</td>\n",
       "      <td>42</td>\n",
       "    </tr>\n",
       "    <tr>\n",
       "      <th>3</th>\n",
       "      <td>1</td>\n",
       "      <td>72</td>\n",
       "      <td>66</td>\n",
       "      <td>65</td>\n",
       "      <td>65</td>\n",
       "      <td>64</td>\n",
       "      <td>61</td>\n",
       "      <td>71</td>\n",
       "      <td>78</td>\n",
       "      <td>73</td>\n",
       "      <td>...</td>\n",
       "      <td>69</td>\n",
       "      <td>68</td>\n",
       "      <td>68</td>\n",
       "      <td>63</td>\n",
       "      <td>71</td>\n",
       "      <td>72</td>\n",
       "      <td>65</td>\n",
       "      <td>63</td>\n",
       "      <td>58</td>\n",
       "      <td>60</td>\n",
       "    </tr>\n",
       "    <tr>\n",
       "      <th>4</th>\n",
       "      <td>1</td>\n",
       "      <td>62</td>\n",
       "      <td>60</td>\n",
       "      <td>69</td>\n",
       "      <td>61</td>\n",
       "      <td>63</td>\n",
       "      <td>63</td>\n",
       "      <td>70</td>\n",
       "      <td>68</td>\n",
       "      <td>70</td>\n",
       "      <td>...</td>\n",
       "      <td>66</td>\n",
       "      <td>66</td>\n",
       "      <td>58</td>\n",
       "      <td>56</td>\n",
       "      <td>72</td>\n",
       "      <td>73</td>\n",
       "      <td>71</td>\n",
       "      <td>64</td>\n",
       "      <td>49</td>\n",
       "      <td>42</td>\n",
       "    </tr>\n",
       "  </tbody>\n",
       "</table>\n",
       "<p>5 rows × 45 columns</p>\n",
       "</div>"
      ],
      "text/plain": [
       "   target  F1R  F1S  F2R  F2S  F3R  F3S  F4R  F4S  F5R  ...  F18R  F18S  F19R  \\\n",
       "0       1   67   68   73   78   65   63   67   60   63  ...    61    56    76   \n",
       "1       1   75   74   71   71   62   58   70   64   71  ...    66    62    68   \n",
       "2       1   83   64   66   67   67   74   74   72   64  ...    67    64    69   \n",
       "3       1   72   66   65   65   64   61   71   78   73  ...    69    68    68   \n",
       "4       1   62   60   69   61   63   63   70   68   70  ...    66    66    58   \n",
       "\n",
       "   F19S  F20R  F20S  F21R  F21S  F22R  F22S  \n",
       "0    75    74    77    76    74    59    68  \n",
       "1    69    69    66    64    58    57    52  \n",
       "2    63    68    54    65    64    43    42  \n",
       "3    63    71    72    65    63    58    60  \n",
       "4    56    72    73    71    64    49    42  \n",
       "\n",
       "[5 rows x 45 columns]"
      ]
     },
     "execution_count": 44,
     "metadata": {},
     "output_type": "execute_result"
    }
   ],
   "source": [
    "df.head()"
   ]
  },
  {
   "cell_type": "code",
   "execution_count": 45,
   "id": "4a88841a",
   "metadata": {},
   "outputs": [
    {
     "data": {
      "text/plain": [
       "(187, 45)"
      ]
     },
     "execution_count": 45,
     "metadata": {},
     "output_type": "execute_result"
    }
   ],
   "source": [
    "df.shape"
   ]
  },
  {
   "cell_type": "code",
   "execution_count": 46,
   "id": "cf1c2cd4",
   "metadata": {},
   "outputs": [
    {
     "data": {
      "text/plain": [
       "<AxesSubplot:>"
      ]
     },
     "execution_count": 46,
     "metadata": {},
     "output_type": "execute_result"
    },
    {
     "data": {
      "image/png": "[encoded data removed]",
      "text/plain": [
       "<Figure size 720x576 with 2 Axes>"
      ]
     },
     "metadata": {
      "needs_background": "light"
     },
     "output_type": "display_data"
    }
   ],
   "source": [
    "# check co-relation\n",
    "plt.figure(figsize=(10,8))\n",
    "sns.heatmap(df.corr())"
   ]
  },
  {
   "cell_type": "code",
   "execution_count": 47,
   "id": "b68ba87b",
   "metadata": {},
   "outputs": [
    {
     "data": {
      "text/plain": [
       "(187,)"
      ]
     },
     "execution_count": 47,
     "metadata": {},
     "output_type": "execute_result"
    }
   ],
   "source": [
    "# PCA is unsupervised Algorithm so we will remove the target variable from the dataset\n",
    "y = df[\"target\"]\n",
    "y.shape"
   ]
  },
  {
   "cell_type": "code",
   "execution_count": 48,
   "id": "60a2b982",
   "metadata": {},
   "outputs": [],
   "source": [
    "X = df.drop(\"target\",axis=1)"
   ]
  },
  {
   "cell_type": "code",
   "execution_count": 49,
   "id": "1409beb5",
   "metadata": {},
   "outputs": [
    {
     "data": {
      "text/plain": [
       "(187, 44)"
      ]
     },
     "execution_count": 49,
     "metadata": {},
     "output_type": "execute_result"
    }
   ],
   "source": [
    "X.shape"
   ]
  },
  {
   "cell_type": "code",
   "execution_count": 50,
   "id": "a8f0b2a9",
   "metadata": {},
   "outputs": [],
   "source": [
    "# PCA we perform on contineous dataset and as we check the principal component which maximize the variance\n",
    "# It means which can explain most of the variance in the dataset so as we use variance in PCA so we first standardize the datatset\n",
    "# We will check the data distribution"
   ]
  },
  {
   "cell_type": "code",
   "execution_count": 51,
   "id": "17d38962",
   "metadata": {},
   "outputs": [],
   "source": [
    "X_col_name = col_name\n",
    "X_col_name.remove(\"target\")"
   ]
  },
  {
   "cell_type": "code",
   "execution_count": 52,
   "id": "95a94dd4",
   "metadata": {},
   "outputs": [
    {
     "data": {
      "text/plain": [
       "list"
      ]
     },
     "execution_count": 52,
     "metadata": {},
     "output_type": "execute_result"
    }
   ],
   "source": [
    "type(X_col_name)"
   ]
  },
  {
   "cell_type": "code",
   "execution_count": 53,
   "id": "fad573bc",
   "metadata": {},
   "outputs": [
    {
     "data": {
      "image/png": "[encoded data removed]",
      "text/plain": [
       "<Figure size 576x288 with 1 Axes>"
      ]
     },
     "metadata": {
      "needs_background": "light"
     },
     "output_type": "display_data"
    }
   ],
   "source": [
    "plt.figure(figsize=(8,4))\n",
    "for i in X_col_name:\n",
    "    sns.kdeplot(X[i])"
   ]
  },
  {
   "cell_type": "code",
   "execution_count": 54,
   "id": "8cde33ac",
   "metadata": {},
   "outputs": [],
   "source": [
    "# Seems like data had gaussian distribution , so we can scale our data using standardizaton"
   ]
  },
  {
   "cell_type": "code",
   "execution_count": 55,
   "id": "09dff85e",
   "metadata": {},
   "outputs": [],
   "source": [
    "from sklearn.preprocessing import StandardScaler"
   ]
  },
  {
   "cell_type": "code",
   "execution_count": 56,
   "id": "b5be0998",
   "metadata": {},
   "outputs": [],
   "source": [
    "stdscaler = StandardScaler()"
   ]
  },
  {
   "cell_type": "code",
   "execution_count": 57,
   "id": "da6fa702",
   "metadata": {},
   "outputs": [],
   "source": [
    "X_scale = stdscaler.fit_transform(X)"
   ]
  },
  {
   "cell_type": "code",
   "execution_count": 58,
   "id": "4185f18f",
   "metadata": {},
   "outputs": [
    {
     "name": "stdout",
     "output_type": "stream",
     "text": [
      "(187, 44)\n",
      "<class 'numpy.ndarray'>\n"
     ]
    }
   ],
   "source": [
    "print(X_scale.shape)\n",
    "print(type(X_scale))"
   ]
  },
  {
   "cell_type": "code",
   "execution_count": 59,
   "id": "f21ae846",
   "metadata": {},
   "outputs": [
    {
     "name": "stdout",
     "output_type": "stream",
     "text": [
      "<class 'pandas.core.frame.DataFrame'>\n"
     ]
    }
   ],
   "source": [
    "print(type(X))"
   ]
  },
  {
   "cell_type": "code",
   "execution_count": 60,
   "id": "20862eff",
   "metadata": {},
   "outputs": [
    {
     "name": "stdout",
     "output_type": "stream",
     "text": [
      "-0.0\n",
      "63.7307\n"
     ]
    }
   ],
   "source": [
    "print(np.round(X_scale.mean(),4))\n",
    "print(np.round(X.to_numpy().mean(),4))"
   ]
  },
  {
   "cell_type": "code",
   "execution_count": 61,
   "id": "7c1d96c9",
   "metadata": {},
   "outputs": [],
   "source": [
    "df_scale = pd.DataFrame(X_scale,columns=X_col_name)"
   ]
  },
  {
   "cell_type": "code",
   "execution_count": 62,
   "id": "13c1de79",
   "metadata": {},
   "outputs": [
    {
     "data": {
      "image/png": "[encoded data removed]",
      "text/plain": [
       "<Figure size 576x288 with 1 Axes>"
      ]
     },
     "metadata": {
      "needs_background": "light"
     },
     "output_type": "display_data"
    }
   ],
   "source": [
    "plt.figure(figsize=(8,4))\n",
    "for i in X_col_name:\n",
    "    sns.kdeplot(df_scale[i])"
   ]
  },
  {
   "cell_type": "markdown",
   "id": "38475d7f",
   "metadata": {},
   "source": [
    "#### Apply the PCA"
   ]
  },
  {
   "cell_type": "code",
   "execution_count": 63,
   "id": "90274492",
   "metadata": {},
   "outputs": [],
   "source": [
    "from sklearn.decomposition import PCA"
   ]
  },
  {
   "cell_type": "code",
   "execution_count": 64,
   "id": "66a472da",
   "metadata": {},
   "outputs": [],
   "source": [
    "pca = PCA()"
   ]
  },
  {
   "cell_type": "code",
   "execution_count": 65,
   "id": "ac7d28c6",
   "metadata": {},
   "outputs": [
    {
     "data": {
      "text/plain": [
       "PCA()"
      ]
     },
     "execution_count": 65,
     "metadata": {},
     "output_type": "execute_result"
    }
   ],
   "source": [
    "pca.fit(X_scale)"
   ]
  },
  {
   "cell_type": "code",
   "execution_count": 66,
   "id": "6d7332a0",
   "metadata": {},
   "outputs": [
    {
     "data": {
      "text/plain": [
       "array([14.34562074,  5.83681585,  4.42162892,  2.34332289,  1.80650522,\n",
       "        1.55240242,  1.45319376,  1.36726928,  1.29681023,  1.09713609,\n",
       "        0.90936507,  0.7917635 ,  0.71012602,  0.65566146,  0.55558117,\n",
       "        0.52786403,  0.46792461,  0.40259812,  0.33576864,  0.31605158,\n",
       "        0.29306647,  0.28413263,  0.24971262,  0.23242124,  0.19851243,\n",
       "        0.18062938,  0.17242752,  0.16469028,  0.15106954,  0.13134794,\n",
       "        0.12212081,  0.11471285,  0.10372077,  0.09271628,  0.08059425,\n",
       "        0.07867202,  0.07363336,  0.06858027,  0.05356435,  0.04941072,\n",
       "        0.04523983,  0.04274213,  0.03500209,  0.02442975])"
      ]
     },
     "execution_count": 66,
     "metadata": {},
     "output_type": "execute_result"
    }
   ],
   "source": [
    "eigen_values = pca.explained_variance_\n",
    "eigen_values"
   ]
  },
  {
   "cell_type": "code",
   "execution_count": 67,
   "id": "f3a8b229",
   "metadata": {},
   "outputs": [
    {
     "data": {
      "text/plain": [
       "array([[-0.11996681, -0.12479925, -0.08948385, ..., -0.1880824 ,\n",
       "        -0.15196636, -0.17083357],\n",
       "       [-0.17769274, -0.1913285 , -0.03660356, ...,  0.18124222,\n",
       "         0.21123126,  0.20342982],\n",
       "       [-0.09942534, -0.1593253 , -0.21148644, ...,  0.12396717,\n",
       "         0.09812765,  0.1036532 ],\n",
       "       ...,\n",
       "       [-0.14041787,  0.10898007, -0.00995677, ...,  0.25701764,\n",
       "        -0.01590751, -0.05663753],\n",
       "       [ 0.01592636, -0.03068441,  0.01762179, ..., -0.25061049,\n",
       "        -0.24475524,  0.35592682],\n",
       "       [-0.00610308,  0.03089461,  0.08121487, ...,  0.06576717,\n",
       "        -0.01677834,  0.06555894]])"
      ]
     },
     "execution_count": 67,
     "metadata": {},
     "output_type": "execute_result"
    }
   ],
   "source": [
    "eigen_vectors = pca.components_\n",
    "eigen_vectors"
   ]
  },
  {
   "cell_type": "code",
   "execution_count": 68,
   "id": "ae9e5b2d",
   "metadata": {},
   "outputs": [
    {
     "name": "stdout",
     "output_type": "stream",
     "text": [
      "<class 'numpy.ndarray'>\n",
      "<class 'numpy.ndarray'>\n"
     ]
    }
   ],
   "source": [
    "print(type(eigen_vectors))\n",
    "print(type(eigen_values))"
   ]
  },
  {
   "cell_type": "code",
   "execution_count": 69,
   "id": "2799bd16",
   "metadata": {},
   "outputs": [
    {
     "name": "stdout",
     "output_type": "stream",
     "text": [
      "(44, 44)\n",
      "(44,)\n"
     ]
    }
   ],
   "source": [
    "print(eigen_vectors.shape)\n",
    "print(eigen_values.shape)"
   ]
  },
  {
   "cell_type": "code",
   "execution_count": 70,
   "id": "461619e0",
   "metadata": {},
   "outputs": [
    {
     "data": {
      "text/plain": [
       "[<matplotlib.lines.Line2D at 0x2a0f3734d60>]"
      ]
     },
     "execution_count": 70,
     "metadata": {},
     "output_type": "execute_result"
    },
    {
     "data": {
      "image/png": "[encoded data removed]",
      "text/plain": [
       "<Figure size 576x288 with 1 Axes>"
      ]
     },
     "metadata": {
      "needs_background": "light"
     },
     "output_type": "display_data"
    }
   ],
   "source": [
    "# select principal component\n",
    "plt.figure(figsize=(8,4))\n",
    "#plt.style.use('fivethirtyeight')\n",
    "plt.plot(range(1,45),np.cumsum(pca.explained_variance_ratio_))"
   ]
  },
  {
   "cell_type": "code",
   "execution_count": 71,
   "id": "07a3d818",
   "metadata": {},
   "outputs": [],
   "source": [
    "table = pd.DataFrame(np.cumsum(pca.explained_variance_ratio_),columns=[\"sum\"])"
   ]
  },
  {
   "cell_type": "code",
   "execution_count": 72,
   "id": "7476a331",
   "metadata": {},
   "outputs": [
    {
     "data": {
      "text/html": [
       "<div>\n",
       "<style scoped>\n",
       "    .dataframe tbody tr th:only-of-type {\n",
       "        vertical-align: middle;\n",
       "    }\n",
       "\n",
       "    .dataframe tbody tr th {\n",
       "        vertical-align: top;\n",
       "    }\n",
       "\n",
       "    .dataframe thead th {\n",
       "        text-align: right;\n",
       "    }\n",
       "</style>\n",
       "<table border=\"1\" class=\"dataframe\">\n",
       "  <thead>\n",
       "    <tr style=\"text-align: right;\">\n",
       "      <th></th>\n",
       "      <th>sum</th>\n",
       "    </tr>\n",
       "  </thead>\n",
       "  <tbody>\n",
       "    <tr>\n",
       "      <th>1</th>\n",
       "      <td>0.324293</td>\n",
       "    </tr>\n",
       "    <tr>\n",
       "      <th>2</th>\n",
       "      <td>0.456239</td>\n",
       "    </tr>\n",
       "    <tr>\n",
       "      <th>3</th>\n",
       "      <td>0.556193</td>\n",
       "    </tr>\n",
       "    <tr>\n",
       "      <th>4</th>\n",
       "      <td>0.609166</td>\n",
       "    </tr>\n",
       "    <tr>\n",
       "      <th>5</th>\n",
       "      <td>0.650003</td>\n",
       "    </tr>\n",
       "    <tr>\n",
       "      <th>6</th>\n",
       "      <td>0.685096</td>\n",
       "    </tr>\n",
       "    <tr>\n",
       "      <th>7</th>\n",
       "      <td>0.717947</td>\n",
       "    </tr>\n",
       "    <tr>\n",
       "      <th>8</th>\n",
       "      <td>0.748855</td>\n",
       "    </tr>\n",
       "    <tr>\n",
       "      <th>9</th>\n",
       "      <td>0.778170</td>\n",
       "    </tr>\n",
       "    <tr>\n",
       "      <th>10</th>\n",
       "      <td>0.802972</td>\n",
       "    </tr>\n",
       "    <tr>\n",
       "      <th>11</th>\n",
       "      <td>0.823529</td>\n",
       "    </tr>\n",
       "    <tr>\n",
       "      <th>12</th>\n",
       "      <td>0.841427</td>\n",
       "    </tr>\n",
       "    <tr>\n",
       "      <th>13</th>\n",
       "      <td>0.857480</td>\n",
       "    </tr>\n",
       "    <tr>\n",
       "      <th>14</th>\n",
       "      <td>0.872302</td>\n",
       "    </tr>\n",
       "    <tr>\n",
       "      <th>15</th>\n",
       "      <td>0.884861</td>\n",
       "    </tr>\n",
       "    <tr>\n",
       "      <th>16</th>\n",
       "      <td>0.896794</td>\n",
       "    </tr>\n",
       "    <tr>\n",
       "      <th>17</th>\n",
       "      <td>0.907371</td>\n",
       "    </tr>\n",
       "    <tr>\n",
       "      <th>18</th>\n",
       "      <td>0.916472</td>\n",
       "    </tr>\n",
       "    <tr>\n",
       "      <th>19</th>\n",
       "      <td>0.924063</td>\n",
       "    </tr>\n",
       "    <tr>\n",
       "      <th>20</th>\n",
       "      <td>0.931207</td>\n",
       "    </tr>\n",
       "    <tr>\n",
       "      <th>21</th>\n",
       "      <td>0.937832</td>\n",
       "    </tr>\n",
       "    <tr>\n",
       "      <th>22</th>\n",
       "      <td>0.944255</td>\n",
       "    </tr>\n",
       "    <tr>\n",
       "      <th>23</th>\n",
       "      <td>0.949900</td>\n",
       "    </tr>\n",
       "    <tr>\n",
       "      <th>24</th>\n",
       "      <td>0.955154</td>\n",
       "    </tr>\n",
       "    <tr>\n",
       "      <th>25</th>\n",
       "      <td>0.959642</td>\n",
       "    </tr>\n",
       "    <tr>\n",
       "      <th>26</th>\n",
       "      <td>0.963725</td>\n",
       "    </tr>\n",
       "    <tr>\n",
       "      <th>27</th>\n",
       "      <td>0.967623</td>\n",
       "    </tr>\n",
       "    <tr>\n",
       "      <th>28</th>\n",
       "      <td>0.971346</td>\n",
       "    </tr>\n",
       "    <tr>\n",
       "      <th>29</th>\n",
       "      <td>0.974761</td>\n",
       "    </tr>\n",
       "    <tr>\n",
       "      <th>30</th>\n",
       "      <td>0.977730</td>\n",
       "    </tr>\n",
       "    <tr>\n",
       "      <th>31</th>\n",
       "      <td>0.980491</td>\n",
       "    </tr>\n",
       "    <tr>\n",
       "      <th>32</th>\n",
       "      <td>0.983084</td>\n",
       "    </tr>\n",
       "    <tr>\n",
       "      <th>33</th>\n",
       "      <td>0.985429</td>\n",
       "    </tr>\n",
       "    <tr>\n",
       "      <th>34</th>\n",
       "      <td>0.987525</td>\n",
       "    </tr>\n",
       "    <tr>\n",
       "      <th>35</th>\n",
       "      <td>0.989346</td>\n",
       "    </tr>\n",
       "    <tr>\n",
       "      <th>36</th>\n",
       "      <td>0.991125</td>\n",
       "    </tr>\n",
       "    <tr>\n",
       "      <th>37</th>\n",
       "      <td>0.992789</td>\n",
       "    </tr>\n",
       "    <tr>\n",
       "      <th>38</th>\n",
       "      <td>0.994340</td>\n",
       "    </tr>\n",
       "    <tr>\n",
       "      <th>39</th>\n",
       "      <td>0.995551</td>\n",
       "    </tr>\n",
       "    <tr>\n",
       "      <th>40</th>\n",
       "      <td>0.996668</td>\n",
       "    </tr>\n",
       "    <tr>\n",
       "      <th>41</th>\n",
       "      <td>0.997690</td>\n",
       "    </tr>\n",
       "    <tr>\n",
       "      <th>42</th>\n",
       "      <td>0.998656</td>\n",
       "    </tr>\n",
       "    <tr>\n",
       "      <th>43</th>\n",
       "      <td>0.999448</td>\n",
       "    </tr>\n",
       "    <tr>\n",
       "      <th>44</th>\n",
       "      <td>1.000000</td>\n",
       "    </tr>\n",
       "  </tbody>\n",
       "</table>\n",
       "</div>"
      ],
      "text/plain": [
       "         sum\n",
       "1   0.324293\n",
       "2   0.456239\n",
       "3   0.556193\n",
       "4   0.609166\n",
       "5   0.650003\n",
       "6   0.685096\n",
       "7   0.717947\n",
       "8   0.748855\n",
       "9   0.778170\n",
       "10  0.802972\n",
       "11  0.823529\n",
       "12  0.841427\n",
       "13  0.857480\n",
       "14  0.872302\n",
       "15  0.884861\n",
       "16  0.896794\n",
       "17  0.907371\n",
       "18  0.916472\n",
       "19  0.924063\n",
       "20  0.931207\n",
       "21  0.937832\n",
       "22  0.944255\n",
       "23  0.949900\n",
       "24  0.955154\n",
       "25  0.959642\n",
       "26  0.963725\n",
       "27  0.967623\n",
       "28  0.971346\n",
       "29  0.974761\n",
       "30  0.977730\n",
       "31  0.980491\n",
       "32  0.983084\n",
       "33  0.985429\n",
       "34  0.987525\n",
       "35  0.989346\n",
       "36  0.991125\n",
       "37  0.992789\n",
       "38  0.994340\n",
       "39  0.995551\n",
       "40  0.996668\n",
       "41  0.997690\n",
       "42  0.998656\n",
       "43  0.999448\n",
       "44  1.000000"
      ]
     },
     "execution_count": 72,
     "metadata": {},
     "output_type": "execute_result"
    }
   ],
   "source": [
    "table.index +=1\n",
    "table"
   ]
  },
  {
   "cell_type": "code",
   "execution_count": 73,
   "id": "f8fcf9d0",
   "metadata": {},
   "outputs": [
    {
     "data": {
      "image/png": "[encoded data removed]",
      "text/plain": [
       "<Figure size 1080x288 with 1 Axes>"
      ]
     },
     "metadata": {
      "needs_background": "light"
     },
     "output_type": "display_data"
    }
   ],
   "source": [
    "plt.figure(figsize=(15,4))\n",
    "plt.bar(range(1,45),pca.explained_variance_)\n",
    "plt.xticks(range(1,45))\n",
    "plt.show()"
   ]
  },
  {
   "cell_type": "code",
   "execution_count": 74,
   "id": "b1c3b329",
   "metadata": {},
   "outputs": [],
   "source": [
    "# lets select Principal Component 17, which can explain 90% of the data\n",
    "pca_17 = PCA(n_components=17)"
   ]
  },
  {
   "cell_type": "code",
   "execution_count": 75,
   "id": "9cffe720",
   "metadata": {},
   "outputs": [],
   "source": [
    "X_transformed = pca_17.fit_transform(X_scale)"
   ]
  },
  {
   "cell_type": "code",
   "execution_count": 76,
   "id": "6c93624c",
   "metadata": {},
   "outputs": [
    {
     "name": "stdout",
     "output_type": "stream",
     "text": [
      "<class 'numpy.ndarray'>\n",
      "(187, 17)\n"
     ]
    }
   ],
   "source": [
    "print(type(X_transformed))\n",
    "print(X_transformed.shape)"
   ]
  },
  {
   "cell_type": "code",
   "execution_count": 77,
   "id": "cb5dfdec",
   "metadata": {},
   "outputs": [
    {
     "data": {
      "text/plain": [
       "<AxesSubplot:>"
      ]
     },
     "execution_count": 77,
     "metadata": {},
     "output_type": "execute_result"
    },
    {
     "data": {
      "image/png": "[encoded data removed]",
      "text/plain": [
       "<Figure size 432x288 with 2 Axes>"
      ]
     },
     "metadata": {
      "needs_background": "light"
     },
     "output_type": "display_data"
    }
   ],
   "source": [
    "# lets check the co-relation\n",
    "plt.figure(figsize=(6,4))\n",
    "sns.heatmap(pd.DataFrame(X_transformed).corr())"
   ]
  },
  {
   "cell_type": "markdown",
   "id": "5e775cb3",
   "metadata": {},
   "source": [
    "Principal components now don't have any co-relation"
   ]
  },
  {
   "cell_type": "markdown",
   "id": "7a43d3fc",
   "metadata": {},
   "source": [
    "### Apply PCA with train test split and prepare classsification model"
   ]
  },
  {
   "cell_type": "code",
   "execution_count": 78,
   "id": "ea812311",
   "metadata": {},
   "outputs": [],
   "source": [
    "import numpy as np\n",
    "import pandas as pd\n",
    "import matplotlib.pyplot as plt\n",
    "import seaborn as sns"
   ]
  },
  {
   "cell_type": "code",
   "execution_count": 79,
   "id": "8c109563",
   "metadata": {},
   "outputs": [],
   "source": [
    "df_wine = pd.read_csv(\"https://raw.githubusercontent.com/atulpatelDS/Data_Files/master/wine_quality/winequality.csv\")"
   ]
  },
  {
   "cell_type": "code",
   "execution_count": 80,
   "id": "b406c99f",
   "metadata": {},
   "outputs": [
    {
     "data": {
      "text/html": [
       "<div>\n",
       "<style scoped>\n",
       "    .dataframe tbody tr th:only-of-type {\n",
       "        vertical-align: middle;\n",
       "    }\n",
       "\n",
       "    .dataframe tbody tr th {\n",
       "        vertical-align: top;\n",
       "    }\n",
       "\n",
       "    .dataframe thead th {\n",
       "        text-align: right;\n",
       "    }\n",
       "</style>\n",
       "<table border=\"1\" class=\"dataframe\">\n",
       "  <thead>\n",
       "    <tr style=\"text-align: right;\">\n",
       "      <th></th>\n",
       "      <th>fixed acidity</th>\n",
       "      <th>volatile acidity</th>\n",
       "      <th>citric acid</th>\n",
       "      <th>residual sugar</th>\n",
       "      <th>chlorides</th>\n",
       "      <th>free sulfur dioxide</th>\n",
       "      <th>total sulfur dioxide</th>\n",
       "      <th>density</th>\n",
       "      <th>pH</th>\n",
       "      <th>sulphates</th>\n",
       "      <th>alcohol</th>\n",
       "      <th>quality</th>\n",
       "      <th>good</th>\n",
       "      <th>color</th>\n",
       "    </tr>\n",
       "  </thead>\n",
       "  <tbody>\n",
       "    <tr>\n",
       "      <th>0</th>\n",
       "      <td>7.4</td>\n",
       "      <td>0.70</td>\n",
       "      <td>0.00</td>\n",
       "      <td>1.9</td>\n",
       "      <td>0.076</td>\n",
       "      <td>11.0</td>\n",
       "      <td>34.0</td>\n",
       "      <td>0.9978</td>\n",
       "      <td>3.51</td>\n",
       "      <td>0.56</td>\n",
       "      <td>9.4</td>\n",
       "      <td>5</td>\n",
       "      <td>0</td>\n",
       "      <td>red</td>\n",
       "    </tr>\n",
       "    <tr>\n",
       "      <th>1</th>\n",
       "      <td>7.8</td>\n",
       "      <td>0.88</td>\n",
       "      <td>0.00</td>\n",
       "      <td>2.6</td>\n",
       "      <td>0.098</td>\n",
       "      <td>25.0</td>\n",
       "      <td>67.0</td>\n",
       "      <td>0.9968</td>\n",
       "      <td>3.20</td>\n",
       "      <td>0.68</td>\n",
       "      <td>9.8</td>\n",
       "      <td>5</td>\n",
       "      <td>0</td>\n",
       "      <td>red</td>\n",
       "    </tr>\n",
       "    <tr>\n",
       "      <th>2</th>\n",
       "      <td>7.8</td>\n",
       "      <td>0.76</td>\n",
       "      <td>0.04</td>\n",
       "      <td>2.3</td>\n",
       "      <td>0.092</td>\n",
       "      <td>15.0</td>\n",
       "      <td>54.0</td>\n",
       "      <td>0.9970</td>\n",
       "      <td>3.26</td>\n",
       "      <td>0.65</td>\n",
       "      <td>9.8</td>\n",
       "      <td>5</td>\n",
       "      <td>0</td>\n",
       "      <td>red</td>\n",
       "    </tr>\n",
       "    <tr>\n",
       "      <th>3</th>\n",
       "      <td>11.2</td>\n",
       "      <td>0.28</td>\n",
       "      <td>0.56</td>\n",
       "      <td>1.9</td>\n",
       "      <td>0.075</td>\n",
       "      <td>17.0</td>\n",
       "      <td>60.0</td>\n",
       "      <td>0.9980</td>\n",
       "      <td>3.16</td>\n",
       "      <td>0.58</td>\n",
       "      <td>9.8</td>\n",
       "      <td>6</td>\n",
       "      <td>0</td>\n",
       "      <td>red</td>\n",
       "    </tr>\n",
       "    <tr>\n",
       "      <th>4</th>\n",
       "      <td>7.4</td>\n",
       "      <td>0.70</td>\n",
       "      <td>0.00</td>\n",
       "      <td>1.9</td>\n",
       "      <td>0.076</td>\n",
       "      <td>11.0</td>\n",
       "      <td>34.0</td>\n",
       "      <td>0.9978</td>\n",
       "      <td>3.51</td>\n",
       "      <td>0.56</td>\n",
       "      <td>9.4</td>\n",
       "      <td>5</td>\n",
       "      <td>0</td>\n",
       "      <td>red</td>\n",
       "    </tr>\n",
       "  </tbody>\n",
       "</table>\n",
       "</div>"
      ],
      "text/plain": [
       "   fixed acidity  volatile acidity  citric acid  residual sugar  chlorides  \\\n",
       "0            7.4              0.70         0.00             1.9      0.076   \n",
       "1            7.8              0.88         0.00             2.6      0.098   \n",
       "2            7.8              0.76         0.04             2.3      0.092   \n",
       "3           11.2              0.28         0.56             1.9      0.075   \n",
       "4            7.4              0.70         0.00             1.9      0.076   \n",
       "\n",
       "   free sulfur dioxide  total sulfur dioxide  density    pH  sulphates  \\\n",
       "0                 11.0                  34.0   0.9978  3.51       0.56   \n",
       "1                 25.0                  67.0   0.9968  3.20       0.68   \n",
       "2                 15.0                  54.0   0.9970  3.26       0.65   \n",
       "3                 17.0                  60.0   0.9980  3.16       0.58   \n",
       "4                 11.0                  34.0   0.9978  3.51       0.56   \n",
       "\n",
       "   alcohol  quality  good color  \n",
       "0      9.4        5     0   red  \n",
       "1      9.8        5     0   red  \n",
       "2      9.8        5     0   red  \n",
       "3      9.8        6     0   red  \n",
       "4      9.4        5     0   red  "
      ]
     },
     "execution_count": 80,
     "metadata": {},
     "output_type": "execute_result"
    }
   ],
   "source": [
    "df_wine.head()"
   ]
  },
  {
   "cell_type": "code",
   "execution_count": 81,
   "id": "8dbff749",
   "metadata": {},
   "outputs": [
    {
     "data": {
      "text/plain": [
       "0    5220\n",
       "1    1277\n",
       "Name: good, dtype: int64"
      ]
     },
     "execution_count": 81,
     "metadata": {},
     "output_type": "execute_result"
    }
   ],
   "source": [
    "## Find number of wines that classify as Good or bad\n",
    "df_wine.good.value_counts()"
   ]
  },
  {
   "cell_type": "code",
   "execution_count": 82,
   "id": "9572bdad",
   "metadata": {},
   "outputs": [
    {
     "data": {
      "text/plain": [
       "<AxesSubplot:>"
      ]
     },
     "execution_count": 82,
     "metadata": {},
     "output_type": "execute_result"
    },
    {
     "data": {
      "image/png": "[encoded data removed]",
      "text/plain": [
       "<Figure size 432x288 with 2 Axes>"
      ]
     },
     "metadata": {
      "needs_background": "light"
     },
     "output_type": "display_data"
    }
   ],
   "source": [
    "## Lets plot the heatmap to find the correlation between variables.\n",
    "plt.figure(figsize=(6,4))\n",
    "sns.heatmap(df_wine.corr())"
   ]
  },
  {
   "cell_type": "code",
   "execution_count": 83,
   "id": "7ced98b8",
   "metadata": {},
   "outputs": [
    {
     "data": {
      "text/plain": [
       "white    4898\n",
       "red      1599\n",
       "Name: color, dtype: int64"
      ]
     },
     "execution_count": 83,
     "metadata": {},
     "output_type": "execute_result"
    }
   ],
   "source": [
    "df_wine.color.value_counts()"
   ]
  },
  {
   "cell_type": "code",
   "execution_count": 84,
   "id": "c9d63c6b",
   "metadata": {},
   "outputs": [],
   "source": [
    "# convert column \"color\" into numerical\n",
    "df_wine.color.replace([\"red\",\"white\"],[0,1],inplace=True)"
   ]
  },
  {
   "cell_type": "code",
   "execution_count": 85,
   "id": "0edf832e",
   "metadata": {},
   "outputs": [
    {
     "data": {
      "text/html": [
       "<div>\n",
       "<style scoped>\n",
       "    .dataframe tbody tr th:only-of-type {\n",
       "        vertical-align: middle;\n",
       "    }\n",
       "\n",
       "    .dataframe tbody tr th {\n",
       "        vertical-align: top;\n",
       "    }\n",
       "\n",
       "    .dataframe thead th {\n",
       "        text-align: right;\n",
       "    }\n",
       "</style>\n",
       "<table border=\"1\" class=\"dataframe\">\n",
       "  <thead>\n",
       "    <tr style=\"text-align: right;\">\n",
       "      <th></th>\n",
       "      <th>fixed acidity</th>\n",
       "      <th>volatile acidity</th>\n",
       "      <th>citric acid</th>\n",
       "      <th>residual sugar</th>\n",
       "      <th>chlorides</th>\n",
       "      <th>free sulfur dioxide</th>\n",
       "      <th>total sulfur dioxide</th>\n",
       "      <th>density</th>\n",
       "      <th>pH</th>\n",
       "      <th>sulphates</th>\n",
       "      <th>alcohol</th>\n",
       "      <th>quality</th>\n",
       "      <th>good</th>\n",
       "      <th>color</th>\n",
       "    </tr>\n",
       "  </thead>\n",
       "  <tbody>\n",
       "    <tr>\n",
       "      <th>0</th>\n",
       "      <td>7.4</td>\n",
       "      <td>0.70</td>\n",
       "      <td>0.00</td>\n",
       "      <td>1.9</td>\n",
       "      <td>0.076</td>\n",
       "      <td>11.0</td>\n",
       "      <td>34.0</td>\n",
       "      <td>0.9978</td>\n",
       "      <td>3.51</td>\n",
       "      <td>0.56</td>\n",
       "      <td>9.4</td>\n",
       "      <td>5</td>\n",
       "      <td>0</td>\n",
       "      <td>0</td>\n",
       "    </tr>\n",
       "    <tr>\n",
       "      <th>1</th>\n",
       "      <td>7.8</td>\n",
       "      <td>0.88</td>\n",
       "      <td>0.00</td>\n",
       "      <td>2.6</td>\n",
       "      <td>0.098</td>\n",
       "      <td>25.0</td>\n",
       "      <td>67.0</td>\n",
       "      <td>0.9968</td>\n",
       "      <td>3.20</td>\n",
       "      <td>0.68</td>\n",
       "      <td>9.8</td>\n",
       "      <td>5</td>\n",
       "      <td>0</td>\n",
       "      <td>0</td>\n",
       "    </tr>\n",
       "    <tr>\n",
       "      <th>2</th>\n",
       "      <td>7.8</td>\n",
       "      <td>0.76</td>\n",
       "      <td>0.04</td>\n",
       "      <td>2.3</td>\n",
       "      <td>0.092</td>\n",
       "      <td>15.0</td>\n",
       "      <td>54.0</td>\n",
       "      <td>0.9970</td>\n",
       "      <td>3.26</td>\n",
       "      <td>0.65</td>\n",
       "      <td>9.8</td>\n",
       "      <td>5</td>\n",
       "      <td>0</td>\n",
       "      <td>0</td>\n",
       "    </tr>\n",
       "    <tr>\n",
       "      <th>3</th>\n",
       "      <td>11.2</td>\n",
       "      <td>0.28</td>\n",
       "      <td>0.56</td>\n",
       "      <td>1.9</td>\n",
       "      <td>0.075</td>\n",
       "      <td>17.0</td>\n",
       "      <td>60.0</td>\n",
       "      <td>0.9980</td>\n",
       "      <td>3.16</td>\n",
       "      <td>0.58</td>\n",
       "      <td>9.8</td>\n",
       "      <td>6</td>\n",
       "      <td>0</td>\n",
       "      <td>0</td>\n",
       "    </tr>\n",
       "    <tr>\n",
       "      <th>4</th>\n",
       "      <td>7.4</td>\n",
       "      <td>0.70</td>\n",
       "      <td>0.00</td>\n",
       "      <td>1.9</td>\n",
       "      <td>0.076</td>\n",
       "      <td>11.0</td>\n",
       "      <td>34.0</td>\n",
       "      <td>0.9978</td>\n",
       "      <td>3.51</td>\n",
       "      <td>0.56</td>\n",
       "      <td>9.4</td>\n",
       "      <td>5</td>\n",
       "      <td>0</td>\n",
       "      <td>0</td>\n",
       "    </tr>\n",
       "  </tbody>\n",
       "</table>\n",
       "</div>"
      ],
      "text/plain": [
       "   fixed acidity  volatile acidity  citric acid  residual sugar  chlorides  \\\n",
       "0            7.4              0.70         0.00             1.9      0.076   \n",
       "1            7.8              0.88         0.00             2.6      0.098   \n",
       "2            7.8              0.76         0.04             2.3      0.092   \n",
       "3           11.2              0.28         0.56             1.9      0.075   \n",
       "4            7.4              0.70         0.00             1.9      0.076   \n",
       "\n",
       "   free sulfur dioxide  total sulfur dioxide  density    pH  sulphates  \\\n",
       "0                 11.0                  34.0   0.9978  3.51       0.56   \n",
       "1                 25.0                  67.0   0.9968  3.20       0.68   \n",
       "2                 15.0                  54.0   0.9970  3.26       0.65   \n",
       "3                 17.0                  60.0   0.9980  3.16       0.58   \n",
       "4                 11.0                  34.0   0.9978  3.51       0.56   \n",
       "\n",
       "   alcohol  quality  good  color  \n",
       "0      9.4        5     0      0  \n",
       "1      9.8        5     0      0  \n",
       "2      9.8        5     0      0  \n",
       "3      9.8        6     0      0  \n",
       "4      9.4        5     0      0  "
      ]
     },
     "execution_count": 85,
     "metadata": {},
     "output_type": "execute_result"
    }
   ],
   "source": [
    "df_wine.head()"
   ]
  },
  {
   "cell_type": "code",
   "execution_count": 86,
   "id": "f8a603de",
   "metadata": {},
   "outputs": [],
   "source": [
    "X_wine = df_wine.drop(\"good\",axis=1)"
   ]
  },
  {
   "cell_type": "code",
   "execution_count": 87,
   "id": "65b2e9e2",
   "metadata": {},
   "outputs": [],
   "source": [
    "y_wine = df_wine[\"good\"]"
   ]
  },
  {
   "cell_type": "code",
   "execution_count": 88,
   "id": "0c1b007a",
   "metadata": {},
   "outputs": [
    {
     "name": "stdout",
     "output_type": "stream",
     "text": [
      "(6497, 13)\n",
      "(6497,)\n",
      "<class 'pandas.core.frame.DataFrame'>\n",
      "<class 'pandas.core.series.Series'>\n"
     ]
    }
   ],
   "source": [
    "print(X_wine.shape)\n",
    "print(y_wine.shape)\n",
    "print(type(X_wine))\n",
    "print(type(y_wine))"
   ]
  },
  {
   "cell_type": "code",
   "execution_count": 89,
   "id": "fd1223b0",
   "metadata": {},
   "outputs": [],
   "source": [
    "# Split the dataset into train and test\n",
    "from sklearn.model_selection import train_test_split\n",
    "X_train,X_test,y_train,y_test = train_test_split(X_wine,y_wine,test_size=0.40,random_state=42)"
   ]
  },
  {
   "cell_type": "code",
   "execution_count": 90,
   "id": "4aee05e4",
   "metadata": {},
   "outputs": [
    {
     "name": "stdout",
     "output_type": "stream",
     "text": [
      "(3898, 13)\n",
      "(2599, 13)\n",
      "<class 'pandas.core.frame.DataFrame'>\n",
      "<class 'pandas.core.frame.DataFrame'>\n"
     ]
    }
   ],
   "source": [
    "print(X_train.shape)\n",
    "print(X_test.shape)\n",
    "print(type(X_train))\n",
    "print(type(X_test))"
   ]
  },
  {
   "cell_type": "code",
   "execution_count": 91,
   "id": "cd1352e3",
   "metadata": {},
   "outputs": [
    {
     "name": "stdout",
     "output_type": "stream",
     "text": [
      "(3898,)\n",
      "(2599,)\n",
      "<class 'pandas.core.series.Series'>\n",
      "<class 'pandas.core.series.Series'>\n"
     ]
    }
   ],
   "source": [
    "print(y_train.shape)\n",
    "print(y_test.shape)\n",
    "print(type(y_train))\n",
    "print(type(y_test))"
   ]
  },
  {
   "cell_type": "code",
   "execution_count": 92,
   "id": "e907404f",
   "metadata": {},
   "outputs": [],
   "source": [
    "#wine_cols = [i for i in X_wine.columns]\n",
    "#wine_cols"
   ]
  },
  {
   "cell_type": "code",
   "execution_count": 93,
   "id": "2f99c023",
   "metadata": {},
   "outputs": [
    {
     "data": {
      "text/plain": [
       "13.957792306863524"
      ]
     },
     "execution_count": 93,
     "metadata": {},
     "output_type": "execute_result"
    }
   ],
   "source": [
    "X_wine.to_numpy().mean()"
   ]
  },
  {
   "cell_type": "code",
   "execution_count": 94,
   "id": "723d8492",
   "metadata": {},
   "outputs": [],
   "source": [
    "from sklearn.preprocessing import StandardScaler\n",
    "scale = StandardScaler()\n",
    "#scale.fit(X_train)"
   ]
  },
  {
   "cell_type": "code",
   "execution_count": 95,
   "id": "a1ab3cd9",
   "metadata": {},
   "outputs": [],
   "source": [
    "# transform the training dataset\n",
    "#X_train_scale = scale.transform(X_train)\n",
    "X_train_scale = scale.fit_transform(X_train)"
   ]
  },
  {
   "cell_type": "code",
   "execution_count": 96,
   "id": "f1c03bcd",
   "metadata": {},
   "outputs": [],
   "source": [
    "# transform the test dataset\n",
    "X_test_scale = scale.transform(X_test)"
   ]
  },
  {
   "cell_type": "code",
   "execution_count": 97,
   "id": "1de82ec3",
   "metadata": {},
   "outputs": [
    {
     "data": {
      "text/plain": [
       "0.0"
      ]
     },
     "execution_count": 97,
     "metadata": {},
     "output_type": "execute_result"
    }
   ],
   "source": [
    "np.round(X_train_scale.mean(),4)"
   ]
  },
  {
   "cell_type": "code",
   "execution_count": 98,
   "id": "848eef8b",
   "metadata": {},
   "outputs": [],
   "source": [
    "# Apply the PCA"
   ]
  },
  {
   "cell_type": "code",
   "execution_count": 99,
   "id": "c9abcb64",
   "metadata": {},
   "outputs": [],
   "source": [
    "from sklearn.decomposition import PCA"
   ]
  },
  {
   "cell_type": "code",
   "execution_count": 100,
   "id": "0f8236e7",
   "metadata": {},
   "outputs": [
    {
     "data": {
      "text/plain": [
       "PCA()"
      ]
     },
     "execution_count": 100,
     "metadata": {},
     "output_type": "execute_result"
    }
   ],
   "source": [
    "pca_wine_train_scale = PCA()\n",
    "pca_wine_train_scale.fit(X_train_scale)"
   ]
  },
  {
   "cell_type": "code",
   "execution_count": 101,
   "id": "aea5dd45",
   "metadata": {},
   "outputs": [
    {
     "data": {
      "text/plain": [
       "array([3.83374849, 2.63140142, 1.67549649, 1.08136193, 0.85680384,\n",
       "       0.66646993, 0.57291783, 0.51470835, 0.4699232 , 0.30259377,\n",
       "       0.25731622, 0.11484843, 0.02574599])"
      ]
     },
     "execution_count": 101,
     "metadata": {},
     "output_type": "execute_result"
    }
   ],
   "source": [
    "# Eigen Values\n",
    "pca_wine_train_scale.explained_variance_"
   ]
  },
  {
   "cell_type": "code",
   "execution_count": 102,
   "id": "348ef99a",
   "metadata": {},
   "outputs": [
    {
     "data": {
      "text/plain": [
       "array([0.29482807, 0.20236357, 0.12885128, 0.08316035, 0.06589108,\n",
       "       0.05125377, 0.0440593 , 0.03958279, 0.03613867, 0.02327047,\n",
       "       0.01978848, 0.00883223, 0.00197995])"
      ]
     },
     "execution_count": 102,
     "metadata": {},
     "output_type": "execute_result"
    }
   ],
   "source": [
    "pca_wine_train_scale.explained_variance_ratio_"
   ]
  },
  {
   "cell_type": "code",
   "execution_count": 103,
   "id": "cf6f1b94",
   "metadata": {},
   "outputs": [
    {
     "data": {
      "text/plain": [
       "array([0.29482807, 0.49719164, 0.62604292, 0.70920327, 0.77509435,\n",
       "       0.82634811, 0.87040741, 0.9099902 , 0.94612887, 0.96939934,\n",
       "       0.98918782, 0.99802005, 1.        ])"
      ]
     },
     "execution_count": 103,
     "metadata": {},
     "output_type": "execute_result"
    }
   ],
   "source": [
    "np.cumsum(pca_wine_train_scale.explained_variance_ratio_)"
   ]
  },
  {
   "cell_type": "code",
   "execution_count": 104,
   "id": "22decd14",
   "metadata": {},
   "outputs": [
    {
     "data": {
      "text/plain": [
       "[<matplotlib.lines.Line2D at 0x2a0f63e1d30>]"
      ]
     },
     "execution_count": 104,
     "metadata": {},
     "output_type": "execute_result"
    },
    {
     "data": {
      "image/png": "[encoded data removed]",
      "text/plain": [
       "<Figure size 432x288 with 1 Axes>"
      ]
     },
     "metadata": {
      "needs_background": "light"
     },
     "output_type": "display_data"
    }
   ],
   "source": [
    "plt.plot(range(1,14),np.cumsum(pca_wine_train_scale.explained_variance_ratio_))"
   ]
  },
  {
   "cell_type": "code",
   "execution_count": 105,
   "id": "0140879a",
   "metadata": {},
   "outputs": [],
   "source": [
    "# we will select 9 principal components\n",
    "# Again apply the PCA using 9 Principal components\n",
    "pca_wine_train_scale_9 = PCA(n_components=9)\n",
    "#pca_wine_train_scale_9.fit(X_train_scale)"
   ]
  },
  {
   "cell_type": "code",
   "execution_count": 106,
   "id": "877192a8",
   "metadata": {},
   "outputs": [],
   "source": [
    "# Transform the training dataset in a new feature space\n",
    "#X_train_scale_pca_9 = pca_wine_train_scale_9.transform(X_train_scale)\n",
    "X_train_scale_pca_9 = pca_wine_train_scale_9.fit_transform(X_train_scale)"
   ]
  },
  {
   "cell_type": "code",
   "execution_count": 107,
   "id": "4f595719",
   "metadata": {},
   "outputs": [],
   "source": [
    "# Transform the testing dataset in a new feature space\n",
    "X_test_scale_pca_9 = pca_wine_train_scale_9.transform(X_test_scale)"
   ]
  },
  {
   "cell_type": "code",
   "execution_count": 108,
   "id": "c4153560",
   "metadata": {},
   "outputs": [],
   "source": [
    "# Apply Random Forest Classifier and KNN Classifier without PCA"
   ]
  },
  {
   "cell_type": "code",
   "execution_count": 109,
   "id": "62a937a5",
   "metadata": {},
   "outputs": [],
   "source": [
    "from sklearn.ensemble import RandomForestClassifier\n",
    "from sklearn.neighbors import KNeighborsClassifier"
   ]
  },
  {
   "cell_type": "code",
   "execution_count": 110,
   "id": "2b048254",
   "metadata": {},
   "outputs": [
    {
     "data": {
      "text/plain": [
       "RandomForestClassifier()"
      ]
     },
     "execution_count": 110,
     "metadata": {},
     "output_type": "execute_result"
    }
   ],
   "source": [
    "rfc = RandomForestClassifier()\n",
    "rfc.fit(X_train,y_train)"
   ]
  },
  {
   "cell_type": "code",
   "execution_count": 111,
   "id": "228202e4",
   "metadata": {},
   "outputs": [
    {
     "data": {
      "text/plain": [
       "KNeighborsClassifier()"
      ]
     },
     "execution_count": 111,
     "metadata": {},
     "output_type": "execute_result"
    }
   ],
   "source": [
    "knncf = KNeighborsClassifier()\n",
    "knncf.fit(X_train,y_train)"
   ]
  },
  {
   "cell_type": "code",
   "execution_count": 112,
   "id": "4c96de5f",
   "metadata": {},
   "outputs": [],
   "source": [
    "from sklearn import metrics"
   ]
  },
  {
   "cell_type": "code",
   "execution_count": 113,
   "id": "21fc5924",
   "metadata": {},
   "outputs": [],
   "source": [
    "y_pred_rf = rfc.predict(X_test)"
   ]
  },
  {
   "cell_type": "code",
   "execution_count": 114,
   "id": "882ab49a",
   "metadata": {},
   "outputs": [],
   "source": [
    "y_pred_knn = knncf.predict(X_test)"
   ]
  },
  {
   "cell_type": "code",
   "execution_count": 115,
   "id": "97acac42",
   "metadata": {},
   "outputs": [
    {
     "data": {
      "text/plain": [
       "1.0"
      ]
     },
     "execution_count": 115,
     "metadata": {},
     "output_type": "execute_result"
    }
   ],
   "source": [
    "# score on test dataset using rf\n",
    "metrics.accuracy_score(y_test,y_pred_rf)"
   ]
  },
  {
   "cell_type": "code",
   "execution_count": 116,
   "id": "d777dd89",
   "metadata": {},
   "outputs": [
    {
     "data": {
      "text/plain": [
       "0.8391689111196614"
      ]
     },
     "execution_count": 116,
     "metadata": {},
     "output_type": "execute_result"
    }
   ],
   "source": [
    "# score on test dataset using knn\n",
    "metrics.accuracy_score(y_test,y_pred_knn)"
   ]
  },
  {
   "cell_type": "code",
   "execution_count": 117,
   "id": "f0f62c0c",
   "metadata": {},
   "outputs": [],
   "source": [
    "# Apply Random Forest Classifier with PCA"
   ]
  },
  {
   "cell_type": "code",
   "execution_count": 118,
   "id": "c95d5d57",
   "metadata": {},
   "outputs": [
    {
     "data": {
      "text/plain": [
       "RandomForestClassifier()"
      ]
     },
     "execution_count": 118,
     "metadata": {},
     "output_type": "execute_result"
    }
   ],
   "source": [
    "rfc_pca = RandomForestClassifier()\n",
    "rfc_pca.fit(X_train_scale_pca_9,y_train)"
   ]
  },
  {
   "cell_type": "code",
   "execution_count": 119,
   "id": "537a329d",
   "metadata": {},
   "outputs": [
    {
     "data": {
      "text/plain": [
       "KNeighborsClassifier()"
      ]
     },
     "execution_count": 119,
     "metadata": {},
     "output_type": "execute_result"
    }
   ],
   "source": [
    "knncf_pca = KNeighborsClassifier()\n",
    "knncf_pca.fit(X_train_scale_pca_9,y_train)"
   ]
  },
  {
   "cell_type": "code",
   "execution_count": 120,
   "id": "60db45ac",
   "metadata": {},
   "outputs": [],
   "source": [
    "y_pred_pca_rf_9 = rfc_pca.predict(X_test_scale_pca_9)"
   ]
  },
  {
   "cell_type": "code",
   "execution_count": 121,
   "id": "b8ecd675",
   "metadata": {},
   "outputs": [],
   "source": [
    "y_pred_pca_knn_9 = knncf_pca.predict(X_test_scale_pca_9)"
   ]
  },
  {
   "cell_type": "code",
   "execution_count": 122,
   "id": "29c2db10",
   "metadata": {},
   "outputs": [
    {
     "data": {
      "text/plain": [
       "0.9823008849557522"
      ]
     },
     "execution_count": 122,
     "metadata": {},
     "output_type": "execute_result"
    }
   ],
   "source": [
    "# score on test dataset using rfc_pca\n",
    "metrics.accuracy_score(y_test,y_pred_pca_rf_9)"
   ]
  },
  {
   "cell_type": "code",
   "execution_count": 123,
   "id": "c399cb24",
   "metadata": {},
   "outputs": [
    {
     "data": {
      "text/plain": [
       "0.981531358214698"
      ]
     },
     "execution_count": 123,
     "metadata": {},
     "output_type": "execute_result"
    }
   ],
   "source": [
    "# score on test dataset using rfc_pca\n",
    "metrics.accuracy_score(y_test,y_pred_pca_knn_9)"
   ]
  }
 ],
 "metadata": {
  "kernelspec": {
   "display_name": "Python 3 (ipykernel)",
   "language": "python",
   "name": "python3"
  },
  "language_info": {
   "codemirror_mode": {
    "name": "ipython",
    "version": 3
   },
   "file_extension": ".py",
   "mimetype": "text/x-python",
   "name": "python",
   "nbconvert_exporter": "python",
   "pygments_lexer": "ipython3",
   "version": "3.8.11"
  }
 },
 "nbformat": 4,
 "nbformat_minor": 5
}
