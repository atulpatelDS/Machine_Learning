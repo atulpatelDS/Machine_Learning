{
 "cells": [
  {
   "cell_type": "markdown",
   "id": "773b2ab5",
   "metadata": {},
   "source": [
    "## The One-vs-Rest strategy(ovr) and One-vs-One(ovo)\n",
    "\n",
    "Read this blog :\n",
    "\n",
    "https://towardsdatascience.com/multi-class-classification-one-vs-all-one-vs-one-94daed32a87b\n",
    "\n",
    "Not all classification predictive models support multi-class classification.\n",
    "\n",
    "Algorithms such as the Perceptron, Logistic Regression, and Support Vector Machines were designed for binary classification and do not natively support classification tasks with more than two classes.\n",
    "\n",
    "One approach for using binary classification algorithms for multi-classification problems is to split the multi-class classification dataset into multiple binary classification datasets and fit a binary classification model on each. Two different examples of this approach are the One-vs-Rest and One-vs-One strategies.\n",
    "\n",
    "For more details refer below blog\n",
    "\n",
    "https://machinelearningmastery.com/one-vs-rest-and-one-vs-one-for-multi-class-classification/\n"
   ]
  },
  {
   "cell_type": "markdown",
   "id": "5100a346",
   "metadata": {},
   "source": [
    "**The One-vs-Rest strategy(ovr) or (ova)** splits a multi-class classification into one binary classification problem per class.\n",
    "\n",
    "\n",
    "**The One-vs-One(ovo)** strategy splits a multi-class classification into one binary classification problem per each pair of classes."
   ]
  },
  {
   "cell_type": "markdown",
   "id": "9939b885",
   "metadata": {},
   "source": [
    "### The One-vs-Rest strategy(ovr) or One-vs-All(ova) \n",
    "\n",
    "For example, given a multi-class classification problem with examples for each class ‘red,’ ‘blue,’ and ‘green‘. This could be divided into three binary classification datasets as follows:\n",
    "\n",
    "- Binary Classification Problem 1: red vs [blue, green]\n",
    "- Binary Classification Problem 2: blue vs [red, green]\n",
    "- Binary Classification Problem 3: green vs [red, blue]\n",
    "\n",
    "A possible downside of this approach is that it requires one model to be created for each class. For example, three classes requires three models. This could be an issue for large datasets (e.g. millions of rows), slow models (e.g. neural networks), or very large numbers of classes (e.g. hundreds of classes).\n",
    "\n",
    "This approach requires that each model predicts a class membership probability or a probability-like score. The argmax of these scores (class index with the largest score) is then used to predict a class.\n"
   ]
  },
  {
   "cell_type": "markdown",
   "id": "d7098941",
   "metadata": {},
   "source": [
    "### Use Logistic Regression for MultiClass classification using parameter : multi_class='ovr'"
   ]
  },
  {
   "cell_type": "code",
   "execution_count": 1,
   "id": "5e5a8621",
   "metadata": {},
   "outputs": [],
   "source": [
    "from sklearn.datasets import make_classification\n",
    "from sklearn.linear_model import LogisticRegression"
   ]
  },
  {
   "cell_type": "code",
   "execution_count": 2,
   "id": "fd3c2f68",
   "metadata": {},
   "outputs": [],
   "source": [
    "# Create Dataset\n",
    "X,y = make_classification(n_samples=1000,n_features=10,n_classes=3,n_informative=5,n_redundant=5,random_state=42)"
   ]
  },
  {
   "cell_type": "code",
   "execution_count": 3,
   "id": "6aecb00c",
   "metadata": {},
   "outputs": [],
   "source": [
    "#Apply the model\n",
    "logcf = LogisticRegression(\n",
    "    penalty='l2',\n",
    "    dual=False,\n",
    "    tol=0.0001,\n",
    "    C=1.0,\n",
    "    fit_intercept=True,\n",
    "    intercept_scaling=1,\n",
    "    class_weight=None,\n",
    "    random_state=None,\n",
    "    solver='lbfgs',\n",
    "    max_iter=100,\n",
    "    multi_class='ovr',  # we have to play with this setting for multiclassification using Logistic Regression\n",
    "    verbose=0,\n",
    "    warm_start=False,\n",
    "    n_jobs=None,\n",
    "    l1_ratio=None,\n",
    ")"
   ]
  },
  {
   "cell_type": "code",
   "execution_count": 4,
   "id": "5e54b392",
   "metadata": {},
   "outputs": [
    {
     "data": {
      "text/plain": [
       "LogisticRegression(multi_class='ovr')"
      ]
     },
     "execution_count": 4,
     "metadata": {},
     "output_type": "execute_result"
    }
   ],
   "source": [
    "logcf.fit(X,y)"
   ]
  },
  {
   "cell_type": "code",
   "execution_count": 5,
   "id": "1340572c",
   "metadata": {},
   "outputs": [],
   "source": [
    "y_pred = logcf.predict(X)"
   ]
  },
  {
   "cell_type": "code",
   "execution_count": 6,
   "id": "aea1e799",
   "metadata": {},
   "outputs": [
    {
     "data": {
      "text/plain": [
       "numpy.ndarray"
      ]
     },
     "execution_count": 6,
     "metadata": {},
     "output_type": "execute_result"
    }
   ],
   "source": [
    "type(y_pred)"
   ]
  },
  {
   "cell_type": "code",
   "execution_count": 7,
   "id": "cae5ca9d",
   "metadata": {},
   "outputs": [],
   "source": [
    "import numpy as np\n",
    "import pandas as pd"
   ]
  },
  {
   "cell_type": "code",
   "execution_count": 8,
   "id": "5b4e7af6",
   "metadata": {},
   "outputs": [
    {
     "data": {
      "text/plain": [
       "(1000,)"
      ]
     },
     "execution_count": 8,
     "metadata": {},
     "output_type": "execute_result"
    }
   ],
   "source": [
    "y_pred.shape"
   ]
  },
  {
   "cell_type": "code",
   "execution_count": 9,
   "id": "b5bc5b20",
   "metadata": {},
   "outputs": [
    {
     "data": {
      "text/plain": [
       "(array([0, 1, 2]), array([385, 338, 277], dtype=int64))"
      ]
     },
     "execution_count": 9,
     "metadata": {},
     "output_type": "execute_result"
    }
   ],
   "source": [
    "np.unique(y_pred,return_counts=True)"
   ]
  },
  {
   "cell_type": "markdown",
   "id": "da04a9de",
   "metadata": {},
   "source": [
    "### Use Logistic Regression for MultiClass classification using parameter : multi_class='auto'"
   ]
  },
  {
   "cell_type": "code",
   "execution_count": 10,
   "id": "268440a8",
   "metadata": {},
   "outputs": [],
   "source": [
    "# logistic regression for multi-class classification using a one-vs-rest\n",
    "from sklearn.datasets import make_classification\n",
    "from sklearn.linear_model import LogisticRegression"
   ]
  },
  {
   "cell_type": "code",
   "execution_count": 11,
   "id": "7e6145a3",
   "metadata": {},
   "outputs": [],
   "source": [
    "# Create Dataset\n",
    "X,y = make_classification(n_samples=1000,n_features=10,n_classes=3,n_informative=5,n_redundant=5,random_state=42)"
   ]
  },
  {
   "cell_type": "code",
   "execution_count": 12,
   "id": "a4cb2283",
   "metadata": {},
   "outputs": [],
   "source": [
    "# Create model\n",
    "logregcf = LogisticRegression(multi_class='auto')"
   ]
  },
  {
   "cell_type": "code",
   "execution_count": 13,
   "id": "f5c23ff8",
   "metadata": {},
   "outputs": [
    {
     "data": {
      "text/plain": [
       "LogisticRegression()"
      ]
     },
     "execution_count": 13,
     "metadata": {},
     "output_type": "execute_result"
    }
   ],
   "source": [
    "logregcf.fit(X,y)"
   ]
  },
  {
   "cell_type": "code",
   "execution_count": 14,
   "id": "5c84b6a0",
   "metadata": {},
   "outputs": [],
   "source": [
    "y_pred_logregcf = logregcf.predict(X)"
   ]
  },
  {
   "cell_type": "code",
   "execution_count": 15,
   "id": "b17168df",
   "metadata": {},
   "outputs": [
    {
     "data": {
      "text/plain": [
       "(array([0, 1, 2]), array([336, 332, 332], dtype=int64))"
      ]
     },
     "execution_count": 15,
     "metadata": {},
     "output_type": "execute_result"
    }
   ],
   "source": [
    "np.unique(y,return_counts=True)"
   ]
  },
  {
   "cell_type": "code",
   "execution_count": 16,
   "id": "f35ded85",
   "metadata": {
    "scrolled": true
   },
   "outputs": [
    {
     "data": {
      "text/plain": [
       "(array([0, 1, 2]), array([355, 340, 305], dtype=int64))"
      ]
     },
     "execution_count": 16,
     "metadata": {},
     "output_type": "execute_result"
    }
   ],
   "source": [
    "np.unique(y_pred_logregcf,return_counts=True)"
   ]
  },
  {
   "cell_type": "markdown",
   "id": "714a2d4d",
   "metadata": {},
   "source": [
    "### How to use the OneVsRestClassifier class with a LogisticRegression class used as the binary classification model."
   ]
  },
  {
   "cell_type": "code",
   "execution_count": 17,
   "id": "9b171167",
   "metadata": {},
   "outputs": [],
   "source": [
    "# Define the classification method\n",
    "from sklearn.multiclass import OneVsRestClassifier\n",
    "logreg = LogisticRegression(multi_class='auto')\n",
    "ovr = OneVsRestClassifier(logreg)"
   ]
  },
  {
   "cell_type": "code",
   "execution_count": 18,
   "id": "8cb5176d",
   "metadata": {},
   "outputs": [
    {
     "data": {
      "text/plain": [
       "OneVsRestClassifier(estimator=LogisticRegression())"
      ]
     },
     "execution_count": 18,
     "metadata": {},
     "output_type": "execute_result"
    }
   ],
   "source": [
    "ovr.fit(X,y)"
   ]
  },
  {
   "cell_type": "code",
   "execution_count": 19,
   "id": "0f6950ed",
   "metadata": {},
   "outputs": [],
   "source": [
    "y_pred_ovr = ovr.predict(X)"
   ]
  },
  {
   "cell_type": "code",
   "execution_count": 20,
   "id": "f078bda8",
   "metadata": {},
   "outputs": [
    {
     "data": {
      "text/plain": [
       "(array([0, 1, 2]), array([336, 332, 332], dtype=int64))"
      ]
     },
     "execution_count": 20,
     "metadata": {},
     "output_type": "execute_result"
    }
   ],
   "source": [
    "np.unique(y,return_counts=True)"
   ]
  },
  {
   "cell_type": "code",
   "execution_count": 21,
   "id": "21734ec1",
   "metadata": {},
   "outputs": [
    {
     "data": {
      "text/plain": [
       "(array([0, 1, 2]), array([385, 338, 277], dtype=int64))"
      ]
     },
     "execution_count": 21,
     "metadata": {},
     "output_type": "execute_result"
    }
   ],
   "source": [
    "np.unique(y_pred_ovr,return_counts=True)"
   ]
  },
  {
   "cell_type": "markdown",
   "id": "5bdad0c0",
   "metadata": {},
   "source": [
    "we can see that output is same with LogisticRegression parameter : multi_class='ovr' and OneVsRestClassifier class with a LogisticRegression but when we use multi_class='auto', seems like it is performinh better."
   ]
  },
  {
   "cell_type": "markdown",
   "id": "6666341b",
   "metadata": {},
   "source": [
    "### One-Vs-One for Multi-Class Classification\n",
    "\n",
    "For example, consider a multi-class classification problem with four classes: ‘red,’ ‘blue,’ and ‘green,’ ‘yellow.’ This could be divided into six binary classification datasets as follows:\n",
    "\n",
    "- Binary Classification Problem 1: red vs. blue\n",
    "- Binary Classification Problem 2: red vs. green\n",
    "- Binary Classification Problem 3: red vs. yellow\n",
    "- Binary Classification Problem 4: blue vs. green\n",
    "- Binary Classification Problem 5: blue vs. yellow\n",
    "- Binary Classification Problem 6: green vs. yellow\n",
    "\n",
    "The formula for calculating the number of binary datasets, and in turn, models, is as follows:\n",
    "\n",
    "(NumClasses * (NumClasses – 1)) / 2\n",
    "\n",
    "- Each binary classification model may predict one class label and the model with the most predictions or votes is predicted by the one-vs-one strategy.\n",
    "\n"
   ]
  },
  {
   "cell_type": "code",
   "execution_count": 22,
   "id": "293f408b",
   "metadata": {},
   "outputs": [],
   "source": [
    "# logistic regression for multi-class classification using a one-vs-rest\n",
    "from sklearn.datasets import make_classification\n",
    "from sklearn.svm import SVC"
   ]
  },
  {
   "cell_type": "code",
   "execution_count": 23,
   "id": "db2e225d",
   "metadata": {},
   "outputs": [],
   "source": [
    "# Create Dataset\n",
    "X,y = make_classification(n_samples=1000,n_features=10,n_classes=3,n_informative=5,n_redundant=5,random_state=42)"
   ]
  },
  {
   "cell_type": "markdown",
   "id": "feacad55",
   "metadata": {},
   "source": [
    "### Use SVC for MultiClass classification using parameter : decision_function_shape='ovr'"
   ]
  },
  {
   "cell_type": "code",
   "execution_count": 24,
   "id": "9dbaa586",
   "metadata": {},
   "outputs": [],
   "source": [
    "svc_ovr = SVC(decision_function_shape='ovr')"
   ]
  },
  {
   "cell_type": "code",
   "execution_count": 25,
   "id": "c8216f10",
   "metadata": {},
   "outputs": [
    {
     "data": {
      "text/plain": [
       "SVC()"
      ]
     },
     "execution_count": 25,
     "metadata": {},
     "output_type": "execute_result"
    }
   ],
   "source": [
    "svc_ovr.fit(X,y)"
   ]
  },
  {
   "cell_type": "code",
   "execution_count": 26,
   "id": "9d01a411",
   "metadata": {},
   "outputs": [],
   "source": [
    "y_pred_svc = svc_ovr.predict(X)"
   ]
  },
  {
   "cell_type": "code",
   "execution_count": 27,
   "id": "eb6eb521",
   "metadata": {},
   "outputs": [
    {
     "data": {
      "text/plain": [
       "(array([0, 1, 2]), array([336, 332, 332], dtype=int64))"
      ]
     },
     "execution_count": 27,
     "metadata": {},
     "output_type": "execute_result"
    }
   ],
   "source": [
    "np.unique(y,return_counts=True)"
   ]
  },
  {
   "cell_type": "code",
   "execution_count": 28,
   "id": "652dbdc3",
   "metadata": {},
   "outputs": [
    {
     "data": {
      "text/plain": [
       "(array([0, 1, 2]), array([335, 337, 328], dtype=int64))"
      ]
     },
     "execution_count": 28,
     "metadata": {},
     "output_type": "execute_result"
    }
   ],
   "source": [
    "np.unique(y_pred_svc,return_counts=True)"
   ]
  },
  {
   "cell_type": "markdown",
   "id": "9204b73f",
   "metadata": {},
   "source": [
    "### Use SVC for MultiClass classification using parameter : decision_function_shape='ovo'"
   ]
  },
  {
   "cell_type": "code",
   "execution_count": 29,
   "id": "4eaeecf5",
   "metadata": {},
   "outputs": [],
   "source": [
    "svc_ovo = SVC(decision_function_shape='ovo')"
   ]
  },
  {
   "cell_type": "code",
   "execution_count": 30,
   "id": "de3c1851",
   "metadata": {},
   "outputs": [
    {
     "data": {
      "text/plain": [
       "SVC(decision_function_shape='ovo')"
      ]
     },
     "execution_count": 30,
     "metadata": {},
     "output_type": "execute_result"
    }
   ],
   "source": [
    "svc_ovo.fit(X,y)"
   ]
  },
  {
   "cell_type": "code",
   "execution_count": 31,
   "id": "87ca2126",
   "metadata": {},
   "outputs": [],
   "source": [
    "y_pred_svc_ovo = svc_ovo.predict(X)"
   ]
  },
  {
   "cell_type": "code",
   "execution_count": 32,
   "id": "92cc1444",
   "metadata": {},
   "outputs": [
    {
     "data": {
      "text/plain": [
       "(array([0, 1, 2]), array([336, 332, 332], dtype=int64))"
      ]
     },
     "execution_count": 32,
     "metadata": {},
     "output_type": "execute_result"
    }
   ],
   "source": [
    "np.unique(y,return_counts=True)"
   ]
  },
  {
   "cell_type": "code",
   "execution_count": 33,
   "id": "9e9055d0",
   "metadata": {},
   "outputs": [
    {
     "data": {
      "text/plain": [
       "(array([0, 1, 2]), array([335, 337, 328], dtype=int64))"
      ]
     },
     "execution_count": 33,
     "metadata": {},
     "output_type": "execute_result"
    }
   ],
   "source": [
    "np.unique(y_pred_svc_ovo,return_counts=True)"
   ]
  },
  {
   "cell_type": "markdown",
   "id": "45692e17",
   "metadata": {},
   "source": [
    "### How to use the OneVsOneClassifier class with a SVM class used as the binary classification model."
   ]
  },
  {
   "cell_type": "code",
   "execution_count": 34,
   "id": "d1846fa6",
   "metadata": {},
   "outputs": [],
   "source": [
    "from sklearn.multiclass import OneVsOneClassifier"
   ]
  },
  {
   "cell_type": "code",
   "execution_count": 35,
   "id": "a64335af",
   "metadata": {},
   "outputs": [],
   "source": [
    "svc_ovr_class_ovo = SVC(decision_function_shape='ovr')\n",
    "#svc_ovr_class_ovo = SVC(decision_function_shape='ovo')"
   ]
  },
  {
   "cell_type": "code",
   "execution_count": 36,
   "id": "c9e4eeec",
   "metadata": {},
   "outputs": [],
   "source": [
    "svc_class_ovo = OneVsOneClassifier(svc_ovr_class_ovo)"
   ]
  },
  {
   "cell_type": "code",
   "execution_count": 37,
   "id": "c9cefb7f",
   "metadata": {},
   "outputs": [
    {
     "data": {
      "text/plain": [
       "OneVsOneClassifier(estimator=SVC())"
      ]
     },
     "execution_count": 37,
     "metadata": {},
     "output_type": "execute_result"
    }
   ],
   "source": [
    "svc_class_ovo.fit(X,y)"
   ]
  },
  {
   "cell_type": "code",
   "execution_count": 38,
   "id": "10ea2df9",
   "metadata": {},
   "outputs": [],
   "source": [
    "y_pred_svc_class_ovo = svc_ovo.predict(X)"
   ]
  },
  {
   "cell_type": "code",
   "execution_count": 39,
   "id": "203656b2",
   "metadata": {},
   "outputs": [
    {
     "data": {
      "text/plain": [
       "(array([0, 1, 2]), array([336, 332, 332], dtype=int64))"
      ]
     },
     "execution_count": 39,
     "metadata": {},
     "output_type": "execute_result"
    }
   ],
   "source": [
    "np.unique(y,return_counts=True)"
   ]
  },
  {
   "cell_type": "code",
   "execution_count": 40,
   "id": "09239841",
   "metadata": {},
   "outputs": [
    {
     "data": {
      "text/plain": [
       "(array([0, 1, 2]), array([335, 337, 328], dtype=int64))"
      ]
     },
     "execution_count": 40,
     "metadata": {},
     "output_type": "execute_result"
    }
   ],
   "source": [
    "np.unique(y_pred_svc_class_ovo,return_counts=True)"
   ]
  },
  {
   "cell_type": "markdown",
   "id": "32858407",
   "metadata": {},
   "source": [
    "Getting same output from each methods with SVM, it may be due to datasize is small, but it may vary with large dataset"
   ]
  },
  {
   "cell_type": "code",
   "execution_count": null,
   "id": "bce16d95",
   "metadata": {},
   "outputs": [],
   "source": []
  }
 ],
 "metadata": {
  "kernelspec": {
   "display_name": "Python 3 (ipykernel)",
   "language": "python",
   "name": "python3"
  },
  "language_info": {
   "codemirror_mode": {
    "name": "ipython",
    "version": 3
   },
   "file_extension": ".py",
   "mimetype": "text/x-python",
   "name": "python",
   "nbconvert_exporter": "python",
   "pygments_lexer": "ipython3",
   "version": "3.8.11"
  }
 },
 "nbformat": 4,
 "nbformat_minor": 5
}
