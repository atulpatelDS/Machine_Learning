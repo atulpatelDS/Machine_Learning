{
 "cells": [
  {
   "cell_type": "markdown",
   "id": "ccc5d789",
   "metadata": {},
   "source": [
    "## Classification Machine Learning Problem with Imbalanced dataset "
   ]
  },
  {
   "cell_type": "code",
   "execution_count": 2,
   "id": "c0585985",
   "metadata": {},
   "outputs": [],
   "source": [
    "# About the Dataset\n",
    "# https://archive.ics.uci.edu/ml/datasets/Adult"
   ]
  },
  {
   "cell_type": "code",
   "execution_count": 3,
   "id": "f3eab4a5",
   "metadata": {},
   "outputs": [],
   "source": [
    "import numpy as np\n",
    "import pandas as pd\n",
    "import seaborn as sns\n",
    "import matplotlib.pyplot as plt\n",
    "from sklearn import metrics\n",
    "from sklearn.preprocessing import StandardScaler,MinMaxScaler,LabelEncoder,OneHotEncoder\n",
    "from sklearn.model_selection import train_test_split\n",
    "from sklearn.neighbors import KNeighborsClassifier\n",
    "from sklearn.model_selection import cross_val_score,GridSearchCV,RepeatedStratifiedKFold\n",
    "from sklearn.compose import ColumnTransformer\n",
    "\n",
    "import collections"
   ]
  },
  {
   "cell_type": "code",
   "execution_count": 4,
   "id": "312d16ff",
   "metadata": {},
   "outputs": [],
   "source": [
    "# Import the Dataset\n",
    "df = pd.read_csv(\"https://raw.githubusercontent.com/atulpatelDS/Data_Files/master/Adult_Census_Income/adult.csv\")"
   ]
  },
  {
   "cell_type": "code",
   "execution_count": 5,
   "id": "230fbd2e",
   "metadata": {},
   "outputs": [
    {
     "data": {
      "text/html": [
       "<div>\n",
       "<style scoped>\n",
       "    .dataframe tbody tr th:only-of-type {\n",
       "        vertical-align: middle;\n",
       "    }\n",
       "\n",
       "    .dataframe tbody tr th {\n",
       "        vertical-align: top;\n",
       "    }\n",
       "\n",
       "    .dataframe thead th {\n",
       "        text-align: right;\n",
       "    }\n",
       "</style>\n",
       "<table border=\"1\" class=\"dataframe\">\n",
       "  <thead>\n",
       "    <tr style=\"text-align: right;\">\n",
       "      <th></th>\n",
       "      <th>age</th>\n",
       "      <th>workclass</th>\n",
       "      <th>fnlwgt</th>\n",
       "      <th>education</th>\n",
       "      <th>education.num</th>\n",
       "      <th>marital.status</th>\n",
       "      <th>occupation</th>\n",
       "      <th>relationship</th>\n",
       "      <th>race</th>\n",
       "      <th>sex</th>\n",
       "      <th>capital.gain</th>\n",
       "      <th>capital.loss</th>\n",
       "      <th>hours.per.week</th>\n",
       "      <th>native.country</th>\n",
       "      <th>income</th>\n",
       "    </tr>\n",
       "  </thead>\n",
       "  <tbody>\n",
       "    <tr>\n",
       "      <th>0</th>\n",
       "      <td>90</td>\n",
       "      <td>?</td>\n",
       "      <td>77053</td>\n",
       "      <td>HS-grad</td>\n",
       "      <td>9</td>\n",
       "      <td>Widowed</td>\n",
       "      <td>?</td>\n",
       "      <td>Not-in-family</td>\n",
       "      <td>White</td>\n",
       "      <td>Female</td>\n",
       "      <td>0</td>\n",
       "      <td>4356</td>\n",
       "      <td>40</td>\n",
       "      <td>United-States</td>\n",
       "      <td>&lt;=50K</td>\n",
       "    </tr>\n",
       "    <tr>\n",
       "      <th>1</th>\n",
       "      <td>82</td>\n",
       "      <td>Private</td>\n",
       "      <td>132870</td>\n",
       "      <td>HS-grad</td>\n",
       "      <td>9</td>\n",
       "      <td>Widowed</td>\n",
       "      <td>Exec-managerial</td>\n",
       "      <td>Not-in-family</td>\n",
       "      <td>White</td>\n",
       "      <td>Female</td>\n",
       "      <td>0</td>\n",
       "      <td>4356</td>\n",
       "      <td>18</td>\n",
       "      <td>United-States</td>\n",
       "      <td>&lt;=50K</td>\n",
       "    </tr>\n",
       "    <tr>\n",
       "      <th>2</th>\n",
       "      <td>66</td>\n",
       "      <td>?</td>\n",
       "      <td>186061</td>\n",
       "      <td>Some-college</td>\n",
       "      <td>10</td>\n",
       "      <td>Widowed</td>\n",
       "      <td>?</td>\n",
       "      <td>Unmarried</td>\n",
       "      <td>Black</td>\n",
       "      <td>Female</td>\n",
       "      <td>0</td>\n",
       "      <td>4356</td>\n",
       "      <td>40</td>\n",
       "      <td>United-States</td>\n",
       "      <td>&lt;=50K</td>\n",
       "    </tr>\n",
       "    <tr>\n",
       "      <th>3</th>\n",
       "      <td>54</td>\n",
       "      <td>Private</td>\n",
       "      <td>140359</td>\n",
       "      <td>7th-8th</td>\n",
       "      <td>4</td>\n",
       "      <td>Divorced</td>\n",
       "      <td>Machine-op-inspct</td>\n",
       "      <td>Unmarried</td>\n",
       "      <td>White</td>\n",
       "      <td>Female</td>\n",
       "      <td>0</td>\n",
       "      <td>3900</td>\n",
       "      <td>40</td>\n",
       "      <td>United-States</td>\n",
       "      <td>&lt;=50K</td>\n",
       "    </tr>\n",
       "    <tr>\n",
       "      <th>4</th>\n",
       "      <td>41</td>\n",
       "      <td>Private</td>\n",
       "      <td>264663</td>\n",
       "      <td>Some-college</td>\n",
       "      <td>10</td>\n",
       "      <td>Separated</td>\n",
       "      <td>Prof-specialty</td>\n",
       "      <td>Own-child</td>\n",
       "      <td>White</td>\n",
       "      <td>Female</td>\n",
       "      <td>0</td>\n",
       "      <td>3900</td>\n",
       "      <td>40</td>\n",
       "      <td>United-States</td>\n",
       "      <td>&lt;=50K</td>\n",
       "    </tr>\n",
       "  </tbody>\n",
       "</table>\n",
       "</div>"
      ],
      "text/plain": [
       "   age workclass  fnlwgt     education  education.num marital.status  \\\n",
       "0   90         ?   77053       HS-grad              9        Widowed   \n",
       "1   82   Private  132870       HS-grad              9        Widowed   \n",
       "2   66         ?  186061  Some-college             10        Widowed   \n",
       "3   54   Private  140359       7th-8th              4       Divorced   \n",
       "4   41   Private  264663  Some-college             10      Separated   \n",
       "\n",
       "          occupation   relationship   race     sex  capital.gain  \\\n",
       "0                  ?  Not-in-family  White  Female             0   \n",
       "1    Exec-managerial  Not-in-family  White  Female             0   \n",
       "2                  ?      Unmarried  Black  Female             0   \n",
       "3  Machine-op-inspct      Unmarried  White  Female             0   \n",
       "4     Prof-specialty      Own-child  White  Female             0   \n",
       "\n",
       "   capital.loss  hours.per.week native.country income  \n",
       "0          4356              40  United-States  <=50K  \n",
       "1          4356              18  United-States  <=50K  \n",
       "2          4356              40  United-States  <=50K  \n",
       "3          3900              40  United-States  <=50K  \n",
       "4          3900              40  United-States  <=50K  "
      ]
     },
     "execution_count": 5,
     "metadata": {},
     "output_type": "execute_result"
    }
   ],
   "source": [
    "df.head()"
   ]
  },
  {
   "cell_type": "code",
   "execution_count": 6,
   "id": "e5ed8689",
   "metadata": {},
   "outputs": [
    {
     "data": {
      "text/plain": [
       "(32561, 15)"
      ]
     },
     "execution_count": 6,
     "metadata": {},
     "output_type": "execute_result"
    }
   ],
   "source": [
    "df.shape"
   ]
  },
  {
   "cell_type": "code",
   "execution_count": 7,
   "id": "c220b3e1",
   "metadata": {},
   "outputs": [],
   "source": [
    "#As we can see in above data that there are many '?' , these are the null values so we have to replcae thesewith null\n",
    "# then we will drop these rows but before that we will check how many rows we have which have the null values\n",
    "df[df == '?'] = np.nan"
   ]
  },
  {
   "cell_type": "code",
   "execution_count": 8,
   "id": "0ba0b1e1",
   "metadata": {},
   "outputs": [
    {
     "data": {
      "text/plain": [
       "age                  0\n",
       "workclass         1836\n",
       "fnlwgt               0\n",
       "education            0\n",
       "education.num        0\n",
       "marital.status       0\n",
       "occupation        1843\n",
       "relationship         0\n",
       "race                 0\n",
       "sex                  0\n",
       "capital.gain         0\n",
       "capital.loss         0\n",
       "hours.per.week       0\n",
       "native.country     583\n",
       "income               0\n",
       "dtype: int64"
      ]
     },
     "execution_count": 8,
     "metadata": {},
     "output_type": "execute_result"
    }
   ],
   "source": [
    "# check the null value counts\n",
    "df.isnull().sum()"
   ]
  },
  {
   "cell_type": "code",
   "execution_count": 9,
   "id": "6f34404d",
   "metadata": {},
   "outputs": [
    {
     "name": "stdout",
     "output_type": "stream",
     "text": [
      "Unique Value count :\n",
      " Private             22696\n",
      "Self-emp-not-inc     2541\n",
      "Local-gov            2093\n",
      "State-gov            1298\n",
      "Self-emp-inc         1116\n",
      "Federal-gov           960\n",
      "Without-pay            14\n",
      "Never-worked            7\n",
      "Name: workclass, dtype: int64 \n",
      "\n",
      "\n",
      "Unique Value count :\n",
      " Prof-specialty       4140\n",
      "Craft-repair         4099\n",
      "Exec-managerial      4066\n",
      "Adm-clerical         3770\n",
      "Sales                3650\n",
      "Other-service        3295\n",
      "Machine-op-inspct    2002\n",
      "Transport-moving     1597\n",
      "Handlers-cleaners    1370\n",
      "Farming-fishing       994\n",
      "Tech-support          928\n",
      "Protective-serv       649\n",
      "Priv-house-serv       149\n",
      "Armed-Forces            9\n",
      "Name: occupation, dtype: int64 \n",
      "\n",
      "\n",
      "Unique Value count :\n",
      " United-States                 29170\n",
      "Mexico                          643\n",
      "Philippines                     198\n",
      "Germany                         137\n",
      "Canada                          121\n",
      "Puerto-Rico                     114\n",
      "El-Salvador                     106\n",
      "India                           100\n",
      "Cuba                             95\n",
      "England                          90\n",
      "Jamaica                          81\n",
      "South                            80\n",
      "China                            75\n",
      "Italy                            73\n",
      "Dominican-Republic               70\n",
      "Vietnam                          67\n",
      "Guatemala                        64\n",
      "Japan                            62\n",
      "Poland                           60\n",
      "Columbia                         59\n",
      "Taiwan                           51\n",
      "Haiti                            44\n",
      "Iran                             43\n",
      "Portugal                         37\n",
      "Nicaragua                        34\n",
      "Peru                             31\n",
      "Greece                           29\n",
      "France                           29\n",
      "Ecuador                          28\n",
      "Ireland                          24\n",
      "Hong                             20\n",
      "Trinadad&Tobago                  19\n",
      "Cambodia                         19\n",
      "Thailand                         18\n",
      "Laos                             18\n",
      "Yugoslavia                       16\n",
      "Outlying-US(Guam-USVI-etc)       14\n",
      "Hungary                          13\n",
      "Honduras                         13\n",
      "Scotland                         12\n",
      "Holand-Netherlands                1\n",
      "Name: native.country, dtype: int64 \n",
      "\n",
      "\n"
     ]
    }
   ],
   "source": [
    "# Lets check the unique value counts in these null columns\n",
    "for i in ['workclass','occupation','native.country']:\n",
    "    print(\"Unique Value count :\\n\",df[i].value_counts(),\"\\n\\n\")"
   ]
  },
  {
   "cell_type": "markdown",
   "id": "92a5b29d",
   "metadata": {},
   "source": [
    "As we can see there are many unique values in these columns so we can not directly replace the null value with most frequent value as these are the categorical coulmns. I had created one video how to replace missing value for categorical columns, you can check and try to replace these null values.\n",
    "Here I am just deleting these null values as we have large dataset."
   ]
  },
  {
   "cell_type": "code",
   "execution_count": 10,
   "id": "3a4e6620",
   "metadata": {},
   "outputs": [],
   "source": [
    "# lets remove these null values\n",
    "df1 = df.dropna(axis=0)"
   ]
  },
  {
   "cell_type": "code",
   "execution_count": 11,
   "id": "3fa61a39",
   "metadata": {},
   "outputs": [
    {
     "data": {
      "text/plain": [
       "HS-grad         9840\n",
       "Some-college    6678\n",
       "Bachelors       5044\n",
       "Masters         1627\n",
       "Assoc-voc       1307\n",
       "11th            1048\n",
       "Assoc-acdm      1008\n",
       "10th             820\n",
       "7th-8th          557\n",
       "Prof-school      542\n",
       "9th              455\n",
       "12th             377\n",
       "Doctorate        375\n",
       "5th-6th          288\n",
       "1st-4th          151\n",
       "Preschool         45\n",
       "Name: education, dtype: int64"
      ]
     },
     "execution_count": 11,
     "metadata": {},
     "output_type": "execute_result"
    }
   ],
   "source": [
    "# Lets check the columns \"education\" and \"education.num\"\n",
    "df1.education.value_counts()"
   ]
  },
  {
   "cell_type": "code",
   "execution_count": 12,
   "id": "85e70775",
   "metadata": {},
   "outputs": [
    {
     "data": {
      "text/plain": [
       "9     9840\n",
       "10    6678\n",
       "13    5044\n",
       "14    1627\n",
       "11    1307\n",
       "7     1048\n",
       "12    1008\n",
       "6      820\n",
       "4      557\n",
       "15     542\n",
       "5      455\n",
       "8      377\n",
       "16     375\n",
       "3      288\n",
       "2      151\n",
       "1       45\n",
       "Name: education.num, dtype: int64"
      ]
     },
     "execution_count": 12,
     "metadata": {},
     "output_type": "execute_result"
    }
   ],
   "source": [
    "df1[\"education.num\"].value_counts()"
   ]
  },
  {
   "cell_type": "markdown",
   "id": "cb4bd7f2",
   "metadata": {},
   "source": [
    "We can see columns \"education\" and \"education.num\" are redundant. As column \"education\" is the ordinal categorical and which is an ordinal representation of ‘education’, lets remove this"
   ]
  },
  {
   "cell_type": "code",
   "execution_count": 13,
   "id": "69744f14",
   "metadata": {},
   "outputs": [],
   "source": [
    "# Lets remove the \"education\" column\n",
    "df1 = df1.drop(columns=\"education\",axis=1)"
   ]
  },
  {
   "cell_type": "code",
   "execution_count": 14,
   "id": "cc6329f0",
   "metadata": {},
   "outputs": [
    {
     "data": {
      "text/plain": [
       "<=50K    22654\n",
       ">50K      7508\n",
       "Name: income, dtype: int64"
      ]
     },
     "execution_count": 14,
     "metadata": {},
     "output_type": "execute_result"
    }
   ],
   "source": [
    "# Lets check the Target column \"income\" distribution\n",
    "df1.income.value_counts()"
   ]
  },
  {
   "cell_type": "code",
   "execution_count": 15,
   "id": "68be8f71",
   "metadata": {},
   "outputs": [
    {
     "name": "stdout",
     "output_type": "stream",
     "text": [
      "Class '<=50K' percentage is:  0.7510775147536636\n",
      "Class '<50K' percentage is:  0.24892248524633645\n"
     ]
    }
   ],
   "source": [
    "# Lets calculate the % distribution of class\n",
    "print(\"Class '<=50K' percentage is: \",df1.income.value_counts()[0]/df1.shape[0])\n",
    "print(\"Class '<50K' percentage is: \",df1.income.value_counts()[1]/df1.shape[0])"
   ]
  },
  {
   "cell_type": "markdown",
   "id": "8ef31097",
   "metadata": {},
   "source": [
    "we can see classes in target variable are not balanced, it measn it is imbalanced dataset."
   ]
  },
  {
   "cell_type": "code",
   "execution_count": 16,
   "id": "d4c7d16e",
   "metadata": {},
   "outputs": [
    {
     "data": {
      "text/html": [
       "<div>\n",
       "<style scoped>\n",
       "    .dataframe tbody tr th:only-of-type {\n",
       "        vertical-align: middle;\n",
       "    }\n",
       "\n",
       "    .dataframe tbody tr th {\n",
       "        vertical-align: top;\n",
       "    }\n",
       "\n",
       "    .dataframe thead th {\n",
       "        text-align: right;\n",
       "    }\n",
       "</style>\n",
       "<table border=\"1\" class=\"dataframe\">\n",
       "  <thead>\n",
       "    <tr style=\"text-align: right;\">\n",
       "      <th></th>\n",
       "      <th>age</th>\n",
       "      <th>workclass</th>\n",
       "      <th>fnlwgt</th>\n",
       "      <th>education.num</th>\n",
       "      <th>marital.status</th>\n",
       "      <th>occupation</th>\n",
       "      <th>relationship</th>\n",
       "      <th>race</th>\n",
       "      <th>sex</th>\n",
       "      <th>capital.gain</th>\n",
       "      <th>capital.loss</th>\n",
       "      <th>hours.per.week</th>\n",
       "      <th>native.country</th>\n",
       "      <th>income</th>\n",
       "    </tr>\n",
       "  </thead>\n",
       "  <tbody>\n",
       "    <tr>\n",
       "      <th>1</th>\n",
       "      <td>82</td>\n",
       "      <td>Private</td>\n",
       "      <td>132870</td>\n",
       "      <td>9</td>\n",
       "      <td>Widowed</td>\n",
       "      <td>Exec-managerial</td>\n",
       "      <td>Not-in-family</td>\n",
       "      <td>White</td>\n",
       "      <td>Female</td>\n",
       "      <td>0</td>\n",
       "      <td>4356</td>\n",
       "      <td>18</td>\n",
       "      <td>United-States</td>\n",
       "      <td>&lt;=50K</td>\n",
       "    </tr>\n",
       "    <tr>\n",
       "      <th>3</th>\n",
       "      <td>54</td>\n",
       "      <td>Private</td>\n",
       "      <td>140359</td>\n",
       "      <td>4</td>\n",
       "      <td>Divorced</td>\n",
       "      <td>Machine-op-inspct</td>\n",
       "      <td>Unmarried</td>\n",
       "      <td>White</td>\n",
       "      <td>Female</td>\n",
       "      <td>0</td>\n",
       "      <td>3900</td>\n",
       "      <td>40</td>\n",
       "      <td>United-States</td>\n",
       "      <td>&lt;=50K</td>\n",
       "    </tr>\n",
       "    <tr>\n",
       "      <th>4</th>\n",
       "      <td>41</td>\n",
       "      <td>Private</td>\n",
       "      <td>264663</td>\n",
       "      <td>10</td>\n",
       "      <td>Separated</td>\n",
       "      <td>Prof-specialty</td>\n",
       "      <td>Own-child</td>\n",
       "      <td>White</td>\n",
       "      <td>Female</td>\n",
       "      <td>0</td>\n",
       "      <td>3900</td>\n",
       "      <td>40</td>\n",
       "      <td>United-States</td>\n",
       "      <td>&lt;=50K</td>\n",
       "    </tr>\n",
       "    <tr>\n",
       "      <th>5</th>\n",
       "      <td>34</td>\n",
       "      <td>Private</td>\n",
       "      <td>216864</td>\n",
       "      <td>9</td>\n",
       "      <td>Divorced</td>\n",
       "      <td>Other-service</td>\n",
       "      <td>Unmarried</td>\n",
       "      <td>White</td>\n",
       "      <td>Female</td>\n",
       "      <td>0</td>\n",
       "      <td>3770</td>\n",
       "      <td>45</td>\n",
       "      <td>United-States</td>\n",
       "      <td>&lt;=50K</td>\n",
       "    </tr>\n",
       "    <tr>\n",
       "      <th>6</th>\n",
       "      <td>38</td>\n",
       "      <td>Private</td>\n",
       "      <td>150601</td>\n",
       "      <td>6</td>\n",
       "      <td>Separated</td>\n",
       "      <td>Adm-clerical</td>\n",
       "      <td>Unmarried</td>\n",
       "      <td>White</td>\n",
       "      <td>Male</td>\n",
       "      <td>0</td>\n",
       "      <td>3770</td>\n",
       "      <td>40</td>\n",
       "      <td>United-States</td>\n",
       "      <td>&lt;=50K</td>\n",
       "    </tr>\n",
       "  </tbody>\n",
       "</table>\n",
       "</div>"
      ],
      "text/plain": [
       "   age workclass  fnlwgt  education.num marital.status         occupation  \\\n",
       "1   82   Private  132870              9        Widowed    Exec-managerial   \n",
       "3   54   Private  140359              4       Divorced  Machine-op-inspct   \n",
       "4   41   Private  264663             10      Separated     Prof-specialty   \n",
       "5   34   Private  216864              9       Divorced      Other-service   \n",
       "6   38   Private  150601              6      Separated       Adm-clerical   \n",
       "\n",
       "    relationship   race     sex  capital.gain  capital.loss  hours.per.week  \\\n",
       "1  Not-in-family  White  Female             0          4356              18   \n",
       "3      Unmarried  White  Female             0          3900              40   \n",
       "4      Own-child  White  Female             0          3900              40   \n",
       "5      Unmarried  White  Female             0          3770              45   \n",
       "6      Unmarried  White    Male             0          3770              40   \n",
       "\n",
       "  native.country income  \n",
       "1  United-States  <=50K  \n",
       "3  United-States  <=50K  \n",
       "4  United-States  <=50K  \n",
       "5  United-States  <=50K  \n",
       "6  United-States  <=50K  "
      ]
     },
     "execution_count": 16,
     "metadata": {},
     "output_type": "execute_result"
    }
   ],
   "source": [
    "df1.head()"
   ]
  },
  {
   "cell_type": "markdown",
   "id": "d7f66306",
   "metadata": {},
   "source": [
    "As we can see that dataset has the both numerical and categorical values. The categorical values were both nominal and ordinal."
   ]
  },
  {
   "cell_type": "code",
   "execution_count": 17,
   "id": "20e6efe4",
   "metadata": {},
   "outputs": [
    {
     "name": "stdout",
     "output_type": "stream",
     "text": [
      "<class 'pandas.core.frame.DataFrame'>\n",
      "Int64Index: 30162 entries, 1 to 32560\n",
      "Data columns (total 14 columns):\n",
      " #   Column          Non-Null Count  Dtype \n",
      "---  ------          --------------  ----- \n",
      " 0   age             30162 non-null  int64 \n",
      " 1   workclass       30162 non-null  object\n",
      " 2   fnlwgt          30162 non-null  int64 \n",
      " 3   education.num   30162 non-null  int64 \n",
      " 4   marital.status  30162 non-null  object\n",
      " 5   occupation      30162 non-null  object\n",
      " 6   relationship    30162 non-null  object\n",
      " 7   race            30162 non-null  object\n",
      " 8   sex             30162 non-null  object\n",
      " 9   capital.gain    30162 non-null  int64 \n",
      " 10  capital.loss    30162 non-null  int64 \n",
      " 11  hours.per.week  30162 non-null  int64 \n",
      " 12  native.country  30162 non-null  object\n",
      " 13  income          30162 non-null  object\n",
      "dtypes: int64(6), object(8)\n",
      "memory usage: 3.5+ MB\n"
     ]
    }
   ],
   "source": [
    "df1.info()"
   ]
  },
  {
   "cell_type": "code",
   "execution_count": 18,
   "id": "ce09a2bb",
   "metadata": {},
   "outputs": [
    {
     "data": {
      "text/html": [
       "<div>\n",
       "<style scoped>\n",
       "    .dataframe tbody tr th:only-of-type {\n",
       "        vertical-align: middle;\n",
       "    }\n",
       "\n",
       "    .dataframe tbody tr th {\n",
       "        vertical-align: top;\n",
       "    }\n",
       "\n",
       "    .dataframe thead th {\n",
       "        text-align: right;\n",
       "    }\n",
       "</style>\n",
       "<table border=\"1\" class=\"dataframe\">\n",
       "  <thead>\n",
       "    <tr style=\"text-align: right;\">\n",
       "      <th></th>\n",
       "      <th>age</th>\n",
       "      <th>workclass</th>\n",
       "      <th>fnlwgt</th>\n",
       "      <th>education.num</th>\n",
       "      <th>marital.status</th>\n",
       "      <th>occupation</th>\n",
       "      <th>relationship</th>\n",
       "      <th>race</th>\n",
       "      <th>sex</th>\n",
       "      <th>capital.gain</th>\n",
       "      <th>capital.loss</th>\n",
       "      <th>hours.per.week</th>\n",
       "      <th>native.country</th>\n",
       "      <th>income</th>\n",
       "    </tr>\n",
       "  </thead>\n",
       "  <tbody>\n",
       "    <tr>\n",
       "      <th>1</th>\n",
       "      <td>82</td>\n",
       "      <td>Private</td>\n",
       "      <td>132870</td>\n",
       "      <td>9</td>\n",
       "      <td>Widowed</td>\n",
       "      <td>Exec-managerial</td>\n",
       "      <td>Not-in-family</td>\n",
       "      <td>White</td>\n",
       "      <td>Female</td>\n",
       "      <td>0</td>\n",
       "      <td>4356</td>\n",
       "      <td>18</td>\n",
       "      <td>United-States</td>\n",
       "      <td>&lt;=50K</td>\n",
       "    </tr>\n",
       "    <tr>\n",
       "      <th>3</th>\n",
       "      <td>54</td>\n",
       "      <td>Private</td>\n",
       "      <td>140359</td>\n",
       "      <td>4</td>\n",
       "      <td>Divorced</td>\n",
       "      <td>Machine-op-inspct</td>\n",
       "      <td>Unmarried</td>\n",
       "      <td>White</td>\n",
       "      <td>Female</td>\n",
       "      <td>0</td>\n",
       "      <td>3900</td>\n",
       "      <td>40</td>\n",
       "      <td>United-States</td>\n",
       "      <td>&lt;=50K</td>\n",
       "    </tr>\n",
       "    <tr>\n",
       "      <th>4</th>\n",
       "      <td>41</td>\n",
       "      <td>Private</td>\n",
       "      <td>264663</td>\n",
       "      <td>10</td>\n",
       "      <td>Separated</td>\n",
       "      <td>Prof-specialty</td>\n",
       "      <td>Own-child</td>\n",
       "      <td>White</td>\n",
       "      <td>Female</td>\n",
       "      <td>0</td>\n",
       "      <td>3900</td>\n",
       "      <td>40</td>\n",
       "      <td>United-States</td>\n",
       "      <td>&lt;=50K</td>\n",
       "    </tr>\n",
       "    <tr>\n",
       "      <th>5</th>\n",
       "      <td>34</td>\n",
       "      <td>Private</td>\n",
       "      <td>216864</td>\n",
       "      <td>9</td>\n",
       "      <td>Divorced</td>\n",
       "      <td>Other-service</td>\n",
       "      <td>Unmarried</td>\n",
       "      <td>White</td>\n",
       "      <td>Female</td>\n",
       "      <td>0</td>\n",
       "      <td>3770</td>\n",
       "      <td>45</td>\n",
       "      <td>United-States</td>\n",
       "      <td>&lt;=50K</td>\n",
       "    </tr>\n",
       "    <tr>\n",
       "      <th>6</th>\n",
       "      <td>38</td>\n",
       "      <td>Private</td>\n",
       "      <td>150601</td>\n",
       "      <td>6</td>\n",
       "      <td>Separated</td>\n",
       "      <td>Adm-clerical</td>\n",
       "      <td>Unmarried</td>\n",
       "      <td>White</td>\n",
       "      <td>Male</td>\n",
       "      <td>0</td>\n",
       "      <td>3770</td>\n",
       "      <td>40</td>\n",
       "      <td>United-States</td>\n",
       "      <td>&lt;=50K</td>\n",
       "    </tr>\n",
       "    <tr>\n",
       "      <th>...</th>\n",
       "      <td>...</td>\n",
       "      <td>...</td>\n",
       "      <td>...</td>\n",
       "      <td>...</td>\n",
       "      <td>...</td>\n",
       "      <td>...</td>\n",
       "      <td>...</td>\n",
       "      <td>...</td>\n",
       "      <td>...</td>\n",
       "      <td>...</td>\n",
       "      <td>...</td>\n",
       "      <td>...</td>\n",
       "      <td>...</td>\n",
       "      <td>...</td>\n",
       "    </tr>\n",
       "    <tr>\n",
       "      <th>32556</th>\n",
       "      <td>22</td>\n",
       "      <td>Private</td>\n",
       "      <td>310152</td>\n",
       "      <td>10</td>\n",
       "      <td>Never-married</td>\n",
       "      <td>Protective-serv</td>\n",
       "      <td>Not-in-family</td>\n",
       "      <td>White</td>\n",
       "      <td>Male</td>\n",
       "      <td>0</td>\n",
       "      <td>0</td>\n",
       "      <td>40</td>\n",
       "      <td>United-States</td>\n",
       "      <td>&lt;=50K</td>\n",
       "    </tr>\n",
       "    <tr>\n",
       "      <th>32557</th>\n",
       "      <td>27</td>\n",
       "      <td>Private</td>\n",
       "      <td>257302</td>\n",
       "      <td>12</td>\n",
       "      <td>Married-civ-spouse</td>\n",
       "      <td>Tech-support</td>\n",
       "      <td>Wife</td>\n",
       "      <td>White</td>\n",
       "      <td>Female</td>\n",
       "      <td>0</td>\n",
       "      <td>0</td>\n",
       "      <td>38</td>\n",
       "      <td>United-States</td>\n",
       "      <td>&lt;=50K</td>\n",
       "    </tr>\n",
       "    <tr>\n",
       "      <th>32558</th>\n",
       "      <td>40</td>\n",
       "      <td>Private</td>\n",
       "      <td>154374</td>\n",
       "      <td>9</td>\n",
       "      <td>Married-civ-spouse</td>\n",
       "      <td>Machine-op-inspct</td>\n",
       "      <td>Husband</td>\n",
       "      <td>White</td>\n",
       "      <td>Male</td>\n",
       "      <td>0</td>\n",
       "      <td>0</td>\n",
       "      <td>40</td>\n",
       "      <td>United-States</td>\n",
       "      <td>&gt;50K</td>\n",
       "    </tr>\n",
       "    <tr>\n",
       "      <th>32559</th>\n",
       "      <td>58</td>\n",
       "      <td>Private</td>\n",
       "      <td>151910</td>\n",
       "      <td>9</td>\n",
       "      <td>Widowed</td>\n",
       "      <td>Adm-clerical</td>\n",
       "      <td>Unmarried</td>\n",
       "      <td>White</td>\n",
       "      <td>Female</td>\n",
       "      <td>0</td>\n",
       "      <td>0</td>\n",
       "      <td>40</td>\n",
       "      <td>United-States</td>\n",
       "      <td>&lt;=50K</td>\n",
       "    </tr>\n",
       "    <tr>\n",
       "      <th>32560</th>\n",
       "      <td>22</td>\n",
       "      <td>Private</td>\n",
       "      <td>201490</td>\n",
       "      <td>9</td>\n",
       "      <td>Never-married</td>\n",
       "      <td>Adm-clerical</td>\n",
       "      <td>Own-child</td>\n",
       "      <td>White</td>\n",
       "      <td>Male</td>\n",
       "      <td>0</td>\n",
       "      <td>0</td>\n",
       "      <td>20</td>\n",
       "      <td>United-States</td>\n",
       "      <td>&lt;=50K</td>\n",
       "    </tr>\n",
       "  </tbody>\n",
       "</table>\n",
       "<p>30162 rows × 14 columns</p>\n",
       "</div>"
      ],
      "text/plain": [
       "       age workclass  fnlwgt  education.num      marital.status  \\\n",
       "1       82   Private  132870              9             Widowed   \n",
       "3       54   Private  140359              4            Divorced   \n",
       "4       41   Private  264663             10           Separated   \n",
       "5       34   Private  216864              9            Divorced   \n",
       "6       38   Private  150601              6           Separated   \n",
       "...    ...       ...     ...            ...                 ...   \n",
       "32556   22   Private  310152             10       Never-married   \n",
       "32557   27   Private  257302             12  Married-civ-spouse   \n",
       "32558   40   Private  154374              9  Married-civ-spouse   \n",
       "32559   58   Private  151910              9             Widowed   \n",
       "32560   22   Private  201490              9       Never-married   \n",
       "\n",
       "              occupation   relationship   race     sex  capital.gain  \\\n",
       "1        Exec-managerial  Not-in-family  White  Female             0   \n",
       "3      Machine-op-inspct      Unmarried  White  Female             0   \n",
       "4         Prof-specialty      Own-child  White  Female             0   \n",
       "5          Other-service      Unmarried  White  Female             0   \n",
       "6           Adm-clerical      Unmarried  White    Male             0   \n",
       "...                  ...            ...    ...     ...           ...   \n",
       "32556    Protective-serv  Not-in-family  White    Male             0   \n",
       "32557       Tech-support           Wife  White  Female             0   \n",
       "32558  Machine-op-inspct        Husband  White    Male             0   \n",
       "32559       Adm-clerical      Unmarried  White  Female             0   \n",
       "32560       Adm-clerical      Own-child  White    Male             0   \n",
       "\n",
       "       capital.loss  hours.per.week native.country income  \n",
       "1              4356              18  United-States  <=50K  \n",
       "3              3900              40  United-States  <=50K  \n",
       "4              3900              40  United-States  <=50K  \n",
       "5              3770              45  United-States  <=50K  \n",
       "6              3770              40  United-States  <=50K  \n",
       "...             ...             ...            ...    ...  \n",
       "32556             0              40  United-States  <=50K  \n",
       "32557             0              38  United-States  <=50K  \n",
       "32558             0              40  United-States   >50K  \n",
       "32559             0              40  United-States  <=50K  \n",
       "32560             0              20  United-States  <=50K  \n",
       "\n",
       "[30162 rows x 14 columns]"
      ]
     },
     "execution_count": 18,
     "metadata": {},
     "output_type": "execute_result"
    }
   ],
   "source": [
    "df1"
   ]
  },
  {
   "cell_type": "code",
   "execution_count": 19,
   "id": "8b689b48",
   "metadata": {},
   "outputs": [],
   "source": [
    "# Select the Categorical and Numerical columns in Features\n",
    "cat_cols = df1.drop(\"income\",axis=1).select_dtypes(include=\"object\").columns.tolist()"
   ]
  },
  {
   "cell_type": "code",
   "execution_count": 20,
   "id": "3954b6c6",
   "metadata": {
    "scrolled": true
   },
   "outputs": [],
   "source": [
    "num_cols = df1.drop(\"income\",axis=1).select_dtypes(exclude=\"object\").columns.tolist()"
   ]
  },
  {
   "cell_type": "code",
   "execution_count": 21,
   "id": "2ecd1647",
   "metadata": {},
   "outputs": [
    {
     "name": "stdout",
     "output_type": "stream",
     "text": [
      "Categorical Columns ['workclass', 'marital.status', 'occupation', 'relationship', 'race', 'sex', 'native.country']\n",
      "Numerical Columns ['age', 'fnlwgt', 'education.num', 'capital.gain', 'capital.loss', 'hours.per.week']\n"
     ]
    }
   ],
   "source": [
    "print(\"Categorical Columns\",cat_cols)\n",
    "print(\"Numerical Columns\",num_cols)"
   ]
  },
  {
   "cell_type": "code",
   "execution_count": 22,
   "id": "d7fc9df0",
   "metadata": {},
   "outputs": [
    {
     "data": {
      "text/plain": [
       "(30162, 14)"
      ]
     },
     "execution_count": 22,
     "metadata": {},
     "output_type": "execute_result"
    }
   ],
   "source": [
    "df1.shape"
   ]
  },
  {
   "cell_type": "code",
   "execution_count": 23,
   "id": "e13dbe66",
   "metadata": {},
   "outputs": [
    {
     "data": {
      "text/html": [
       "<div>\n",
       "<style scoped>\n",
       "    .dataframe tbody tr th:only-of-type {\n",
       "        vertical-align: middle;\n",
       "    }\n",
       "\n",
       "    .dataframe tbody tr th {\n",
       "        vertical-align: top;\n",
       "    }\n",
       "\n",
       "    .dataframe thead th {\n",
       "        text-align: right;\n",
       "    }\n",
       "</style>\n",
       "<table border=\"1\" class=\"dataframe\">\n",
       "  <thead>\n",
       "    <tr style=\"text-align: right;\">\n",
       "      <th></th>\n",
       "      <th>age</th>\n",
       "      <th>workclass</th>\n",
       "      <th>fnlwgt</th>\n",
       "      <th>education.num</th>\n",
       "      <th>marital.status</th>\n",
       "      <th>occupation</th>\n",
       "      <th>relationship</th>\n",
       "      <th>race</th>\n",
       "      <th>sex</th>\n",
       "      <th>capital.gain</th>\n",
       "      <th>capital.loss</th>\n",
       "      <th>hours.per.week</th>\n",
       "      <th>native.country</th>\n",
       "      <th>income</th>\n",
       "    </tr>\n",
       "  </thead>\n",
       "  <tbody>\n",
       "    <tr>\n",
       "      <th>1</th>\n",
       "      <td>82</td>\n",
       "      <td>Private</td>\n",
       "      <td>132870</td>\n",
       "      <td>9</td>\n",
       "      <td>Widowed</td>\n",
       "      <td>Exec-managerial</td>\n",
       "      <td>Not-in-family</td>\n",
       "      <td>White</td>\n",
       "      <td>Female</td>\n",
       "      <td>0</td>\n",
       "      <td>4356</td>\n",
       "      <td>18</td>\n",
       "      <td>United-States</td>\n",
       "      <td>&lt;=50K</td>\n",
       "    </tr>\n",
       "    <tr>\n",
       "      <th>3</th>\n",
       "      <td>54</td>\n",
       "      <td>Private</td>\n",
       "      <td>140359</td>\n",
       "      <td>4</td>\n",
       "      <td>Divorced</td>\n",
       "      <td>Machine-op-inspct</td>\n",
       "      <td>Unmarried</td>\n",
       "      <td>White</td>\n",
       "      <td>Female</td>\n",
       "      <td>0</td>\n",
       "      <td>3900</td>\n",
       "      <td>40</td>\n",
       "      <td>United-States</td>\n",
       "      <td>&lt;=50K</td>\n",
       "    </tr>\n",
       "  </tbody>\n",
       "</table>\n",
       "</div>"
      ],
      "text/plain": [
       "   age workclass  fnlwgt  education.num marital.status         occupation  \\\n",
       "1   82   Private  132870              9        Widowed    Exec-managerial   \n",
       "3   54   Private  140359              4       Divorced  Machine-op-inspct   \n",
       "\n",
       "    relationship   race     sex  capital.gain  capital.loss  hours.per.week  \\\n",
       "1  Not-in-family  White  Female             0          4356              18   \n",
       "3      Unmarried  White  Female             0          3900              40   \n",
       "\n",
       "  native.country income  \n",
       "1  United-States  <=50K  \n",
       "3  United-States  <=50K  "
      ]
     },
     "execution_count": 23,
     "metadata": {},
     "output_type": "execute_result"
    }
   ],
   "source": [
    "df1.head(2)"
   ]
  },
  {
   "cell_type": "code",
   "execution_count": 24,
   "id": "d82b7c50",
   "metadata": {},
   "outputs": [],
   "source": [
    "# As we have categorical columns so we have to encode these columns \n",
    "# We also have numerical columns so we have to scale them\n",
    "# We will first \"one hot encode categorical\" and second \"normalize numerical\""
   ]
  },
  {
   "cell_type": "code",
   "execution_count": 25,
   "id": "9e739c33",
   "metadata": {},
   "outputs": [],
   "source": [
    "df_cat = df1[cat_cols]"
   ]
  },
  {
   "cell_type": "code",
   "execution_count": 26,
   "id": "1cc2f77f",
   "metadata": {},
   "outputs": [
    {
     "data": {
      "text/plain": [
       "OneHotEncoder()"
      ]
     },
     "execution_count": 26,
     "metadata": {},
     "output_type": "execute_result"
    }
   ],
   "source": [
    "onehot = OneHotEncoder()\n",
    "onehot.fit(df_cat)"
   ]
  },
  {
   "cell_type": "code",
   "execution_count": 27,
   "id": "5c205ebf",
   "metadata": {},
   "outputs": [],
   "source": [
    "onehot_np = onehot.transform(df_cat).toarray()"
   ]
  },
  {
   "cell_type": "code",
   "execution_count": 28,
   "id": "da66035a",
   "metadata": {},
   "outputs": [
    {
     "data": {
      "text/plain": [
       "(30162, 82)"
      ]
     },
     "execution_count": 28,
     "metadata": {},
     "output_type": "execute_result"
    }
   ],
   "source": [
    "onehot_np.shape"
   ]
  },
  {
   "cell_type": "code",
   "execution_count": 29,
   "id": "05754a0e",
   "metadata": {},
   "outputs": [
    {
     "data": {
      "text/plain": [
       "numpy.ndarray"
      ]
     },
     "execution_count": 29,
     "metadata": {},
     "output_type": "execute_result"
    }
   ],
   "source": [
    "type(onehot_np)"
   ]
  },
  {
   "cell_type": "code",
   "execution_count": 30,
   "id": "67bec571",
   "metadata": {},
   "outputs": [
    {
     "data": {
      "text/plain": [
       "array([[0., 0., 1., ..., 1., 0., 0.],\n",
       "       [0., 0., 1., ..., 1., 0., 0.],\n",
       "       [0., 0., 1., ..., 1., 0., 0.],\n",
       "       ...,\n",
       "       [0., 0., 1., ..., 1., 0., 0.],\n",
       "       [0., 0., 1., ..., 1., 0., 0.],\n",
       "       [0., 0., 1., ..., 1., 0., 0.]])"
      ]
     },
     "execution_count": 30,
     "metadata": {},
     "output_type": "execute_result"
    }
   ],
   "source": [
    "onehot_np"
   ]
  },
  {
   "cell_type": "code",
   "execution_count": 31,
   "id": "5873f7af",
   "metadata": {},
   "outputs": [],
   "source": [
    "onehot_cols = onehot.get_feature_names()"
   ]
  },
  {
   "cell_type": "code",
   "execution_count": 32,
   "id": "608dc314",
   "metadata": {},
   "outputs": [
    {
     "data": {
      "text/plain": [
       "array(['x0_Federal-gov', 'x0_Local-gov', 'x0_Private', 'x0_Self-emp-inc',\n",
       "       'x0_Self-emp-not-inc', 'x0_State-gov', 'x0_Without-pay',\n",
       "       'x1_Divorced', 'x1_Married-AF-spouse', 'x1_Married-civ-spouse',\n",
       "       'x1_Married-spouse-absent', 'x1_Never-married', 'x1_Separated',\n",
       "       'x1_Widowed', 'x2_Adm-clerical', 'x2_Armed-Forces',\n",
       "       'x2_Craft-repair', 'x2_Exec-managerial', 'x2_Farming-fishing',\n",
       "       'x2_Handlers-cleaners', 'x2_Machine-op-inspct', 'x2_Other-service',\n",
       "       'x2_Priv-house-serv', 'x2_Prof-specialty', 'x2_Protective-serv',\n",
       "       'x2_Sales', 'x2_Tech-support', 'x2_Transport-moving', 'x3_Husband',\n",
       "       'x3_Not-in-family', 'x3_Other-relative', 'x3_Own-child',\n",
       "       'x3_Unmarried', 'x3_Wife', 'x4_Amer-Indian-Eskimo',\n",
       "       'x4_Asian-Pac-Islander', 'x4_Black', 'x4_Other', 'x4_White',\n",
       "       'x5_Female', 'x5_Male', 'x6_Cambodia', 'x6_Canada', 'x6_China',\n",
       "       'x6_Columbia', 'x6_Cuba', 'x6_Dominican-Republic', 'x6_Ecuador',\n",
       "       'x6_El-Salvador', 'x6_England', 'x6_France', 'x6_Germany',\n",
       "       'x6_Greece', 'x6_Guatemala', 'x6_Haiti', 'x6_Holand-Netherlands',\n",
       "       'x6_Honduras', 'x6_Hong', 'x6_Hungary', 'x6_India', 'x6_Iran',\n",
       "       'x6_Ireland', 'x6_Italy', 'x6_Jamaica', 'x6_Japan', 'x6_Laos',\n",
       "       'x6_Mexico', 'x6_Nicaragua', 'x6_Outlying-US(Guam-USVI-etc)',\n",
       "       'x6_Peru', 'x6_Philippines', 'x6_Poland', 'x6_Portugal',\n",
       "       'x6_Puerto-Rico', 'x6_Scotland', 'x6_South', 'x6_Taiwan',\n",
       "       'x6_Thailand', 'x6_Trinadad&Tobago', 'x6_United-States',\n",
       "       'x6_Vietnam', 'x6_Yugoslavia'], dtype=object)"
      ]
     },
     "execution_count": 32,
     "metadata": {},
     "output_type": "execute_result"
    }
   ],
   "source": [
    "onehot_cols"
   ]
  },
  {
   "cell_type": "code",
   "execution_count": 33,
   "id": "6c1bda7a",
   "metadata": {},
   "outputs": [],
   "source": [
    "# Create the Dataframe of Onehot datadet\n",
    "df_onehot = pd.DataFrame(onehot_np,columns=onehot_cols)"
   ]
  },
  {
   "cell_type": "code",
   "execution_count": 34,
   "id": "56b0a694",
   "metadata": {},
   "outputs": [
    {
     "data": {
      "text/plain": [
       "(30162, 82)"
      ]
     },
     "execution_count": 34,
     "metadata": {},
     "output_type": "execute_result"
    }
   ],
   "source": [
    "df_onehot.shape"
   ]
  },
  {
   "cell_type": "code",
   "execution_count": 35,
   "id": "bb83fd25",
   "metadata": {},
   "outputs": [
    {
     "data": {
      "text/html": [
       "<div>\n",
       "<style scoped>\n",
       "    .dataframe tbody tr th:only-of-type {\n",
       "        vertical-align: middle;\n",
       "    }\n",
       "\n",
       "    .dataframe tbody tr th {\n",
       "        vertical-align: top;\n",
       "    }\n",
       "\n",
       "    .dataframe thead th {\n",
       "        text-align: right;\n",
       "    }\n",
       "</style>\n",
       "<table border=\"1\" class=\"dataframe\">\n",
       "  <thead>\n",
       "    <tr style=\"text-align: right;\">\n",
       "      <th></th>\n",
       "      <th>x0_Federal-gov</th>\n",
       "      <th>x0_Local-gov</th>\n",
       "      <th>x0_Private</th>\n",
       "      <th>x0_Self-emp-inc</th>\n",
       "      <th>x0_Self-emp-not-inc</th>\n",
       "      <th>x0_State-gov</th>\n",
       "      <th>x0_Without-pay</th>\n",
       "      <th>x1_Divorced</th>\n",
       "      <th>x1_Married-AF-spouse</th>\n",
       "      <th>x1_Married-civ-spouse</th>\n",
       "      <th>...</th>\n",
       "      <th>x6_Portugal</th>\n",
       "      <th>x6_Puerto-Rico</th>\n",
       "      <th>x6_Scotland</th>\n",
       "      <th>x6_South</th>\n",
       "      <th>x6_Taiwan</th>\n",
       "      <th>x6_Thailand</th>\n",
       "      <th>x6_Trinadad&amp;Tobago</th>\n",
       "      <th>x6_United-States</th>\n",
       "      <th>x6_Vietnam</th>\n",
       "      <th>x6_Yugoslavia</th>\n",
       "    </tr>\n",
       "  </thead>\n",
       "  <tbody>\n",
       "    <tr>\n",
       "      <th>0</th>\n",
       "      <td>0.0</td>\n",
       "      <td>0.0</td>\n",
       "      <td>1.0</td>\n",
       "      <td>0.0</td>\n",
       "      <td>0.0</td>\n",
       "      <td>0.0</td>\n",
       "      <td>0.0</td>\n",
       "      <td>0.0</td>\n",
       "      <td>0.0</td>\n",
       "      <td>0.0</td>\n",
       "      <td>...</td>\n",
       "      <td>0.0</td>\n",
       "      <td>0.0</td>\n",
       "      <td>0.0</td>\n",
       "      <td>0.0</td>\n",
       "      <td>0.0</td>\n",
       "      <td>0.0</td>\n",
       "      <td>0.0</td>\n",
       "      <td>1.0</td>\n",
       "      <td>0.0</td>\n",
       "      <td>0.0</td>\n",
       "    </tr>\n",
       "    <tr>\n",
       "      <th>1</th>\n",
       "      <td>0.0</td>\n",
       "      <td>0.0</td>\n",
       "      <td>1.0</td>\n",
       "      <td>0.0</td>\n",
       "      <td>0.0</td>\n",
       "      <td>0.0</td>\n",
       "      <td>0.0</td>\n",
       "      <td>1.0</td>\n",
       "      <td>0.0</td>\n",
       "      <td>0.0</td>\n",
       "      <td>...</td>\n",
       "      <td>0.0</td>\n",
       "      <td>0.0</td>\n",
       "      <td>0.0</td>\n",
       "      <td>0.0</td>\n",
       "      <td>0.0</td>\n",
       "      <td>0.0</td>\n",
       "      <td>0.0</td>\n",
       "      <td>1.0</td>\n",
       "      <td>0.0</td>\n",
       "      <td>0.0</td>\n",
       "    </tr>\n",
       "    <tr>\n",
       "      <th>2</th>\n",
       "      <td>0.0</td>\n",
       "      <td>0.0</td>\n",
       "      <td>1.0</td>\n",
       "      <td>0.0</td>\n",
       "      <td>0.0</td>\n",
       "      <td>0.0</td>\n",
       "      <td>0.0</td>\n",
       "      <td>0.0</td>\n",
       "      <td>0.0</td>\n",
       "      <td>0.0</td>\n",
       "      <td>...</td>\n",
       "      <td>0.0</td>\n",
       "      <td>0.0</td>\n",
       "      <td>0.0</td>\n",
       "      <td>0.0</td>\n",
       "      <td>0.0</td>\n",
       "      <td>0.0</td>\n",
       "      <td>0.0</td>\n",
       "      <td>1.0</td>\n",
       "      <td>0.0</td>\n",
       "      <td>0.0</td>\n",
       "    </tr>\n",
       "    <tr>\n",
       "      <th>3</th>\n",
       "      <td>0.0</td>\n",
       "      <td>0.0</td>\n",
       "      <td>1.0</td>\n",
       "      <td>0.0</td>\n",
       "      <td>0.0</td>\n",
       "      <td>0.0</td>\n",
       "      <td>0.0</td>\n",
       "      <td>1.0</td>\n",
       "      <td>0.0</td>\n",
       "      <td>0.0</td>\n",
       "      <td>...</td>\n",
       "      <td>0.0</td>\n",
       "      <td>0.0</td>\n",
       "      <td>0.0</td>\n",
       "      <td>0.0</td>\n",
       "      <td>0.0</td>\n",
       "      <td>0.0</td>\n",
       "      <td>0.0</td>\n",
       "      <td>1.0</td>\n",
       "      <td>0.0</td>\n",
       "      <td>0.0</td>\n",
       "    </tr>\n",
       "    <tr>\n",
       "      <th>4</th>\n",
       "      <td>0.0</td>\n",
       "      <td>0.0</td>\n",
       "      <td>1.0</td>\n",
       "      <td>0.0</td>\n",
       "      <td>0.0</td>\n",
       "      <td>0.0</td>\n",
       "      <td>0.0</td>\n",
       "      <td>0.0</td>\n",
       "      <td>0.0</td>\n",
       "      <td>0.0</td>\n",
       "      <td>...</td>\n",
       "      <td>0.0</td>\n",
       "      <td>0.0</td>\n",
       "      <td>0.0</td>\n",
       "      <td>0.0</td>\n",
       "      <td>0.0</td>\n",
       "      <td>0.0</td>\n",
       "      <td>0.0</td>\n",
       "      <td>1.0</td>\n",
       "      <td>0.0</td>\n",
       "      <td>0.0</td>\n",
       "    </tr>\n",
       "  </tbody>\n",
       "</table>\n",
       "<p>5 rows × 82 columns</p>\n",
       "</div>"
      ],
      "text/plain": [
       "   x0_Federal-gov  x0_Local-gov  x0_Private  x0_Self-emp-inc  \\\n",
       "0             0.0           0.0         1.0              0.0   \n",
       "1             0.0           0.0         1.0              0.0   \n",
       "2             0.0           0.0         1.0              0.0   \n",
       "3             0.0           0.0         1.0              0.0   \n",
       "4             0.0           0.0         1.0              0.0   \n",
       "\n",
       "   x0_Self-emp-not-inc  x0_State-gov  x0_Without-pay  x1_Divorced  \\\n",
       "0                  0.0           0.0             0.0          0.0   \n",
       "1                  0.0           0.0             0.0          1.0   \n",
       "2                  0.0           0.0             0.0          0.0   \n",
       "3                  0.0           0.0             0.0          1.0   \n",
       "4                  0.0           0.0             0.0          0.0   \n",
       "\n",
       "   x1_Married-AF-spouse  x1_Married-civ-spouse  ...  x6_Portugal  \\\n",
       "0                   0.0                    0.0  ...          0.0   \n",
       "1                   0.0                    0.0  ...          0.0   \n",
       "2                   0.0                    0.0  ...          0.0   \n",
       "3                   0.0                    0.0  ...          0.0   \n",
       "4                   0.0                    0.0  ...          0.0   \n",
       "\n",
       "   x6_Puerto-Rico  x6_Scotland  x6_South  x6_Taiwan  x6_Thailand  \\\n",
       "0             0.0          0.0       0.0        0.0          0.0   \n",
       "1             0.0          0.0       0.0        0.0          0.0   \n",
       "2             0.0          0.0       0.0        0.0          0.0   \n",
       "3             0.0          0.0       0.0        0.0          0.0   \n",
       "4             0.0          0.0       0.0        0.0          0.0   \n",
       "\n",
       "   x6_Trinadad&Tobago  x6_United-States  x6_Vietnam  x6_Yugoslavia  \n",
       "0                 0.0               1.0         0.0            0.0  \n",
       "1                 0.0               1.0         0.0            0.0  \n",
       "2                 0.0               1.0         0.0            0.0  \n",
       "3                 0.0               1.0         0.0            0.0  \n",
       "4                 0.0               1.0         0.0            0.0  \n",
       "\n",
       "[5 rows x 82 columns]"
      ]
     },
     "execution_count": 35,
     "metadata": {},
     "output_type": "execute_result"
    }
   ],
   "source": [
    "df_onehot.head()"
   ]
  },
  {
   "cell_type": "code",
   "execution_count": 36,
   "id": "71232f44",
   "metadata": {},
   "outputs": [
    {
     "data": {
      "text/plain": [
       "MinMaxScaler()"
      ]
     },
     "execution_count": 36,
     "metadata": {},
     "output_type": "execute_result"
    }
   ],
   "source": [
    "# Scale the Numerical Dataset\n",
    "minmax = MinMaxScaler()\n",
    "minmax.fit(df1[num_cols])"
   ]
  },
  {
   "cell_type": "code",
   "execution_count": 37,
   "id": "fc37a532",
   "metadata": {},
   "outputs": [],
   "source": [
    "scale_np = minmax.transform(df1[num_cols])"
   ]
  },
  {
   "cell_type": "code",
   "execution_count": 38,
   "id": "da944fb1",
   "metadata": {},
   "outputs": [
    {
     "data": {
      "text/plain": [
       "(30162, 6)"
      ]
     },
     "execution_count": 38,
     "metadata": {},
     "output_type": "execute_result"
    }
   ],
   "source": [
    "scale_np.shape"
   ]
  },
  {
   "cell_type": "code",
   "execution_count": 39,
   "id": "daae080f",
   "metadata": {},
   "outputs": [],
   "source": [
    "#create the dataframe of scaling dataset\n",
    "df_scale = pd.DataFrame(scale_np,columns=num_cols)"
   ]
  },
  {
   "cell_type": "code",
   "execution_count": 40,
   "id": "06eb8bd7",
   "metadata": {},
   "outputs": [
    {
     "data": {
      "text/plain": [
       "(30162, 6)"
      ]
     },
     "execution_count": 40,
     "metadata": {},
     "output_type": "execute_result"
    }
   ],
   "source": [
    "df_scale.shape"
   ]
  },
  {
   "cell_type": "code",
   "execution_count": 41,
   "id": "a23575b8",
   "metadata": {},
   "outputs": [
    {
     "data": {
      "text/html": [
       "<div>\n",
       "<style scoped>\n",
       "    .dataframe tbody tr th:only-of-type {\n",
       "        vertical-align: middle;\n",
       "    }\n",
       "\n",
       "    .dataframe tbody tr th {\n",
       "        vertical-align: top;\n",
       "    }\n",
       "\n",
       "    .dataframe thead th {\n",
       "        text-align: right;\n",
       "    }\n",
       "</style>\n",
       "<table border=\"1\" class=\"dataframe\">\n",
       "  <thead>\n",
       "    <tr style=\"text-align: right;\">\n",
       "      <th></th>\n",
       "      <th>age</th>\n",
       "      <th>fnlwgt</th>\n",
       "      <th>education.num</th>\n",
       "      <th>capital.gain</th>\n",
       "      <th>capital.loss</th>\n",
       "      <th>hours.per.week</th>\n",
       "    </tr>\n",
       "  </thead>\n",
       "  <tbody>\n",
       "    <tr>\n",
       "      <th>0</th>\n",
       "      <td>0.890411</td>\n",
       "      <td>0.080970</td>\n",
       "      <td>0.533333</td>\n",
       "      <td>0.0</td>\n",
       "      <td>1.000000</td>\n",
       "      <td>0.173469</td>\n",
       "    </tr>\n",
       "    <tr>\n",
       "      <th>1</th>\n",
       "      <td>0.506849</td>\n",
       "      <td>0.086061</td>\n",
       "      <td>0.200000</td>\n",
       "      <td>0.0</td>\n",
       "      <td>0.895317</td>\n",
       "      <td>0.397959</td>\n",
       "    </tr>\n",
       "    <tr>\n",
       "      <th>2</th>\n",
       "      <td>0.328767</td>\n",
       "      <td>0.170568</td>\n",
       "      <td>0.600000</td>\n",
       "      <td>0.0</td>\n",
       "      <td>0.895317</td>\n",
       "      <td>0.397959</td>\n",
       "    </tr>\n",
       "    <tr>\n",
       "      <th>3</th>\n",
       "      <td>0.232877</td>\n",
       "      <td>0.138072</td>\n",
       "      <td>0.533333</td>\n",
       "      <td>0.0</td>\n",
       "      <td>0.865473</td>\n",
       "      <td>0.448980</td>\n",
       "    </tr>\n",
       "    <tr>\n",
       "      <th>4</th>\n",
       "      <td>0.287671</td>\n",
       "      <td>0.093024</td>\n",
       "      <td>0.333333</td>\n",
       "      <td>0.0</td>\n",
       "      <td>0.865473</td>\n",
       "      <td>0.397959</td>\n",
       "    </tr>\n",
       "  </tbody>\n",
       "</table>\n",
       "</div>"
      ],
      "text/plain": [
       "        age    fnlwgt  education.num  capital.gain  capital.loss  \\\n",
       "0  0.890411  0.080970       0.533333           0.0      1.000000   \n",
       "1  0.506849  0.086061       0.200000           0.0      0.895317   \n",
       "2  0.328767  0.170568       0.600000           0.0      0.895317   \n",
       "3  0.232877  0.138072       0.533333           0.0      0.865473   \n",
       "4  0.287671  0.093024       0.333333           0.0      0.865473   \n",
       "\n",
       "   hours.per.week  \n",
       "0        0.173469  \n",
       "1        0.397959  \n",
       "2        0.397959  \n",
       "3        0.448980  \n",
       "4        0.397959  "
      ]
     },
     "execution_count": 41,
     "metadata": {},
     "output_type": "execute_result"
    }
   ],
   "source": [
    "df_scale.head()"
   ]
  },
  {
   "cell_type": "code",
   "execution_count": 42,
   "id": "dd03aa15",
   "metadata": {},
   "outputs": [],
   "source": [
    "# Concat the df_scale and df_onehot\n",
    "X = pd.concat([df_onehot,df_scale],axis=1).values"
   ]
  },
  {
   "cell_type": "code",
   "execution_count": 43,
   "id": "29068216",
   "metadata": {},
   "outputs": [],
   "source": [
    "# Encode the target \"Income\"\n",
    "y = LabelEncoder().fit_transform(df1[\"income\"])"
   ]
  },
  {
   "cell_type": "code",
   "execution_count": 44,
   "id": "1c07f260",
   "metadata": {},
   "outputs": [
    {
     "data": {
      "text/plain": [
       "Counter({0: 22654, 1: 7508})"
      ]
     },
     "execution_count": 44,
     "metadata": {},
     "output_type": "execute_result"
    }
   ],
   "source": [
    "collections.Counter(y)"
   ]
  },
  {
   "cell_type": "code",
   "execution_count": 45,
   "id": "4d123680",
   "metadata": {},
   "outputs": [
    {
     "name": "stdout",
     "output_type": "stream",
     "text": [
      "(30162, 88)\n",
      "(30162,)\n"
     ]
    }
   ],
   "source": [
    "print(X.shape)\n",
    "print(y.shape)"
   ]
  },
  {
   "cell_type": "markdown",
   "id": "0b42f091",
   "metadata": {},
   "source": [
    "We will use cross validation using the RepeatedStratifiedKFold\".\n",
    "\n",
    "- As our dataset is imbalanced so K-fold wll not work correctly.\n",
    "- In StratifiedKFold ,class distribution in the dataset is preserved in the training and test splits.\n",
    "- Lets the ratio of class 0 to class 1 is 3/1(in our case 22654/7508 =3/1 ) . \n",
    "- If we set k=4 \n",
    "\n",
    "    - Then the test sets include 1 data points from class1 and 3 data point from class0. \n",
    "    - Training sets include 9 data points from class0 and 3 data points from class1.\n",
    "\n",
    "- Stratified means that each fold will contain the same mixture of examples by class, that is about 75 percent to 25 percent for the majority and minority classes respectively. Repeated means that the evaluation process will be performed multiple times to help avoid fluke results and better capture the variance of the chosen model. We will use three repeats.\n",
    "\n",
    "\n",
    "This means a single model will be fit and evaluated 4 * 3 or 12 times and the mean and standard deviation of these runs will be reported.\n",
    "\n",
    "- This can be achieved using the RepeatedStratifiedKFold scikit-learn class.\n",
    "\n",
    "- Please refer below blog to get the difference between k-fold and StratifiedKFold\n",
    "https://towardsdatascience.com/how-to-train-test-split-kfold-vs-stratifiedkfold-281767b93869"
   ]
  },
  {
   "cell_type": "markdown",
   "id": "921e1251",
   "metadata": {},
   "source": [
    "- A typical and simplified data science workflow would like\n",
    "- Get the training data\n",
    "- Clean/preprocess/transform the data\n",
    "- Train a machine learning model\n",
    "- Evaluate and optimise the model\n",
    "- Clean/preprocess/transform new data\n",
    "- Fit the model on new data to make predictions."
   ]
  },
  {
   "cell_type": "code",
   "execution_count": 46,
   "id": "5e4717dc",
   "metadata": {},
   "outputs": [],
   "source": [
    "# Create the classifier model using the KNN\n",
    "knncf = KNeighborsClassifier()"
   ]
  },
  {
   "cell_type": "code",
   "execution_count": 47,
   "id": "407f305f",
   "metadata": {},
   "outputs": [],
   "source": [
    "# Training the model using the \"RepeatedStratifiedKFold\" Cross Validation\n",
    "\n",
    "# Define the Model Evaluation Function\n",
    "\n",
    "def model_evaluate(X,y,model):\n",
    "    # Define Evaluation Procedure\n",
    "    cv_stkfold = RepeatedStratifiedKFold(n_splits=8,n_repeats=3,random_state=42)\n",
    "    # evaluate the model\n",
    "    model_score = cross_val_score(model,X,y,scoring='accuracy',cv = cv_stkfold)\n",
    "    return model_score"
   ]
  },
  {
   "cell_type": "code",
   "execution_count": 48,
   "id": "22586703",
   "metadata": {},
   "outputs": [],
   "source": [
    "scores = model_evaluate(X,y,knncf)"
   ]
  },
  {
   "cell_type": "code",
   "execution_count": 49,
   "id": "0fc81030",
   "metadata": {},
   "outputs": [
    {
     "name": "stdout",
     "output_type": "stream",
     "text": [
      "model mean score: \n",
      "  0.8234092295640728\n"
     ]
    }
   ],
   "source": [
    "print(\"model mean score: \\n \",np.mean(scores))"
   ]
  }
 ],
 "metadata": {
  "kernelspec": {
   "display_name": "Python 3 (ipykernel)",
   "language": "python",
   "name": "python3"
  },
  "language_info": {
   "codemirror_mode": {
    "name": "ipython",
    "version": 3
   },
   "file_extension": ".py",
   "mimetype": "text/x-python",
   "name": "python",
   "nbconvert_exporter": "python",
   "pygments_lexer": "ipython3",
   "version": "3.8.11"
  }
 },
 "nbformat": 4,
 "nbformat_minor": 5
}
