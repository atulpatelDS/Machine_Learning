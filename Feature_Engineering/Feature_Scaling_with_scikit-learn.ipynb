{
 "cells": [
  {
   "cell_type": "markdown",
   "metadata": {},
   "source": [
    "## Feature Scaling with scikit-learn\n",
    "\n",
    "In this post I will explain 3 methods of feature scaling that are implemented in scikit-learn."
   ]
  },
  {
   "cell_type": "markdown",
   "metadata": {},
   "source": [
    "1. StandardScaler\n",
    "2. MinMaxScaler\n",
    "3. RobustScaler\n",
    "4. Normalizer"
   ]
  },
  {
   "cell_type": "markdown",
   "metadata": {},
   "source": [
    "#### Standard Scaler\n",
    "\n",
    "The StandardScaler assumes your data is normally distributed within each feature and will scale them such that the distribution is now centred around 0, with a standard deviation of 1.\n",
    "\n",
    "The mean and standard deviation are calculated for the feature and then the feature is scaled based on:\n",
    "\n",
    "xi–mean(x) / stdev(x)\n",
    "\n",
    "If data is not normally distributed, this is not the best scaler to use.\n",
    "\n",
    "Let’s take a look at it in action:"
   ]
  },
  {
   "cell_type": "code",
   "execution_count": 3,
   "metadata": {},
   "outputs": [],
   "source": [
    "import pandas as pd\n",
    "import numpy as np\n",
    "from sklearn import preprocessing\n",
    "import matplotlib\n",
    "import matplotlib.pyplot as plt\n",
    "import seaborn as sns\n",
    "%matplotlib inline\n",
    "matplotlib.style.use(\"ggplot\")"
   ]
  },
  {
   "cell_type": "code",
   "execution_count": 4,
   "metadata": {},
   "outputs": [],
   "source": [
    "np.random.seed(1)"
   ]
  },
  {
   "cell_type": "code",
   "execution_count": 5,
   "metadata": {},
   "outputs": [],
   "source": [
    "df = pd.DataFrame({\"r1\":np.random.normal(0,2,10000),\n",
    "                  \"r2\":np.random.normal(5,3,10000),\n",
    "                  \"r3\":np.random.normal(-5,5,10000)})"
   ]
  },
  {
   "cell_type": "code",
   "execution_count": 6,
   "metadata": {},
   "outputs": [
    {
     "data": {
      "text/html": [
       "<div>\n",
       "<style scoped>\n",
       "    .dataframe tbody tr th:only-of-type {\n",
       "        vertical-align: middle;\n",
       "    }\n",
       "\n",
       "    .dataframe tbody tr th {\n",
       "        vertical-align: top;\n",
       "    }\n",
       "\n",
       "    .dataframe thead th {\n",
       "        text-align: right;\n",
       "    }\n",
       "</style>\n",
       "<table border=\"1\" class=\"dataframe\">\n",
       "  <thead>\n",
       "    <tr style=\"text-align: right;\">\n",
       "      <th></th>\n",
       "      <th>r1</th>\n",
       "      <th>r2</th>\n",
       "      <th>r3</th>\n",
       "    </tr>\n",
       "  </thead>\n",
       "  <tbody>\n",
       "    <tr>\n",
       "      <th>0</th>\n",
       "      <td>3.248691</td>\n",
       "      <td>4.632578</td>\n",
       "      <td>-14.657819</td>\n",
       "    </tr>\n",
       "    <tr>\n",
       "      <th>1</th>\n",
       "      <td>-1.223513</td>\n",
       "      <td>5.684509</td>\n",
       "      <td>-5.802131</td>\n",
       "    </tr>\n",
       "    <tr>\n",
       "      <th>2</th>\n",
       "      <td>-1.056344</td>\n",
       "      <td>3.943085</td>\n",
       "      <td>-9.161098</td>\n",
       "    </tr>\n",
       "    <tr>\n",
       "      <th>3</th>\n",
       "      <td>-2.145937</td>\n",
       "      <td>2.508340</td>\n",
       "      <td>-6.030558</td>\n",
       "    </tr>\n",
       "    <tr>\n",
       "      <th>4</th>\n",
       "      <td>1.730815</td>\n",
       "      <td>4.216731</td>\n",
       "      <td>0.131275</td>\n",
       "    </tr>\n",
       "    <tr>\n",
       "      <th>...</th>\n",
       "      <td>...</td>\n",
       "      <td>...</td>\n",
       "      <td>...</td>\n",
       "    </tr>\n",
       "    <tr>\n",
       "      <th>9995</th>\n",
       "      <td>0.145917</td>\n",
       "      <td>2.170375</td>\n",
       "      <td>-1.550878</td>\n",
       "    </tr>\n",
       "    <tr>\n",
       "      <th>9996</th>\n",
       "      <td>0.978204</td>\n",
       "      <td>7.346647</td>\n",
       "      <td>-2.235902</td>\n",
       "    </tr>\n",
       "    <tr>\n",
       "      <th>9997</th>\n",
       "      <td>-2.028288</td>\n",
       "      <td>12.225301</td>\n",
       "      <td>-5.419191</td>\n",
       "    </tr>\n",
       "    <tr>\n",
       "      <th>9998</th>\n",
       "      <td>-0.125392</td>\n",
       "      <td>7.648357</td>\n",
       "      <td>-11.417673</td>\n",
       "    </tr>\n",
       "    <tr>\n",
       "      <th>9999</th>\n",
       "      <td>-2.875740</td>\n",
       "      <td>4.701211</td>\n",
       "      <td>-3.288438</td>\n",
       "    </tr>\n",
       "  </tbody>\n",
       "</table>\n",
       "<p>10000 rows × 3 columns</p>\n",
       "</div>"
      ],
      "text/plain": [
       "            r1         r2         r3\n",
       "0     3.248691   4.632578 -14.657819\n",
       "1    -1.223513   5.684509  -5.802131\n",
       "2    -1.056344   3.943085  -9.161098\n",
       "3    -2.145937   2.508340  -6.030558\n",
       "4     1.730815   4.216731   0.131275\n",
       "...        ...        ...        ...\n",
       "9995  0.145917   2.170375  -1.550878\n",
       "9996  0.978204   7.346647  -2.235902\n",
       "9997 -2.028288  12.225301  -5.419191\n",
       "9998 -0.125392   7.648357 -11.417673\n",
       "9999 -2.875740   4.701211  -3.288438\n",
       "\n",
       "[10000 rows x 3 columns]"
      ]
     },
     "execution_count": 6,
     "metadata": {},
     "output_type": "execute_result"
    }
   ],
   "source": [
    "df"
   ]
  },
  {
   "cell_type": "code",
   "execution_count": 9,
   "metadata": {},
   "outputs": [],
   "source": [
    "scaler = preprocessing.StandardScaler()\n",
    "X_scale = scaler.fit_transform(df)"
   ]
  },
  {
   "cell_type": "code",
   "execution_count": 10,
   "metadata": {},
   "outputs": [
    {
     "data": {
      "text/plain": [
       "numpy.ndarray"
      ]
     },
     "execution_count": 10,
     "metadata": {},
     "output_type": "execute_result"
    }
   ],
   "source": [
    "type(X_scale)"
   ]
  },
  {
   "cell_type": "code",
   "execution_count": 11,
   "metadata": {},
   "outputs": [],
   "source": [
    "## Create numpy array\n",
    "df_scale = pd.DataFrame(X_scale,columns=[\"C1\",\"C2\",\"C3\"])"
   ]
  },
  {
   "cell_type": "code",
   "execution_count": 12,
   "metadata": {},
   "outputs": [
    {
     "data": {
      "text/html": [
       "<div>\n",
       "<style scoped>\n",
       "    .dataframe tbody tr th:only-of-type {\n",
       "        vertical-align: middle;\n",
       "    }\n",
       "\n",
       "    .dataframe tbody tr th {\n",
       "        vertical-align: top;\n",
       "    }\n",
       "\n",
       "    .dataframe thead th {\n",
       "        text-align: right;\n",
       "    }\n",
       "</style>\n",
       "<table border=\"1\" class=\"dataframe\">\n",
       "  <thead>\n",
       "    <tr style=\"text-align: right;\">\n",
       "      <th></th>\n",
       "      <th>C1</th>\n",
       "      <th>C2</th>\n",
       "      <th>C3</th>\n",
       "    </tr>\n",
       "  </thead>\n",
       "  <tbody>\n",
       "    <tr>\n",
       "      <th>0</th>\n",
       "      <td>1.616535</td>\n",
       "      <td>-0.131753</td>\n",
       "      <td>-1.924757</td>\n",
       "    </tr>\n",
       "    <tr>\n",
       "      <th>1</th>\n",
       "      <td>-0.622285</td>\n",
       "      <td>0.218475</td>\n",
       "      <td>-0.146416</td>\n",
       "    </tr>\n",
       "    <tr>\n",
       "      <th>2</th>\n",
       "      <td>-0.538598</td>\n",
       "      <td>-0.361311</td>\n",
       "      <td>-0.820942</td>\n",
       "    </tr>\n",
       "    <tr>\n",
       "      <th>3</th>\n",
       "      <td>-1.084057</td>\n",
       "      <td>-0.838991</td>\n",
       "      <td>-0.192287</td>\n",
       "    </tr>\n",
       "    <tr>\n",
       "      <th>4</th>\n",
       "      <td>0.856675</td>\n",
       "      <td>-0.270204</td>\n",
       "      <td>1.045092</td>\n",
       "    </tr>\n",
       "    <tr>\n",
       "      <th>...</th>\n",
       "      <td>...</td>\n",
       "      <td>...</td>\n",
       "      <td>...</td>\n",
       "    </tr>\n",
       "    <tr>\n",
       "      <th>9995</th>\n",
       "      <td>0.063263</td>\n",
       "      <td>-0.951512</td>\n",
       "      <td>0.707293</td>\n",
       "    </tr>\n",
       "    <tr>\n",
       "      <th>9996</th>\n",
       "      <td>0.479912</td>\n",
       "      <td>0.771862</td>\n",
       "      <td>0.569731</td>\n",
       "    </tr>\n",
       "    <tr>\n",
       "      <th>9997</th>\n",
       "      <td>-1.025161</td>\n",
       "      <td>2.396149</td>\n",
       "      <td>-0.069516</td>\n",
       "    </tr>\n",
       "    <tr>\n",
       "      <th>9998</th>\n",
       "      <td>-0.072557</td>\n",
       "      <td>0.872313</td>\n",
       "      <td>-1.274092</td>\n",
       "    </tr>\n",
       "    <tr>\n",
       "      <th>9999</th>\n",
       "      <td>-1.449402</td>\n",
       "      <td>-0.108902</td>\n",
       "      <td>0.358368</td>\n",
       "    </tr>\n",
       "  </tbody>\n",
       "</table>\n",
       "<p>10000 rows × 3 columns</p>\n",
       "</div>"
      ],
      "text/plain": [
       "            C1        C2        C3\n",
       "0     1.616535 -0.131753 -1.924757\n",
       "1    -0.622285  0.218475 -0.146416\n",
       "2    -0.538598 -0.361311 -0.820942\n",
       "3    -1.084057 -0.838991 -0.192287\n",
       "4     0.856675 -0.270204  1.045092\n",
       "...        ...       ...       ...\n",
       "9995  0.063263 -0.951512  0.707293\n",
       "9996  0.479912  0.771862  0.569731\n",
       "9997 -1.025161  2.396149 -0.069516\n",
       "9998 -0.072557  0.872313 -1.274092\n",
       "9999 -1.449402 -0.108902  0.358368\n",
       "\n",
       "[10000 rows x 3 columns]"
      ]
     },
     "execution_count": 12,
     "metadata": {},
     "output_type": "execute_result"
    }
   ],
   "source": [
    "df_scale"
   ]
  },
  {
   "cell_type": "code",
   "execution_count": 35,
   "metadata": {},
   "outputs": [
    {
     "data": {
      "image/png": "[encoded data removed]",
      "text/plain": [
       "<Figure size 720x432 with 2 Axes>"
      ]
     },
     "metadata": {},
     "output_type": "display_data"
    }
   ],
   "source": [
    "### Plot the graph on parallely\n",
    "fig,(ax1,ax2) = plt.subplots(ncols = 2, figsize = (10,6))\n",
    "fig1.set_title(\"Before Scalling\")\n",
    "sns.kdeplot(df[\"r1\"],ax = ax1)\n",
    "sns.kdeplot(df[\"r2\"],ax = ax1)\n",
    "sns.kdeplot(df[\"r3\"],ax = ax1)\n",
    "fig2.set_title(\"After Scalling\")\n",
    "sns.kdeplot(df_scale[\"C1\"],ax = ax2)\n",
    "sns.kdeplot(df_scale[\"C2\"],ax = ax2)\n",
    "sns.kdeplot(df_scale[\"C3\"],ax = ax2)\n",
    "plt.show()"
   ]
  },
  {
   "cell_type": "code",
   "execution_count": 28,
   "metadata": {},
   "outputs": [],
   "source": [
    "sns.kdeplot(df_scale[\"C1\"],ax = fig1)\n",
    "plt.show()"
   ]
  },
  {
   "cell_type": "code",
   "execution_count": null,
   "metadata": {},
   "outputs": [],
   "source": []
  }
 ],
 "metadata": {
  "kernelspec": {
   "display_name": "Python 3",
   "language": "python",
   "name": "python3"
  },
  "language_info": {
   "codemirror_mode": {
    "name": "ipython",
    "version": 3
   },
   "file_extension": ".py",
   "mimetype": "text/x-python",
   "name": "python",
   "nbconvert_exporter": "python",
   "pygments_lexer": "ipython3",
   "version": "3.7.7"
  }
 },
 "nbformat": 4,
 "nbformat_minor": 4
}
